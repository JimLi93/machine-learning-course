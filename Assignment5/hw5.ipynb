{
  "nbformat": 4,
  "nbformat_minor": 0,
  "metadata": {
    "colab": {
      "provenance": []
    },
    "kernelspec": {
      "name": "python3",
      "display_name": "Python 3"
    },
    "language_info": {
      "name": "python"
    },
    "accelerator": "GPU",
    "gpuClass": "standard"
  },
  "cells": [
    {
      "cell_type": "markdown",
      "source": [
        "(optional)"
      ],
      "metadata": {
        "id": "4hiUrTp2g31d"
      }
    },
    {
      "cell_type": "code",
      "execution_count": 131,
      "metadata": {
        "id": "02ixxyXJQRNO",
        "colab": {
          "base_uri": "https://localhost:8080/"
        },
        "outputId": "991bddc2-ceed-4ef0-9744-78694bcc0630"
      },
      "outputs": [
        {
          "output_type": "stream",
          "name": "stdout",
          "text": [
            "Drive already mounted at /content/drive; to attempt to forcibly remount, call drive.mount(\"/content/drive\", force_remount=True).\n"
          ]
        }
      ],
      "source": [
        "from google.colab import drive\n",
        "import os\n",
        "drive.mount('/content/drive')"
      ]
    },
    {
      "cell_type": "code",
      "source": [
        "#os.chdir('...')"
      ],
      "metadata": {
        "id": "cwb1U7JElJPa"
      },
      "execution_count": 132,
      "outputs": []
    },
    {
      "cell_type": "markdown",
      "source": [
        "# **HW5: Brain signal classification**\n",
        "In *HW 5*, you need to finish:\n",
        "\n",
        "1.  Model Implementation Part: Implement LSTM and EEGNet models to predict the label of each samples.\n",
        "\n",
        "2.  Model Competition Part: Implementing a model to reach better accuracy performance."
      ],
      "metadata": {
        "id": "CQX9eCfIcRAn"
      }
    },
    {
      "cell_type": "code",
      "source": [
        "import numpy as np\n",
        "import os\n",
        "import math\n",
        "import csv\n",
        "import matplotlib.pyplot as plt\n",
        "# Import the packages you need here\n",
        "import tensorflow as tf\n",
        "from tensorflow.keras import layers, models"
      ],
      "metadata": {
        "id": "BKJDTLRvQrnY"
      },
      "execution_count": 133,
      "outputs": []
    },
    {
      "cell_type": "code",
      "source": [
        "data = np.load('data.npz')\n",
        "label = np.load('label.npz')"
      ],
      "metadata": {
        "id": "ZQQylnWHQ4yy"
      },
      "execution_count": 134,
      "outputs": []
    },
    {
      "cell_type": "code",
      "source": [
        "X_train = data['X_train']\n",
        "X_val = data['X_val']\n",
        "X_test = data['X_test']\n",
        "\n",
        "Y_train = label['Y_train']\n",
        "Y_val = label['Y_val']"
      ],
      "metadata": {
        "id": "3Ype-nIkQ-bf"
      },
      "execution_count": 135,
      "outputs": []
    },
    {
      "cell_type": "code",
      "source": [
        "X_train.shape, X_val.shape, X_test.shape"
      ],
      "metadata": {
        "id": "xjPvKG_im7mV",
        "colab": {
          "base_uri": "https://localhost:8080/"
        },
        "outputId": "8ada07ce-6a3a-4920-9627-bd7ff6969a6a"
      },
      "execution_count": 136,
      "outputs": [
        {
          "output_type": "execute_result",
          "data": {
            "text/plain": [
              "((604, 22, 200), (152, 22, 200), (190, 22, 200))"
            ]
          },
          "metadata": {},
          "execution_count": 136
        }
      ]
    },
    {
      "cell_type": "code",
      "source": [
        "Y_train.shape, Y_val.shape"
      ],
      "metadata": {
        "colab": {
          "base_uri": "https://localhost:8080/"
        },
        "id": "X7apA2_-lBjF",
        "outputId": "b278c93c-fa27-49aa-c6d3-c6121b757931"
      },
      "execution_count": 137,
      "outputs": [
        {
          "output_type": "execute_result",
          "data": {
            "text/plain": [
              "((604, 1), (152, 1))"
            ]
          },
          "metadata": {},
          "execution_count": 137
        }
      ]
    },
    {
      "cell_type": "code",
      "source": [
        "new_y_train = np.zeros((604,6))\n",
        "new_y_val = np.zeros((152,6))\n",
        "for i in range(604):\n",
        "  new_y_train[i,int(Y_train[i,0])] = 1\n",
        "for i in range(152):\n",
        "  new_y_val[i,int(Y_val[i,0])] = 1"
      ],
      "metadata": {
        "id": "EoCGoVAjRa1Y"
      },
      "execution_count": 138,
      "outputs": []
    },
    {
      "cell_type": "code",
      "source": [
        "print(new_y_train.shape)"
      ],
      "metadata": {
        "colab": {
          "base_uri": "https://localhost:8080/"
        },
        "id": "cvExZbdJSjzI",
        "outputId": "14e8ae4f-bf3e-4dc2-8f2a-78a7173accf6"
      },
      "execution_count": 139,
      "outputs": [
        {
          "output_type": "stream",
          "name": "stdout",
          "text": [
            "(604, 6)\n"
          ]
        }
      ]
    },
    {
      "cell_type": "markdown",
      "source": [
        "## Model Implementation Part"
      ],
      "metadata": {
        "id": "diYYd3e7eopi"
      }
    },
    {
      "cell_type": "markdown",
      "source": [
        "### LSTM"
      ],
      "metadata": {
        "id": "97BpHWOAevWJ"
      }
    },
    {
      "cell_type": "code",
      "source": [
        "# Build your model here:\n",
        "model = models.Sequential()\n",
        "model.add(layers.LSTM(1000, return_sequences=True, input_shape = (22,200)))\n",
        "model.add(layers.Dropout(0.2))\n",
        "model.add(layers.LSTM(500))\n",
        "model.add(layers.Dropout(0.2))\n",
        "model.add(layers.Dense(200, activation = 'relu'))\n",
        "model.add(layers.Dense(100, activation = 'relu'))\n",
        "model.add(layers.Dense(6, activation = 'softmax'))\n"
      ],
      "metadata": {
        "id": "xxFGe6YRe7qn"
      },
      "execution_count": 140,
      "outputs": []
    },
    {
      "cell_type": "code",
      "source": [
        "model.summary()"
      ],
      "metadata": {
        "colab": {
          "base_uri": "https://localhost:8080/"
        },
        "id": "ES2-Y_dCPmb7",
        "outputId": "d2b7635f-8118-4901-d131-27b1574bb860"
      },
      "execution_count": 141,
      "outputs": [
        {
          "output_type": "stream",
          "name": "stdout",
          "text": [
            "Model: \"sequential_15\"\n",
            "_________________________________________________________________\n",
            " Layer (type)                Output Shape              Param #   \n",
            "=================================================================\n",
            " lstm_12 (LSTM)              (None, 22, 1000)          4804000   \n",
            "                                                                 \n",
            " dropout_26 (Dropout)        (None, 22, 1000)          0         \n",
            "                                                                 \n",
            " lstm_13 (LSTM)              (None, 500)               3002000   \n",
            "                                                                 \n",
            " dropout_27 (Dropout)        (None, 500)               0         \n",
            "                                                                 \n",
            " dense_23 (Dense)            (None, 200)               100200    \n",
            "                                                                 \n",
            " dense_24 (Dense)            (None, 100)               20100     \n",
            "                                                                 \n",
            " dense_25 (Dense)            (None, 6)                 606       \n",
            "                                                                 \n",
            "=================================================================\n",
            "Total params: 7,926,906\n",
            "Trainable params: 7,926,906\n",
            "Non-trainable params: 0\n",
            "_________________________________________________________________\n"
          ]
        }
      ]
    },
    {
      "cell_type": "code",
      "source": [
        "model.compile(optimizer='adam', loss = 'categorical_crossentropy', metrics = ['accuracy'])"
      ],
      "metadata": {
        "id": "nS9J_xiDPqcP"
      },
      "execution_count": 142,
      "outputs": []
    },
    {
      "cell_type": "code",
      "source": [
        "history = model.fit(X_train, new_y_train, epochs=20, validation_data=(X_val, new_y_val))"
      ],
      "metadata": {
        "colab": {
          "base_uri": "https://localhost:8080/"
        },
        "id": "tV4U3wbNQUSn",
        "outputId": "501201c6-a6e0-4994-cbcb-5c8d413399cc"
      },
      "execution_count": 143,
      "outputs": [
        {
          "output_type": "stream",
          "name": "stdout",
          "text": [
            "Epoch 1/20\n",
            "19/19 [==============================] - 4s 69ms/step - loss: 1.2536 - accuracy: 0.4636 - val_loss: 0.7618 - val_accuracy: 0.6842\n",
            "Epoch 2/20\n",
            "19/19 [==============================] - 0s 23ms/step - loss: 0.4101 - accuracy: 0.8427 - val_loss: 0.5986 - val_accuracy: 0.7895\n",
            "Epoch 3/20\n",
            "19/19 [==============================] - 0s 22ms/step - loss: 0.1454 - accuracy: 0.9619 - val_loss: 0.7588 - val_accuracy: 0.7697\n",
            "Epoch 4/20\n",
            "19/19 [==============================] - 0s 22ms/step - loss: 0.1345 - accuracy: 0.9619 - val_loss: 0.5537 - val_accuracy: 0.8224\n",
            "Epoch 5/20\n",
            "19/19 [==============================] - 0s 22ms/step - loss: 0.0831 - accuracy: 0.9752 - val_loss: 0.5733 - val_accuracy: 0.8224\n",
            "Epoch 6/20\n",
            "19/19 [==============================] - 0s 22ms/step - loss: 0.0377 - accuracy: 0.9901 - val_loss: 0.6198 - val_accuracy: 0.8421\n",
            "Epoch 7/20\n",
            "19/19 [==============================] - 0s 22ms/step - loss: 0.0156 - accuracy: 0.9983 - val_loss: 0.6458 - val_accuracy: 0.8355\n",
            "Epoch 8/20\n",
            "19/19 [==============================] - 0s 23ms/step - loss: 0.0056 - accuracy: 0.9967 - val_loss: 0.6948 - val_accuracy: 0.8618\n",
            "Epoch 9/20\n",
            "19/19 [==============================] - 0s 23ms/step - loss: 0.0292 - accuracy: 0.9950 - val_loss: 0.9074 - val_accuracy: 0.7632\n",
            "Epoch 10/20\n",
            "19/19 [==============================] - 0s 23ms/step - loss: 0.0168 - accuracy: 0.9950 - val_loss: 0.6812 - val_accuracy: 0.8289\n",
            "Epoch 11/20\n",
            "19/19 [==============================] - 0s 22ms/step - loss: 0.0594 - accuracy: 0.9851 - val_loss: 0.5385 - val_accuracy: 0.8618\n",
            "Epoch 12/20\n",
            "19/19 [==============================] - 0s 22ms/step - loss: 0.0681 - accuracy: 0.9801 - val_loss: 0.6094 - val_accuracy: 0.8355\n",
            "Epoch 13/20\n",
            "19/19 [==============================] - 0s 23ms/step - loss: 0.0301 - accuracy: 0.9917 - val_loss: 0.6585 - val_accuracy: 0.8553\n",
            "Epoch 14/20\n",
            "19/19 [==============================] - 0s 22ms/step - loss: 0.1118 - accuracy: 0.9553 - val_loss: 0.7887 - val_accuracy: 0.8224\n",
            "Epoch 15/20\n",
            "19/19 [==============================] - 0s 24ms/step - loss: 0.1200 - accuracy: 0.9685 - val_loss: 0.7447 - val_accuracy: 0.8092\n",
            "Epoch 16/20\n",
            "19/19 [==============================] - 0s 22ms/step - loss: 0.0420 - accuracy: 0.9868 - val_loss: 1.0451 - val_accuracy: 0.7763\n",
            "Epoch 17/20\n",
            "19/19 [==============================] - 0s 24ms/step - loss: 0.0597 - accuracy: 0.9851 - val_loss: 0.5885 - val_accuracy: 0.8421\n",
            "Epoch 18/20\n",
            "19/19 [==============================] - 0s 24ms/step - loss: 0.0230 - accuracy: 0.9917 - val_loss: 0.5938 - val_accuracy: 0.8289\n",
            "Epoch 19/20\n",
            "19/19 [==============================] - 0s 23ms/step - loss: 0.0049 - accuracy: 0.9983 - val_loss: 0.7164 - val_accuracy: 0.8158\n",
            "Epoch 20/20\n",
            "19/19 [==============================] - 0s 23ms/step - loss: 0.0047 - accuracy: 0.9967 - val_loss: 0.8693 - val_accuracy: 0.8289\n"
          ]
        }
      ]
    },
    {
      "cell_type": "code",
      "source": [
        "import matplotlib.pyplot as plt\n",
        "plt.plot(history.history['loss'], label='train_loss')\n",
        "plt.plot(history.history['val_loss'], label = 'val_loss')\n",
        "plt.xlabel('Epoch')\n",
        "plt.ylabel('Accuracy')\n",
        "#plt.ylim([0.5, 1])\n",
        "plt.legend(loc='upper right')"
      ],
      "metadata": {
        "colab": {
          "base_uri": "https://localhost:8080/",
          "height": 296
        },
        "id": "qKm4Vd8wA4mJ",
        "outputId": "c8b50cb7-74fa-465d-ff3b-f5ac340800ab"
      },
      "execution_count": 144,
      "outputs": [
        {
          "output_type": "execute_result",
          "data": {
            "text/plain": [
              "<matplotlib.legend.Legend at 0x7f7f6007fc40>"
            ]
          },
          "metadata": {},
          "execution_count": 144
        },
        {
          "output_type": "display_data",
          "data": {
            "text/plain": [
              "<Figure size 432x288 with 1 Axes>"
            ],
            "image/png": "[encoded data removed]"
          },
          "metadata": {
            "needs_background": "light"
          }
        }
      ]
    },
    {
      "cell_type": "code",
      "source": [
        "pred_test = model.predict(X_test)\n",
        "pred_test = np.argmax(pred_test, axis = 1)\n",
        "pred_test = np.reshape(pred_test, (190,1))\n",
        "pred_test = pred_test.astype(int)"
      ],
      "metadata": {
        "colab": {
          "base_uri": "https://localhost:8080/"
        },
        "id": "Aixf-5g_T71i",
        "outputId": "737eea91-ffa4-4d22-bef9-3d33a9473b06"
      },
      "execution_count": 145,
      "outputs": [
        {
          "output_type": "stream",
          "name": "stdout",
          "text": [
            "6/6 [==============================] - 1s 7ms/step\n"
          ]
        }
      ]
    },
    {
      "cell_type": "code",
      "source": [
        "output = pred_test\n",
        "assert(output.shape == (190, 1))\n",
        "np.savetxt('lstm_output.csv', output, delimiter=\",\")"
      ],
      "metadata": {
        "id": "sIXH_6BHjm6w"
      },
      "execution_count": 146,
      "outputs": []
    },
    {
      "cell_type": "markdown",
      "source": [
        "### EEGNet"
      ],
      "metadata": {
        "id": "xSGZPbDHrfOr"
      }
    },
    {
      "cell_type": "code",
      "source": [
        "from keras.constraints import maxnorm"
      ],
      "metadata": {
        "id": "kuC8ZFXuda4F"
      },
      "execution_count": 147,
      "outputs": []
    },
    {
      "cell_type": "code",
      "source": [
        "# Build your model here:\n",
        "C=22\n",
        "T=200\n",
        "F1=8\n",
        "F2=16\n",
        "D=2\n",
        "#BLOCK1\n",
        "model = models.Sequential()\n",
        "model.add(layers.InputLayer(input_shape=(C,T)))\n",
        "model.add(layers.Reshape(target_shape=(C,T,1), input_shape=(1,C,T)))\n",
        "model.add(layers.Conv2D(F1 ,(1,64), padding='same',use_bias = False))\n",
        "model.add(layers.BatchNormalization())\n",
        "model.add(layers.DepthwiseConv2D(kernel_size=(C,1), padding='valid', depth_multiplier=D, depthwise_constraint=tf.keras.constraints.max_norm(1.),use_bias = False))\n",
        "model.add(layers.BatchNormalization())\n",
        "model.add(layers.Activation('elu'))\n",
        "model.add(layers.AveragePooling2D(pool_size=(1,4)))\n",
        "model.add(layers.Dropout(0.25))\n",
        "\n",
        "#BLOCK2\n",
        "model.add(layers.SeparableConv2D(F2,(1,16), padding='same', use_bias=False))\n",
        "model.add(layers.BatchNormalization())\n",
        "model.add(layers.Activation('elu'))\n",
        "model.add(layers.AveragePooling2D(pool_size=(1,8)))\n",
        "model.add(layers.Dropout(0.25))\n",
        "model.add(layers.Flatten())\n",
        "\n",
        "#CLASSIFIER\n",
        "model.add(layers.Dense(6, kernel_constraint=tf.keras.constraints.max_norm(0.25), activation='softmax'))"
      ],
      "metadata": {
        "id": "OCUyBSH1hvqG"
      },
      "execution_count": 148,
      "outputs": []
    },
    {
      "cell_type": "code",
      "source": [
        "model.summary()"
      ],
      "metadata": {
        "colab": {
          "base_uri": "https://localhost:8080/"
        },
        "id": "40AYdO2ViBAZ",
        "outputId": "4c60cc68-824d-498b-d65b-e8761fa4571a"
      },
      "execution_count": 149,
      "outputs": [
        {
          "output_type": "stream",
          "name": "stdout",
          "text": [
            "Model: \"sequential_16\"\n",
            "_________________________________________________________________\n",
            " Layer (type)                Output Shape              Param #   \n",
            "=================================================================\n",
            " reshape_9 (Reshape)         (None, 22, 200, 1)        0         \n",
            "                                                                 \n",
            " conv2d_9 (Conv2D)           (None, 22, 200, 8)        512       \n",
            "                                                                 \n",
            " batch_normalization_27 (Bat  (None, 22, 200, 8)       32        \n",
            " chNormalization)                                                \n",
            "                                                                 \n",
            " depthwise_conv2d_9 (Depthwi  (None, 1, 200, 16)       352       \n",
            " seConv2D)                                                       \n",
            "                                                                 \n",
            " batch_normalization_28 (Bat  (None, 1, 200, 16)       64        \n",
            " chNormalization)                                                \n",
            "                                                                 \n",
            " activation_18 (Activation)  (None, 1, 200, 16)        0         \n",
            "                                                                 \n",
            " average_pooling2d_18 (Avera  (None, 1, 50, 16)        0         \n",
            " gePooling2D)                                                    \n",
            "                                                                 \n",
            " dropout_28 (Dropout)        (None, 1, 50, 16)         0         \n",
            "                                                                 \n",
            " separable_conv2d_9 (Separab  (None, 1, 50, 16)        512       \n",
            " leConv2D)                                                       \n",
            "                                                                 \n",
            " batch_normalization_29 (Bat  (None, 1, 50, 16)        64        \n",
            " chNormalization)                                                \n",
            "                                                                 \n",
            " activation_19 (Activation)  (None, 1, 50, 16)         0         \n",
            "                                                                 \n",
            " average_pooling2d_19 (Avera  (None, 1, 6, 16)         0         \n",
            " gePooling2D)                                                    \n",
            "                                                                 \n",
            " dropout_29 (Dropout)        (None, 1, 6, 16)          0         \n",
            "                                                                 \n",
            " flatten_9 (Flatten)         (None, 96)                0         \n",
            "                                                                 \n",
            " dense_26 (Dense)            (None, 6)                 582       \n",
            "                                                                 \n",
            "=================================================================\n",
            "Total params: 2,118\n",
            "Trainable params: 2,038\n",
            "Non-trainable params: 80\n",
            "_________________________________________________________________\n"
          ]
        }
      ]
    },
    {
      "cell_type": "code",
      "source": [
        "model.compile(optimizer='adam', loss = 'categorical_crossentropy', metrics = ['accuracy'])"
      ],
      "metadata": {
        "id": "_F-Swg09iEPa"
      },
      "execution_count": 150,
      "outputs": []
    },
    {
      "cell_type": "code",
      "source": [
        "history = model.fit(X_train, new_y_train, epochs=20, validation_data=(X_val, new_y_val))"
      ],
      "metadata": {
        "colab": {
          "base_uri": "https://localhost:8080/"
        },
        "id": "_AkYB0omiGra",
        "outputId": "6937ce75-1ef9-47d7-a5cc-e62506986003"
      },
      "execution_count": 151,
      "outputs": [
        {
          "output_type": "stream",
          "name": "stdout",
          "text": [
            "Epoch 1/20\n",
            "19/19 [==============================] - 1s 18ms/step - loss: 1.6658 - accuracy: 0.3974 - val_loss: 1.6204 - val_accuracy: 0.5789\n",
            "Epoch 2/20\n",
            "19/19 [==============================] - 0s 9ms/step - loss: 1.3181 - accuracy: 0.5861 - val_loss: 1.4597 - val_accuracy: 0.6250\n",
            "Epoch 3/20\n",
            "19/19 [==============================] - 0s 9ms/step - loss: 1.1313 - accuracy: 0.7086 - val_loss: 1.3567 - val_accuracy: 0.7697\n",
            "Epoch 4/20\n",
            "19/19 [==============================] - 0s 9ms/step - loss: 0.9796 - accuracy: 0.7666 - val_loss: 1.2902 - val_accuracy: 0.8289\n",
            "Epoch 5/20\n",
            "19/19 [==============================] - 0s 9ms/step - loss: 0.8860 - accuracy: 0.8377 - val_loss: 1.2099 - val_accuracy: 0.8618\n",
            "Epoch 6/20\n",
            "19/19 [==============================] - 0s 9ms/step - loss: 0.8334 - accuracy: 0.8725 - val_loss: 1.1425 - val_accuracy: 0.8684\n",
            "Epoch 7/20\n",
            "19/19 [==============================] - 0s 8ms/step - loss: 0.7852 - accuracy: 0.8907 - val_loss: 1.0793 - val_accuracy: 0.8816\n",
            "Epoch 8/20\n",
            "19/19 [==============================] - 0s 8ms/step - loss: 0.7677 - accuracy: 0.8725 - val_loss: 1.0387 - val_accuracy: 0.8882\n",
            "Epoch 9/20\n",
            "19/19 [==============================] - 0s 8ms/step - loss: 0.7440 - accuracy: 0.8891 - val_loss: 0.9982 - val_accuracy: 0.8947\n",
            "Epoch 10/20\n",
            "19/19 [==============================] - 0s 8ms/step - loss: 0.7111 - accuracy: 0.9040 - val_loss: 0.9773 - val_accuracy: 0.9079\n",
            "Epoch 11/20\n",
            "19/19 [==============================] - 0s 9ms/step - loss: 0.7013 - accuracy: 0.9172 - val_loss: 0.9294 - val_accuracy: 0.9079\n",
            "Epoch 12/20\n",
            "19/19 [==============================] - 0s 8ms/step - loss: 0.6760 - accuracy: 0.9089 - val_loss: 0.8778 - val_accuracy: 0.9211\n",
            "Epoch 13/20\n",
            "19/19 [==============================] - 0s 7ms/step - loss: 0.6344 - accuracy: 0.9305 - val_loss: 0.8456 - val_accuracy: 0.9342\n",
            "Epoch 14/20\n",
            "19/19 [==============================] - 0s 8ms/step - loss: 0.6276 - accuracy: 0.9421 - val_loss: 0.8099 - val_accuracy: 0.9605\n",
            "Epoch 15/20\n",
            "19/19 [==============================] - 0s 7ms/step - loss: 0.6061 - accuracy: 0.9470 - val_loss: 0.7590 - val_accuracy: 0.9605\n",
            "Epoch 16/20\n",
            "19/19 [==============================] - 0s 8ms/step - loss: 0.5727 - accuracy: 0.9553 - val_loss: 0.7006 - val_accuracy: 0.9605\n",
            "Epoch 17/20\n",
            "19/19 [==============================] - 0s 7ms/step - loss: 0.5646 - accuracy: 0.9503 - val_loss: 0.6274 - val_accuracy: 0.9605\n",
            "Epoch 18/20\n",
            "19/19 [==============================] - 0s 7ms/step - loss: 0.5459 - accuracy: 0.9603 - val_loss: 0.6322 - val_accuracy: 0.9474\n",
            "Epoch 19/20\n",
            "19/19 [==============================] - 0s 7ms/step - loss: 0.5436 - accuracy: 0.9586 - val_loss: 0.5784 - val_accuracy: 0.9605\n",
            "Epoch 20/20\n",
            "19/19 [==============================] - 0s 7ms/step - loss: 0.5235 - accuracy: 0.9636 - val_loss: 0.5346 - val_accuracy: 0.9605\n"
          ]
        }
      ]
    },
    {
      "cell_type": "code",
      "source": [
        "import matplotlib.pyplot as plt\n",
        "plt.plot(history.history['loss'], label='train_loss')\n",
        "plt.plot(history.history['val_loss'], label = 'val_loss')\n",
        "plt.xlabel('Epoch')\n",
        "plt.ylabel('Accuracy')\n",
        "#plt.ylim([0.5, 1])\n",
        "plt.legend(loc='upper right')"
      ],
      "metadata": {
        "colab": {
          "base_uri": "https://localhost:8080/",
          "height": 296
        },
        "id": "RZFukJOvDU8a",
        "outputId": "48eea34b-eac6-406b-a185-2cbb181f5b0c"
      },
      "execution_count": 152,
      "outputs": [
        {
          "output_type": "execute_result",
          "data": {
            "text/plain": [
              "<matplotlib.legend.Legend at 0x7f7f59fcdee0>"
            ]
          },
          "metadata": {},
          "execution_count": 152
        },
        {
          "output_type": "display_data",
          "data": {
            "text/plain": [
              "<Figure size 432x288 with 1 Axes>"
            ],
            "image/png": "[encoded data removed]"
          },
          "metadata": {
            "needs_background": "light"
          }
        }
      ]
    },
    {
      "cell_type": "code",
      "source": [
        "pred_test = model.predict(X_test)\n",
        "pred_test = np.argmax(pred_test, axis = 1)\n",
        "pred_test = np.reshape(pred_test, (190,1))\n",
        "pred_test = pred_test.astype(int)"
      ],
      "metadata": {
        "colab": {
          "base_uri": "https://localhost:8080/"
        },
        "id": "95J5Z2pJiO-g",
        "outputId": "ea4fca15-16e0-4483-f0be-f54650aea224"
      },
      "execution_count": 153,
      "outputs": [
        {
          "output_type": "stream",
          "name": "stdout",
          "text": [
            "6/6 [==============================] - 0s 2ms/step\n"
          ]
        }
      ]
    },
    {
      "cell_type": "code",
      "source": [
        "output = pred_test\n",
        "assert(output.shape == (190, 1))\n",
        "np.savetxt('eegnet_output.csv', output, delimiter=\",\")"
      ],
      "metadata": {
        "id": "Ge8jZUU8gve3"
      },
      "execution_count": 154,
      "outputs": []
    },
    {
      "cell_type": "markdown",
      "source": [
        "## Model Competition Part"
      ],
      "metadata": {
        "id": "qnHnQ_yVerBo"
      }
    },
    {
      "cell_type": "code",
      "source": [
        "# Build your model here:\n",
        "#Same as EEGNet"
      ],
      "metadata": {
        "id": "zlhO90b9iB_-"
      },
      "execution_count": 155,
      "outputs": []
    },
    {
      "cell_type": "code",
      "source": [
        "output = pred_test\n",
        "assert(output.shape == (190, 1))\n",
        "np.savetxt('competition_output.csv', output, delimiter=\",\")"
      ],
      "metadata": {
        "id": "m097nvkXiIqY"
      },
      "execution_count": 156,
      "outputs": []
    }
  ]
}