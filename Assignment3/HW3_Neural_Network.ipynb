{
  "nbformat": 4,
  "nbformat_minor": 0,
  "metadata": {
    "colab": {
      "provenance": []
    },
    "kernelspec": {
      "name": "python3",
      "display_name": "Python 3"
    },
    "language_info": {
      "name": "python"
    }
  },
  "cells": [
    {
      "cell_type": "markdown",
      "metadata": {
        "id": "IagZMs0_qjdL"
      },
      "source": [
        "# 1. Introduction\n",
        "\n",
        "Welcome to your third assignment. In this assignment, you will build a deep neural network step by step. In this notebook, you will implement all the functions required to build a neural network.\n",
        "\n",
        "After finishing this assignment, you will have a deeper understanding of the process of training a deep neural network, which only consists of three steps: forward propagation, backward propagation and update."
      ]
    },
    {
      "cell_type": "markdown",
      "metadata": {
        "id": "yGFR00CQvoaH"
      },
      "source": [
        "# 2. Packages\n",
        "All the packages that you need to finish this assignment are listed below.\n",
        "*   numpy : the fundamental package for scientific computing with Python.\n",
        "*   matplotlib : a comprehensive library for creating static, animated, and interactive visualizations in Python.\n",
        "*   math : Python has a built-in module that you can use for mathematical tasks.\n",
        "*   sklearn.datasets : scikit-learn comes with a few small standard datasets that do not require to download any file from some external website. You will be using the breast cancer wisconsin dataset to build a binary classifier.\n",
        "\n",
        "⚠️ **WARNING** ⚠️: \n",
        "*   Please do not import any other packages.\n",
        "*   np.random.seed(1) is used to keep all the random function calls consistent. It will help us grade your work. Please don't change the seed.\n",
        "\n",
        "❗ **Important** ❗: Please do not change the code outside this code bracket.\n",
        "```\n",
        "### START CODE HERE ### (≈ n lines of code)\n",
        "...\n",
        "### END CODE HERE ###\n",
        "```\n",
        "\n"
      ]
    },
    {
      "cell_type": "code",
      "metadata": {
        "id": "fmTH9UkeqdYf"
      },
      "source": [
        "import numpy as np\n",
        "import matplotlib.pyplot as plt\n",
        "import math\n",
        "from sklearn import datasets\n",
        "\n",
        "output = {}"
      ],
      "execution_count": 1,
      "outputs": []
    },
    {
      "cell_type": "markdown",
      "source": [
        "# 3. Neural network\n",
        "In this section, you will need to implement a deep neural network from scratch all by yourself. If you are familiar with deep learning library, such as Tensorflow or PyTorch, it may seems easy for you. But if you don't, don't worry because we will guide you step by step. All you need to do is to follow the instructions and understand how each part works.\n",
        "\n",
        "As mentioned before, the process of training a deep neural network is composed of three steps: forward propagation, backward propagation, and update, so all the to-do in this section will be related to these three steps."
      ],
      "metadata": {
        "id": "w35ZkTwMc00G"
      }
    },
    {
      "cell_type": "code",
      "metadata": {
        "id": "x0KHo8w9yqbY"
      },
      "source": [
        "class Dense():\n",
        "    def __init__(self, n_x, n_y, seed=1):\n",
        "        self.n_x = n_x\n",
        "        self.n_y = n_y\n",
        "        self.seed = seed\n",
        "        self.initialize_parameters()\n",
        "\n",
        "    def initialize_parameters(self):\n",
        "        \"\"\"\n",
        "        Argument:\n",
        "        self.n_x -- size of the input layer\n",
        "        self.n_y -- size of the output layer\n",
        "        self.parameters -- python dictionary containing your parameters:\n",
        "                           W -- weight matrix of shape (n_y, n_x)\n",
        "                           b -- bias vector of shape (n_y, 1)\n",
        "        \"\"\"\n",
        "        np.random.seed(self.seed)\n",
        "\n",
        "        # GRADED FUNCTION: linear_initialize_parameters\n",
        "        ### START CODE HERE ### (≈ 6 lines of code)\n",
        "        limit = np.sqrt(6/(self.n_x+self.n_y))\n",
        "        value = np.random.uniform(-limit, limit,(self.n_y, self.n_x))\n",
        "        #W = np.zeros([self.n_y, self.n_x])\n",
        "        W = value\n",
        "        b = np.zeros([self.n_y, 1])\n",
        "        ### END CODE HERE ###\n",
        "\n",
        "        assert(W.shape == (self.n_y, self.n_x))\n",
        "        assert(b.shape == (self.n_y, 1))\n",
        "\n",
        "        self.parameters = {\"W\": W, \"b\": b}\n",
        "\n",
        "    def forward(self, A):\n",
        "        \"\"\"\n",
        "        Implement the linear part of a layer's forward propagation.\n",
        "\n",
        "        Arguments:\n",
        "        A -- activations from previous layer (or input data): (size of previous layer, number of examples)\n",
        "        self.cache -- a python tuple containing \"A\", \"W\" and \"b\" ; stored for computing the backward pass efficiently\n",
        "\n",
        "        Returns:\n",
        "        Z -- the input of the activation function, also called pre-activation parameter \n",
        "        \"\"\"\n",
        "\n",
        "        # GRADED FUNCTION: linear_forward\n",
        "        ### START CODE HERE ### (≈ 2 line of code)\n",
        "        Z = np.dot(self.parameters[\"W\"], A)+self.parameters[\"b\"]\n",
        "        self.cache = (A, self.parameters[\"W\"], self.parameters[\"b\"])\n",
        "        ### END CODE HERE ###\n",
        "        \n",
        "        assert(Z.shape == (self.parameters[\"W\"].shape[0], A.shape[1]))\n",
        "        \n",
        "        return Z\n",
        "\n",
        "    def backward(self, dZ):\n",
        "        \"\"\"\n",
        "        Implement the linear portion of backward propagation for a single layer (layer l)\n",
        "\n",
        "        Arguments:\n",
        "        dZ -- Gradient of the cost with respect to the linear output (of current layer l)\n",
        "        self.cache -- tuple of values (A_prev, W, b) coming from the forward propagation in the current layer\n",
        "        self.dW -- Gradient of the cost with respect to W (current layer l), same shape as W\n",
        "        self.db -- Gradient of the cost with respect to b (current layer l), same shape as b\n",
        "\n",
        "        Returns:\n",
        "        dA_prev -- Gradient of the cost with respect to the activation (of the previous layer l-1), same shape as A_prev\n",
        "\n",
        "        \"\"\"\n",
        "        A_prev, W, b = self.cache\n",
        "        m = A_prev.shape[1]\n",
        "\n",
        "        # GRADED FUNCTION: linear_backward\n",
        "        ### START CODE HERE ### (≈ 3 lines of code)\n",
        "        self.dW = 1./m * np.dot(dZ,A_prev.transpose())\n",
        "        self.db = 1./m * np.sum(dZ, axis=1, keepdims=True)\n",
        "        dA_prev = np.dot(W.transpose(), dZ)\n",
        "        ### END CODE HERE ###\n",
        "        \n",
        "        assert (dA_prev.shape == A_prev.shape)\n",
        "        assert (self.dW.shape == self.parameters[\"W\"].shape)\n",
        "        assert (self.db.shape == self.parameters[\"b\"].shape)\n",
        "        \n",
        "        return dA_prev\n",
        "\n",
        "    def update(self, learning_rate):\n",
        "        \"\"\"\n",
        "        Update parameters using gradient descent\n",
        "        \n",
        "        Arguments:\n",
        "        learning rate -- step size\n",
        "        \"\"\"\n",
        "\n",
        "        # GRADED FUNCTION: linear_update_parameters\n",
        "        ### START CODE HERE ### (≈ 2 lines of code)\n",
        "        self.parameters[\"W\"] = self.parameters[\"W\"] - learning_rate * self.dW\n",
        "        self.parameters[\"b\"] = self.parameters[\"b\"] - learning_rate * self.db\n",
        "        ### END CODE HERE ###"
      ],
      "execution_count": 2,
      "outputs": []
    },
    {
      "cell_type": "markdown",
      "source": [
        "## 3.1 Implement a linear layer\n",
        "First, we will start by implementing one of the most commonly used layers in the deep neural network, called the dense layer. The dense layer is a linear layer applying a linear transformation to the incoming data:\n",
        "$Z = WA + b$, where $W$ and $b$ are the weight and bias.\n",
        "\n",
        "**Note**: Dense layers, also known as Fully-connected layers, connect every input neuron to every output neuron and are commonly used in neural networks.\n",
        "\n",
        "### 3.1.1. Initialize parameters\n",
        "**Exercise**: Create and initialize parameters of a linear layer using Glorot uniform initialization. (5%)\n",
        "\n",
        "**Instructions**:\n",
        "*   Use random initialization (uniform distribution) for the weight matrices. Draws samples from a uniform distribution within [-limit, limit], where limit = sqrt(6 / (fan_in + fan_out)) (fan_in is the number of input units in the weight tensor and fan_out is the number of output units).\n",
        "*   Use zero initialization for the biases."
      ],
      "metadata": {
        "id": "P_krGKUNg_Ix"
      }
    },
    {
      "cell_type": "code",
      "metadata": {
        "id": "7HNAWwmg8R7T",
        "colab": {
          "base_uri": "https://localhost:8080/"
        },
        "outputId": "92008866-2bb7-4c96-af9f-144b4eb3d595"
      },
      "source": [
        "dense = Dense(3, 1)\n",
        "print(\"W = \" + str(dense.parameters[\"W\"]))\n",
        "print(\"b = \" + str(dense.parameters[\"b\"]))\n",
        "\n",
        "dense = Dense(4, 1)\n",
        "output[\"linear_initialize_parameters\"] = dense.parameters"
      ],
      "execution_count": 3,
      "outputs": [
        {
          "output_type": "stream",
          "name": "stdout",
          "text": [
            "W = [[-0.20325375  0.53968259 -1.22446471]]\n",
            "b = [[0.]]\n"
          ]
        }
      ]
    },
    {
      "cell_type": "markdown",
      "metadata": {
        "id": "OtPtH0j3BFN7"
      },
      "source": [
        "Expected output: \n",
        "<table>\n",
        "  <tr>\n",
        "    <td>W: </td>\n",
        "    <td>[[-0.20325375  0.53968259 -1.22446471]]</td>\n",
        "  </tr>\n",
        "  <tr>\n",
        "    <td>b: </td>\n",
        "    <td>[[0.]]</td>\n",
        "  </tr>\n",
        "</table>"
      ]
    },
    {
      "cell_type": "markdown",
      "metadata": {
        "id": "abu7YqxeAeMz"
      },
      "source": [
        "### 3.1.2. Linear forward\n",
        "\n",
        "After initializing parameters, you will need to apply the linear transformation to the incoming data, and this can be simply done by matrix multiplication and addition.\n",
        "\n",
        "**Exercise**: Implement linear forward by applying the linear transformation. (5%)"
      ]
    },
    {
      "cell_type": "code",
      "metadata": {
        "id": "SSf8JIyjaj_A",
        "colab": {
          "base_uri": "https://localhost:8080/"
        },
        "outputId": "b9d1b8a5-9f79-4225-a7c8-b90d2610826e"
      },
      "source": [
        "A, W, b = np.array([[0, 0.5, 1], [1, 1.5, 2], [2, 2.5, 3]]), np.array([[0.1, 0.2, 0.3]]), np.array([[1.1]])\n",
        "dense = Dense(3, 1)\n",
        "dense.parameters = {\"W\": W, \"b\": b}\n",
        "Z = dense.forward(A)\n",
        "print(\"Z = \" + str(Z))\n",
        "\n",
        "A, W, b = np.array([[0, -0.5, -1], [1, 1.5, 2], [-2, -2.5, -3]]), np.array([[0.5, 0.3, 0.7]]), np.array([[-1.1]])\n",
        "dense = Dense(3, 1)\n",
        "dense.parameters = {\"W\": W, \"b\": b}\n",
        "Z = dense.forward(A)\n",
        "output[\"linear_forward\"] = (Z, dense.cache)"
      ],
      "execution_count": 4,
      "outputs": [
        {
          "output_type": "stream",
          "name": "stdout",
          "text": [
            "Z = [[1.9 2.2 2.5]]\n"
          ]
        }
      ]
    },
    {
      "cell_type": "markdown",
      "metadata": {
        "id": "NpcPlE8-EUsR"
      },
      "source": [
        "Expected output: \n",
        "<table>\n",
        "  <tr>\n",
        "    <td>Z: </td>\n",
        "    <td>[[1.9 2.2 2.5]]</td>\n",
        "  </tr>\n",
        "</table>"
      ]
    },
    {
      "cell_type": "markdown",
      "source": [
        "## 3.1.3. Linear backward\n",
        "Backpropagation is used to calculate the gradient of the loss function with respect to the parameters.\n",
        "\n",
        "For layer $l$, the linear part is: $Z^{[l]} = W^{[l]} A^{[l-1]} + b^{[l]}$ (followed by an activation).\n",
        "\n",
        "Suppose you have already calculated the derivative $dZ^{[l]} = \\frac{\\partial \\mathcal{L} }{\\partial Z^{[l]}}$. You want to get $(dW^{[l]}, db^{[l]}, dA^{[l-1]})$.\n",
        "\n",
        "The three outputs $(dW^{[l]}, db^{[l]}, dA^{[l-1]})$ are computed using the input $dZ^{[l]}$.Here are the formulas you need:$$ dW^{[l]} = \\frac{\\partial \\mathcal{J} }{\\partial W^{[l]}} = \\frac{1}{m} dZ^{[l]} A^{[l-1] T} $$$$ db^{[l]} = \\frac{\\partial \\mathcal{J} }{\\partial b^{[l]}} = \\frac{1}{m} \\sum_{i = 1}^{m} dZ^{[l](i)} $$$$ dA^{[l-1]} = \\frac{\\partial \\mathcal{L} }{\\partial A^{[l-1]}} = W^{[l] T} dZ^{[l]} $$\n",
        "\n",
        "**Exercise**: Use the 3 formulas above to implement `linear_backward()`. (5%)"
      ],
      "metadata": {
        "id": "-K8_obj6vIeT"
      }
    },
    {
      "cell_type": "code",
      "metadata": {
        "id": "fg-PfP31NKH7",
        "colab": {
          "base_uri": "https://localhost:8080/"
        },
        "outputId": "53246a36-13a4-45cc-bc49-f5fdcc3703e2"
      },
      "source": [
        "dZ, linear_cache = np.array([[1.5, 2.5], [0.5, 1.0]]), (np.array([[0.5, 1]]), np.array([[2.0], [1.0]]), np.array([[0.5], [1.0]]))\n",
        "dense = Dense(1, 2)\n",
        "dense.cache = linear_cache\n",
        "\n",
        "dA_prev = dense.backward(dZ)\n",
        "print (\"dA_prev = \" + str(dA_prev))\n",
        "print (\"dW = \" + str(dense.dW))\n",
        "print (\"db = \" + str(dense.db))\n",
        "\n",
        "dZ, linear_cache = np.array([[0.5, -1.5], [-1.5, 2.0]]), (np.array([[0.25, 1.25]]), np.array([[-1.0], [1.0]]), np.array([[-0.5], [-1.0]]))\n",
        "dense = Dense(1, 2)\n",
        "dense.cache = linear_cache\n",
        "dA_prev = dense.backward(dZ)\n",
        "output[\"linear_backward\"] = (dA_prev, dense.dW, dense.db)"
      ],
      "execution_count": 5,
      "outputs": [
        {
          "output_type": "stream",
          "name": "stdout",
          "text": [
            "dA_prev = [[3.5 6. ]]\n",
            "dW = [[1.625]\n",
            " [0.625]]\n",
            "db = [[2.  ]\n",
            " [0.75]]\n"
          ]
        }
      ]
    },
    {
      "cell_type": "markdown",
      "metadata": {
        "id": "ny0k-zxuNKIB"
      },
      "source": [
        "Expected output: \n",
        "<table>\n",
        "  <tr>\n",
        "    <td>dA_prev: </td>\n",
        "    <td>[[3.5 6. ]]</td>\n",
        "  </tr>\n",
        "  <tr>\n",
        "    <td>dW: </td>\n",
        "    <td>[[1.625]\n",
        " [0.625]]</td>\n",
        "  </tr>\n",
        "  <tr>\n",
        "    <td>db: </td>\n",
        "    <td>[[2.  ]\n",
        " [0.75]]</td>\n",
        "  </tr>\n",
        "</table>"
      ]
    },
    {
      "cell_type": "markdown",
      "metadata": {
        "id": "XWNWxxutN47B"
      },
      "source": [
        "## 3.1.4. Linear update parameters\n",
        "In this section you will update the parameters of the linear layer, using gradient descent:\n",
        "\n",
        "$$ W^{[l]} = W^{[l]} - \\alpha \\text{ } dW^{[l]} $$$$ b^{[l]} = b^{[l]} - \\alpha \\text{ } db^{[l]} $$\n",
        "\n",
        "**Exercise**: Implement update() to update your parameters using gradient descent. (5%)\n",
        "\n",
        "**Instructions**: \n",
        "*   Update parameters using gradient descent on $W^{[l]}$ and $b^{[l]}$.\n"
      ]
    },
    {
      "cell_type": "code",
      "metadata": {
        "id": "BMBqHniLN47I",
        "colab": {
          "base_uri": "https://localhost:8080/"
        },
        "outputId": "56de34d0-3626-4f63-f6bf-fb99222e3cc8"
      },
      "source": [
        "np.random.seed(1)\n",
        "dense = Dense(1, 2)\n",
        "dense.parameters = {\"W\": np.array([[1.0], [2.0]]), \"b\": np.array([[0.5], [0.5]])}\n",
        "dense.dW = np.array([[0.5], [-0.5]])\n",
        "dense.db = np.array([[1.5], [-1.5]])\n",
        "dense.update(1.0)\n",
        "print(\"W = \" + str(dense.parameters[\"W\"]))\n",
        "print(\"b = \" + str(dense.parameters[\"b\"]))\n",
        "\n",
        "dense = Dense(3, 4)\n",
        "np.random.seed(1)\n",
        "parameters, grads = {\"W1\": np.random.rand(3, 4), \"b1\": np.random.rand(3,1), \"W2\": np.random.rand(1,3), \"b2\": np.random.rand(1,1)}, {\"dW1\": np.random.rand(3, 4), \"db1\": np.random.rand(3,1), \"dW2\": np.random.rand(1,3), \"db2\": np.random.rand(1,1)}\n",
        "dense.parameters = {\"W\": parameters[\"W1\"], \"b\": parameters[\"b1\"]}\n",
        "dense.dW = grads[\"dW1\"]\n",
        "dense.db = grads[\"db1\"]\n",
        "dense.update(0.1)\n",
        "output[\"linear_update_parameters\"] = {\"W\": dense.parameters[\"W\"], \"b\": dense.parameters[\"b\"]}"
      ],
      "execution_count": 6,
      "outputs": [
        {
          "output_type": "stream",
          "name": "stdout",
          "text": [
            "W = [[0.5]\n",
            " [2.5]]\n",
            "b = [[-1.]\n",
            " [ 2.]]\n"
          ]
        }
      ]
    },
    {
      "cell_type": "markdown",
      "metadata": {
        "id": "LIl13uvgN47I"
      },
      "source": [
        "Expected output: \n",
        "<table>\n",
        "  <tr>\n",
        "    <td>W1: </td>\n",
        "    <td>[[0.5]\n",
        " [2.5]]</td>\n",
        "  </tr>\n",
        "  <tr>\n",
        "    <td>b1: </td>\n",
        "    <td>[[-1.]\n",
        " [ 2.]]</td>\n",
        "  </tr>\n",
        "</table>"
      ]
    },
    {
      "cell_type": "markdown",
      "metadata": {
        "id": "syt1bV3bdI_f"
      },
      "source": [
        "## 3.2. Activation function layer\n",
        "\n",
        "In this section, you will need to implement activation function layers. There are many activation functions, such as sigmoid function, softmax function, ReLU function and etc. \n",
        "\n"
      ]
    },
    {
      "cell_type": "code",
      "metadata": {
        "id": "Nnuv8MmebMgg"
      },
      "source": [
        "class Activation():\n",
        "    def __init__(self, function):\n",
        "        self.function = function\n",
        "\n",
        "    def forward(self, Z):\n",
        "        if self.function == \"sigmoid\":\n",
        "            \"\"\"\n",
        "            Implements the sigmoid activation in numpy\n",
        "            \n",
        "            Arguments:\n",
        "            Z -- numpy array of any shape\n",
        "            self.cache -- stores Z as well, useful during backpropagation\n",
        "            \n",
        "            Returns:\n",
        "            A -- output of sigmoid(z), same shape as Z\n",
        "            \n",
        "            \"\"\"\n",
        "\n",
        "            # GRADED FUNCTION: sigmoid_forward\n",
        "            ### START CODE HERE ### (≈ 8 lines of code)\n",
        "            A = np.ones(Z.shape)\n",
        "            for i in range(Z.shape[0]):\n",
        "              for j in range(Z.shape[1]):\n",
        "                if(Z[i][j]>=0):\n",
        "                  A[i][j] = 1/(1+np.exp(-Z[i][j]))\n",
        "                else:\n",
        "                  A[i][j] = np.exp(Z[i][j])/(1+np.exp(Z[i][j]))\n",
        "            self.cache = Z\n",
        "            ### END CODE HERE ###\n",
        "            \n",
        "            return A\n",
        "\n",
        "        elif self.function == \"softmax\":\n",
        "            \"\"\"\n",
        "            Implements the softmax activation in numpy\n",
        "            \n",
        "            Arguments:\n",
        "            Z -- numpy array of any shape (dim 0: number of classes, dim 1: number of samples)\n",
        "            self.cache -- stores Z as well, useful during backpropagation\n",
        "            \n",
        "            Returns:\n",
        "            A -- output of softmax(z), same shape as Z\n",
        "            \"\"\"\n",
        "\n",
        "            # GRADED FUNCTION: softmax_forward\n",
        "            ### START CODE HERE ### (≈ 2 lines of code)\n",
        "            A = np.exp(Z)/sum(np.exp(Z))\n",
        "            self.cache = Z\n",
        "            ### END CODE HERE ###\n",
        "            \n",
        "            return A\n",
        "\n",
        "        elif self.function == \"relu\":\n",
        "            \"\"\"\n",
        "            Implement the RELU function in numpy\n",
        "            Arguments:\n",
        "            Z -- numpy array of any shape\n",
        "            self.cache -- stores Z as well, useful during backpropagation\n",
        "            Returns:\n",
        "            A -- output of relu(z), same shape as Z\n",
        "            \n",
        "            \"\"\"\n",
        "            \n",
        "            # GRADED FUNCTION: relu_forward\n",
        "            ### START CODE HERE ### (≈ 2 lines of code)\n",
        "            A = np.maximum(Z,0)\n",
        "            self.cache = Z \n",
        "            ### END CODE HERE ###\n",
        "            \n",
        "            assert(A.shape == Z.shape)\n",
        "            \n",
        "            return A\n",
        "\n",
        "    def backward(self, dA=None, Y=None):\n",
        "        if self.function == \"sigmoid\":\n",
        "            \"\"\"\n",
        "            Implement the backward propagation for a single SIGMOID unit.\n",
        "            Arguments:\n",
        "            dA -- post-activation gradient, of any shape\n",
        "            self.cache -- 'Z' where we store for computing backward propagation efficiently\n",
        "            Returns:\n",
        "            dZ -- Gradient of the cost with respect to Z\n",
        "            \"\"\"\n",
        "            \n",
        "            # GRADED FUNCTION: sigmoid_backward\n",
        "            ### START CODE HERE ### (≈ 9 lines of code)\n",
        "            Z = self.cache\n",
        "            temp = np.ones(Z.shape)\n",
        "            for i in range(Z.shape[0]):\n",
        "              for j in range(Z.shape[1]):\n",
        "                if(temp[i][j]>=0):\n",
        "                  temp[i][j] = 1/(1+np.exp(-Z[i][j]))\n",
        "                else:\n",
        "                  temp[i][j] = np.exp(Z[i][j])/(1+np.exp(Z[i][j]))\n",
        "            dZ = dA*temp*(1-temp)\n",
        "            ### END CODE HERE ###\n",
        "            \n",
        "            assert (dZ.shape == Z.shape)\n",
        "            \n",
        "            return dZ\n",
        "\n",
        "        elif self.function == \"relu\":\n",
        "            \"\"\"\n",
        "            Implement the backward propagation for a single RELU unit.\n",
        "            Arguments:\n",
        "            dA -- post-activation gradient, of any shape\n",
        "            self.cache -- 'Z' where we store for computing backward propagation efficiently\n",
        "            Returns:\n",
        "            dZ -- Gradient of the cost with respect to Z\n",
        "            \"\"\"\n",
        "            \n",
        "            # GRADED FUNCTION: relu_backward\n",
        "            ### START CODE HERE ### (≈ 3 lines of code)\n",
        "            Z = self.cache\n",
        "            dZ = dA # just converting dz to a correct object. \n",
        "            dZ[Z <= 0] = 0 # When z <= 0, you should set dz to 0 as well.\n",
        "            ### END CODE HERE ###\n",
        "            \n",
        "            assert (dZ.shape == Z.shape)\n",
        "            \n",
        "            return dZ\n",
        "\n",
        "        elif self.function == \"softmax\":\n",
        "            \"\"\"\n",
        "            Implement the backward propagation for a [SOFTMAX->CCE LOSS] unit.\n",
        "            Arguments:\n",
        "            Y -- true \"label\" vector (one hot vector, for example: [[1], [0], [0]] represents rock, [[0], [1], [0]] represents paper, [[0], [0], [1]] represents scissors \n",
        "                                      in a Rock-Paper-Scissors image classification), shape (number of classes, number of examples)\n",
        "            self.cache -- 'Z' where we store for computing backward propagation efficiently\n",
        "            Returns:\n",
        "            dZ -- Gradient of the cost with respect to Z\n",
        "            \"\"\"\n",
        "            \n",
        "            # GRADED FUNCTION: softmax_CCE_backward\n",
        "            ### START CODE HERE ### (≈ 3 lines of code)\n",
        "            Z = self.cache\n",
        "            s = np.exp(Z)/sum(np.exp(Z))\n",
        "            dZ = s-Y\n",
        "            ### END CODE HERE ###\n",
        "            \n",
        "            assert (dZ.shape == Z.shape)\n",
        "            \n",
        "            return dZ"
      ],
      "execution_count": 7,
      "outputs": []
    },
    {
      "cell_type": "markdown",
      "metadata": {
        "id": "5PkLKaFWiWmF"
      },
      "source": [
        "### 3.2.1. Activation forward\n",
        "#### 3.2.1.1. Sigmoid function\n",
        "Sigmoid: $\\sigma(Z) = \\begin{cases}\n",
        "    \\frac{1}{1+e^{-Z}},& \\text{if } Z >= 0\\\\\n",
        "    \\frac{e^{Z}}{1+e^{Z}}, & \\text{otherwise}\n",
        "\\end{cases}$. \n",
        "\n",
        "❗**Important**❗: As you can see, there is an exponential function inside the sigmoid function, so you might encounter an exponential overflow problem when implementing this function. To solve this problem, we use the numerically stable sigmoid function as shown in the equation above.\n",
        "\n",
        "### 3.2.1.2. Softmax function\n",
        "Softmax: $\\sigma(\\vec{Z})_i = \\frac{e^{Z_i-b}}{\\sum_{j=1}^{K} e^{Z_j-b}}$, where $\\vec{Z}$ = input vector, $K$ = number of classes in the multi-class classifier, $b$ is $\\max_{j=1}^{K} Z_j$\n",
        "\n",
        "❗**Important**❗: The naive implementation $\\sigma(\\vec{Z})_i = \\frac{e^{Z_i}}{\\sum_{j=1}^{K} e^{Z_j}}$ is terrible when there are large numbers! You might encounter the following problems if you use the naive implementation.\n",
        "*   RuntimeWarning: overflow encountered in exp\n",
        "\n",
        "\n",
        "### 3.2.1.3. ReLU (rectified linear unit) function\n",
        "ReLU: $RELU(Z) = max(Z, 0)$\n",
        "\n",
        "**Exercise**: Implement activation function. (5%+5%) (basic: Sigmoid and ReLU, advanced: Softmax)\n",
        "\n",
        "**Instruction**: \n",
        "*   Sigmoid: This function returns one item and stores one item: the activation value \"a\" and a cache contains \"z\" (it's what we will use in to the corresponding backward function).\n",
        "*   Softmax: This function returns one item and stores one item: the activation value \"a\" and a cache contains \"z\" (it's what we will use in to the corresponding backward function).\n",
        "*   ReLU: This function returns one item and stores one item: the activation value \"a\" and a cache contains \"z\" (it's what we will use in to the corresponding backward function)."
      ]
    },
    {
      "cell_type": "code",
      "metadata": {
        "id": "gBuRAoeUC5jV",
        "colab": {
          "base_uri": "https://localhost:8080/"
        },
        "outputId": "ebcd5eff-72dd-4cc3-cd76-b208853c8af4"
      },
      "source": [
        "Z = np.array([[-5, -1, 0, 1, 5]])\n",
        "\n",
        "sigmoid = Activation(\"sigmoid\")\n",
        "A = sigmoid.forward(Z)\n",
        "print(\"Sigmoid: A = \" + str(A))\n",
        "A = sigmoid.forward(np.array([[-1.82, -0.71, 0.02, 0.13, 2.21]]))\n",
        "output[\"sigmoid\"] = (A, sigmoid.cache)\n",
        "\n",
        "relu = Activation(\"relu\")\n",
        "A = relu.forward(Z)\n",
        "print(\"ReLU: A = \" + str(A))\n",
        "A = relu.forward(np.array([[-1.82, -0.71, 0.02, 0.13, 2.21]]))\n",
        "output[\"relu\"] = (A, relu.cache)\n",
        "\n",
        "Z = np.array([[1, 0, -2], [2, 1, -1], [3, 0, 0], [4, 0, 1]])\n",
        "softmax = Activation(\"softmax\")\n",
        "A = softmax.forward(Z)\n",
        "print(\"Softmax: A = \\n\" + str(A))\n",
        "A = softmax.forward(np.array([[0.1, 1.2, -2.1], [2.2, 0.7, -1.3], [1.4, 0.3, 0.2], [3.9, 0.5, -1.6]]))\n",
        "output[\"softmax\"] = (A, softmax.cache) "
      ],
      "execution_count": 8,
      "outputs": [
        {
          "output_type": "stream",
          "name": "stdout",
          "text": [
            "Sigmoid: A = [[0.00669285 0.26894142 0.5        0.73105858 0.99330715]]\n",
            "ReLU: A = [[0 0 0 1 5]]\n",
            "Softmax: A = \n",
            "[[0.0320586  0.1748777  0.0320586 ]\n",
            " [0.08714432 0.47536689 0.08714432]\n",
            " [0.23688282 0.1748777  0.23688282]\n",
            " [0.64391426 0.1748777  0.64391426]]\n"
          ]
        }
      ]
    },
    {
      "cell_type": "markdown",
      "metadata": {
        "id": "HyyX_xxdEmNp"
      },
      "source": [
        "Expected output: \n",
        "<table>\n",
        "  <tr>\n",
        "    <td>(With sigmoid) A: </td>\n",
        "    <td>[[0.00669285 0.26894142 0.5        0.73105858 0.99330715]]</td>\n",
        "  </tr>\n",
        "  <tr>\n",
        "    <td>(With ReLU) A: </td>\n",
        "    <td>[[0 0 0 1 5]]</td>\n",
        "  </tr>\n",
        "  <tr>\n",
        "    <td>(With softmax) A: </td>\n",
        "    <td>[[0.0320586  0.1748777  0.0320586 ]\n",
        " [0.08714432 0.47536689 0.08714432]\n",
        " [0.23688282 0.1748777  0.23688282]\n",
        " [0.64391426 0.1748777  0.64391426]]</td>\n",
        "  </tr>\n",
        "</table>"
      ]
    },
    {
      "cell_type": "markdown",
      "metadata": {
        "id": "0tlaPl8PpcbE"
      },
      "source": [
        "### 3.2.2. Activation backward\n",
        "Next, you will need to implement the backward functions of `sigmoid()`, `relu()` and `softmax()`+`compute_CCE_cost`.\n",
        "\n",
        "**Exercise**: Implement backward function. (5%+5%) (basic: Sigmoid and ReLU, advanced: Softmax+CCE_loss)\n",
        "\n",
        "**Instruction**:\n",
        "*   sigmoid_backward: Implements the backward propagation for SIGMOID unit.\n",
        "*   relu_backward: Implements the backward propagation for RELU unit.\n",
        "*   softmax_CCE_backward: Implements the backward propagation for [SOFTMAX->CCE_LOSS] unit.\n",
        "\n",
        "If $g(.)$ is the activation function, sigmoid_backward, relu_backward and softmax_backward compute$$dZ^{[l]} = dA^{[l]} * g'(Z^{[l]})$$\n",
        "\n",
        "1. The derivative of the sigmoid function is: $$σ^{'}(Z^{[l]}) = σ(Z^{[l]}) (1 - σ(Z^{[l]}))$$. <br>\n",
        "❗**Important**❗: You should use the numerically stable sigmoid function to prevent the overflow exponential problem. \n",
        "\n",
        "2. The derivative of the relu function is: $$g'(Z^{[l]}) = \\begin{cases}\n",
        "    1,& \\text{if } Z^{[l]}> 0\\\\\n",
        "    0,              & \\text{otherwise}\n",
        "\\end{cases}$$\n",
        "\n",
        "3. TLDR😉: The derivative of the categorical cross-entropy loss with respect to the last hidden layer is: $$\\frac{\\partial \\mathcal{L}}{\\partial Z} = s - y $$. <br> The derivative of the softmax function is: $$\\frac{\\partial S(z_i)}{\\partial z_j} = \\begin{cases}\n",
        "    S(z_i) \\times (1 - S(z_i)),& \\text{if } i = j\\\\\n",
        "    -S(z_i) \\times S(z_j),              & \\text{if } i \\neq j\n",
        "\\end{cases}$$, where $z$ is a vector with shape (number of classes K, 1) and $S(z_i) = \\frac{e^{z_i}}{\\sum_{j=1}^{K} e^{z_j}}$. Hence, the real derivative of softmax function would be a full Jacobian matrix. For the special case, K = 4, we have <img src=\"https://miro.medium.com/max/554/1*SWfgFQLDIPXDf1C6CHmr8A.png\" height=\"100\"/>. <br> It is quite complicated to calculate the softmax derivative on its own. However, if you use the softmax and the cross entropy loss, that complexity fades away. Since the softmax layer is usually used at the output, we can actually calculate the derivative of the categorical cross-entropy loss with respect to the n-th node in the last hidden layer. Instead of a long clunky formula, you end up with this terse, easy to compute thing: $$\\frac{\\partial \\mathcal{L}}{\\partial Z_i} = s_i - y_i $$, where $s$ is the output of the softmax function and the $y$ is the true label vector(one-hot vector). For more information, you can refer to this article [Derivative of the Softmax Function and the Categorical Cross-Entropy Loss](https://towardsdatascience.com/derivative-of-the-softmax-function-and-the-categorical-cross-entropy-loss-ffceefc081d1). <br> \n",
        "❗**Important**❗: The above mathematical derivation is based on naive implementation. In order to deal with the exponential overflow problem, we should use the normalized exponential function when counting $s$. For the sake of simplicity, we just use the same gradient equation as the naive implementation.\n",
        "\n",
        "\n",
        "\n",
        "\n"
      ]
    },
    {
      "cell_type": "code",
      "metadata": {
        "id": "0p1wxIeBpcbF",
        "colab": {
          "base_uri": "https://localhost:8080/"
        },
        "outputId": "8ea2417e-1b80-445b-f01a-dd2a88e8987c"
      },
      "source": [
        "dA, cache = np.array([[-2, -1.37, -1.14, -2, -3.72]]), np.array([[0, 1, 2, 0, 1]])\n",
        "sigmoid = Activation(\"sigmoid\")\n",
        "sigmoid.cache = cache\n",
        "dZ = sigmoid.backward(dA=dA)\n",
        "print(\"Sigmoid: dZ = \"+ str(dZ))\n",
        "dA, cache = np.array([[-2, -2, -1.37, -1.14, -3.72]]), np.array([[2, 0, 1.5, 0, 0.5]])\n",
        "sigmoid.cache = cache\n",
        "output[\"sigmoid_backward\"] = sigmoid.backward(dA=dA)\n",
        "\n",
        "relu = Activation(\"relu\")\n",
        "dA, cache = np.array([[-2, -1.37, -1.14], [1.7, 2, 3.72]]), np.array([[-2, -1, 2], [1, 0, 1]])\n",
        "relu.cache = cache\n",
        "dZ = relu.backward(dA=dA)\n",
        "print(\"ReLU: dZ = \"+ str(dZ))\n",
        "dA, cache = np.array([[3.179, -1.376, -0.114], [2.227, -5.612, 4.172]]), np.array([[0.53, 1.21, -2.22], [-1.58, 0.99, -0.11]])\n",
        "relu.cache = cache\n",
        "output[\"relu_backward\"] = relu.backward(dA=dA)\n",
        "\n",
        "Y, cache = np.array([[1, 0, 0], [0, 1, 0], [0, 0, 1]]), np.array([[-2, -1, -2], [1, 0, -2], [0, 1, 2]])\n",
        "softmax = Activation(\"softmax\")\n",
        "softmax.cache = cache\n",
        "dZ = softmax.backward(Y=Y)\n",
        "print(\"Softmax: dZ = \" + str(dZ))\n",
        "Y, cache = np.array([[1, 0, 0], [0, 1, 0], [0, 0, 1]]), np.array([[-2.11, -1.22, -2.33], [1.44, 0.55, -2.66], [0.77, 1.88, 2.99]])\n",
        "softmax.cache = cache\n",
        "output[\"softmax_CCE_backward\"] = softmax.backward(Y=Y)"
      ],
      "execution_count": 9,
      "outputs": [
        {
          "output_type": "stream",
          "name": "stdout",
          "text": [
            "Sigmoid: dZ = [[-0.5        -0.26935835 -0.11969269 -0.5        -0.73139639]]\n",
            "ReLU: dZ = [[ 0.    0.   -1.14]\n",
            " [ 1.7   0.    3.72]]\n",
            "Softmax: dZ = [[-0.96488097  0.09003057  0.01766842]\n",
            " [ 0.70538451 -0.75527153  0.01766842]\n",
            " [ 0.25949646  0.66524096 -0.03533684]]\n"
          ]
        }
      ]
    },
    {
      "cell_type": "markdown",
      "metadata": {
        "id": "OwYDe3WfpcbF"
      },
      "source": [
        "Expected output: \n",
        "<table>\n",
        "  <tr>\n",
        "    <td>(With sigmoid) dZ: </td>\n",
        "    <td>[[-0.5        -0.26935835 -0.11969269 -0.5        -0.73139639]]</td>\n",
        "  </tr>\n",
        "  <tr>\n",
        "    <td>(With ReLU) dZ: </td>\n",
        "    <td>[[ 0.    0.   -1.14]\n",
        " [ 1.7   0.    3.72]]</td>\n",
        "  </tr>\n",
        "  <tr>\n",
        "    <td>(With softmax) dZ: </td>\n",
        "    <td>[[-0.96488097  0.09003057  0.01766842]\n",
        " [ 0.70538451 -0.75527153  0.01766842]\n",
        " [ 0.25949646  0.66524096 -0.03533684]]</td>\n",
        "  </tr>\n",
        "</table>"
      ]
    },
    {
      "cell_type": "markdown",
      "source": [
        "## 3.3. Model\n",
        "Alright, now you have all the tools that are needed to build a model. Let's get started! 😀\n",
        "\n",
        "### 3.3.1. Model initialize parameters\n",
        "First, you will need to initialize your model by creating several linear and activation function layers. \n",
        "\n",
        "**Exercise**: Implement model initialize parameters. (5%)\n",
        "\n",
        "**Instruction**:\n",
        "*   Use the functions you had previously written.\n",
        "*   Store all the linear layers in a list called linear.\n",
        "*   Store all the activation function layers in a list called activation.\n",
        "\n",
        "❗**Important**❗: We set the random seed for grading purposes to keep all the random function calls consistent. However, we still want all the linear layers to have different initialized weights, so when implementing this function, please make sure that you pass the number of iterations as the seed number to the Dense layer initialization call.\n",
        "\n",
        "**Note**: In deep learning, a linear-activation layer is counted as a single layer in the neural network, not two layers since the activation layer does not have any parameter."
      ],
      "metadata": {
        "id": "RYqpQu6Eye7h"
      }
    },
    {
      "cell_type": "code",
      "metadata": {
        "id": "0JGMzfIDCSVz"
      },
      "source": [
        "class Model():\n",
        "    def __init__(self, units, activation_functions):\n",
        "        self.units = units\n",
        "        self.activation_functions = activation_functions\n",
        "        self.initialize_parameters()\n",
        "\n",
        "    def initialize_parameters(self):\n",
        "        \"\"\"\n",
        "        Arguments:\n",
        "        self.units -- number of nodes/units for each layer, starting from the input dimension and ending with the output dimension (i.e., [4, 4, 1])\n",
        "        self.activation_functions -- activation functions used in each layer (i.e, [\"relu\", \"sigmoid\"])\n",
        "        self.linear -- a list to store the dense layers when initializing the model\n",
        "        self.activation -- a list to store the activation function layers when initializing the model\n",
        "        \"\"\"\n",
        "        self.linear = []\n",
        "        self.activation = []\n",
        "\n",
        "        # GRADED FUNCTION: model_initialize_parameters\n",
        "        ### START CODE HERE ### (≈ 5 lines of code)\n",
        "        for i in range(len(self.units)-1):\n",
        "          dense = Dense(self.units[i], self.units[i+1], i)\n",
        "          self.linear.append(dense)\n",
        "          activation = Activation(self.activation_functions[i])\n",
        "          self.activation.append(activation)\n",
        "        ### END CODE HERE ###\n",
        "\n",
        "    def forward(self, X):\n",
        "        \"\"\"\n",
        "        Arguments:\n",
        "        X -- input data: (number of features, number of examples)\n",
        "        \n",
        "        Returns:\n",
        "        A -- output of L-layer neural network, probability vector corresponding to your label predictions, shape (number of classes, number of examples)\n",
        "        \"\"\"\n",
        "        A = X\n",
        "\n",
        "        # GRADED FUNCTION: model_forward\n",
        "        ### START CODE HERE ### (≈ 4 lines of code)\n",
        "        for i in range(len(self.units)-1):\n",
        "          A_prev = A\n",
        "          Z = self.linear[i].forward(A_prev)\n",
        "          A = self.activation[i].forward(Z)\n",
        "        ### END CODE HERE ###\n",
        "\n",
        "        return A\n",
        "\n",
        "    def backward(self, AL=None, Y=None):\n",
        "        \"\"\"\n",
        "        Arguments:\n",
        "        For multi-class classification,\n",
        "        AL -- output of L-layer neural network, probability vector corresponding to your label predictions, shape (number of classes, number of examples)\n",
        "        Y -- true \"label\" vector (one hot vector, for example: [[1], [0], [0]] represents rock, [[0], [1], [0]] represents paper, [[0], [0], [1]] represents scissors \n",
        "                              in a Rock-Paper-Scissors image classification), shape (number of classes, number of examples)\n",
        "\n",
        "        Returns:\n",
        "        dA_prev -- post-activation gradient\n",
        "        \"\"\"\n",
        "\n",
        "        L = len(self.linear)\n",
        "\n",
        "        # GRADED FUNCTION: model_backward\n",
        "        ### START CODE HERE ### (≈ 10 lines of code)\n",
        "        if self.activation_functions[-1] == \"sigmoid\":\n",
        "            # Initializing the backpropagation\n",
        "            dAL = - (np.divide(Y, AL + 0.00001) - np.divide(1 - Y, 1 - AL + 0.00001))\n",
        "            # Lth layer (SIGMOID -> LINEAR) gradients. Inputs: \"dAL\". Outputs: \"dA_prev\"\n",
        "            dZ = self.activation[L-1].backward(dA=dAL,Y=Y)\n",
        "            dA_prev = self.linear[L-1].backward(dZ=dZ)\n",
        "        else:\n",
        "            # Initializing the backpropagation\n",
        "            dZ = self.activation[L-1].backward(dA=AL,Y=Y)\n",
        "\n",
        "            # Lth layer (LINEAR) gradients. Inputs: \"dZ\". Outputs: \"dA_prev\"\n",
        "            dA_prev = self.linear[L-1].backward(dZ=dZ)\n",
        "\n",
        "        # Loop from l=L-2 to l=0\n",
        "        # lth layer: (RELU -> LINEAR) gradients.\n",
        "        # Inputs: \"dA_prev\". Outputs: \"dA_prev\"\n",
        "        l=L-2\n",
        "        while(l>=0):\n",
        "          dZ = self.activation[l].backward(dA=dA_prev,Y=Y)\n",
        "          dA_prev = self.linear[l].backward(dZ=dZ)\n",
        "          l = l-1\n",
        "        ### END CODE HERE ###\n",
        "\n",
        "        return dA_prev\n",
        "\n",
        "    def update(self, learning_rate):\n",
        "        \"\"\"\n",
        "        Arguments:\n",
        "        learning_rate -- step size\n",
        "        \"\"\"\n",
        "\n",
        "        L = len(self.linear)\n",
        "\n",
        "        # GRADED FUNCTION: model_update_parameters\n",
        "        ### START CODE HERE ### (≈ 2 lines of code)\n",
        "        for i in range(L):\n",
        "          self.linear[i].update(learning_rate=learning_rate)\n",
        "        ### END CODE HERE ###"
      ],
      "execution_count": 10,
      "outputs": []
    },
    {
      "cell_type": "code",
      "source": [
        "model = Model([3, 3, 1], [\"relu\", \"sigmoid\"])\n",
        "print(\"W1: \", model.linear[0].parameters[\"W\"], \"\\nb1: \", model.linear[0].parameters[\"b\"])\n",
        "print(\"W2: \", model.linear[1].parameters[\"W\"], \"\\nb2: \", model.linear[1].parameters[\"b\"])\n",
        "\n",
        "model = Model([16, 8, 1], [\"relu\", \"sigmoid\"])\n",
        "output[\"model_initialize_parameters\"] = (model.linear[0].parameters, model.linear[1].parameters)"
      ],
      "metadata": {
        "id": "EGY7_1bjcm-c",
        "colab": {
          "base_uri": "https://localhost:8080/"
        },
        "outputId": "7ef57264-16e1-4559-ace5-1a67be24c014"
      },
      "execution_count": 11,
      "outputs": [
        {
          "output_type": "stream",
          "name": "stdout",
          "text": [
            "W1:  [[ 0.09762701  0.43037873  0.20552675]\n",
            " [ 0.08976637 -0.1526904   0.29178823]\n",
            " [-0.12482558  0.783546    0.92732552]] \n",
            "b1:  [[0.]\n",
            " [0.]\n",
            " [0.]]\n",
            "W2:  [[-0.20325375  0.53968259 -1.22446471]] \n",
            "b2:  [[0.]]\n"
          ]
        }
      ]
    },
    {
      "cell_type": "markdown",
      "source": [
        "Expected output: \n",
        "<table>\n",
        "  <tr>\n",
        "    <td>W1: </td>\n",
        "    <td>[[ 0.09762701  0.43037873  0.20552675]\n",
        " [ 0.08976637 -0.1526904   0.29178823]\n",
        " [-0.12482558  0.783546    0.92732552]]</td>\n",
        "  </tr>\n",
        "  <tr>\n",
        "    <td>b1: </td>\n",
        "    <td>[[0.]\n",
        " [0.]\n",
        " [0.]]</td>\n",
        "  </tr>\n",
        "  <tr>\n",
        "    <td>W2: </td>\n",
        "    <td>[[-0.20325375  0.53968259 -1.22446471]]</td>\n",
        "  </tr>\n",
        "  <tr>\n",
        "    <td>b2: </td>\n",
        "    <td>[[0.]]</td>\n",
        "  </tr>\n",
        "</table>"
      ],
      "metadata": {
        "id": "LEmggOxtdMnl"
      }
    },
    {
      "cell_type": "markdown",
      "metadata": {
        "id": "pJVlZeyNAu-y"
      },
      "source": [
        "### 3.3.2. Model forward\n",
        "\n",
        "After that, you will implement the model forward function by calling the forward function of each layer in the linear and activation function layer you have created in the previous step.\n",
        "\n",
        "For a $N$-layer neural network, you will call the forward function of the linear layers and then followed by the activation function layers for $N-1$ times. The last activation function layer will be sigmoid for binary classification and softmax for multi-class classification.\n",
        "\n",
        "**Exercise**: Implement model forward. (5%)\n",
        "\n",
        "**Instruction**:\n",
        "*   Use the functions you had previously written.\n",
        "*   Use a for loop to replicate [LINEAR->ACTIVATION] (N-1) times.\n",
        "\n",
        "**Note**: There are K nodes in the last layer for K-class classification, but only one node for binary classification. Intuitively, this could be pretty confusing sometimes since there should be two nodes in the last layer for binary classification. However, both the one-node(sigmoid, binary cross-entropy) and two-node(softmax, categorical cross-entropy) techniques for binary classification work fine, and picking one technique over the other is a matter of subjective preference. For this assignment, you will implement the former one, which is what we usually do for binary classification.\n",
        "\n"
      ]
    },
    {
      "cell_type": "code",
      "metadata": {
        "id": "6yVQQqe2EyHA",
        "colab": {
          "base_uri": "https://localhost:8080/"
        },
        "outputId": "760f1238-4d17-41f2-e218-f87f321ecf26"
      },
      "source": [
        "A_prev, W, b = np.array([[0.1, -1.2, 1.9], [1.1, 0.2, 2.3], [2.9, -2.5, 3.7]]), np.array([[0.1, 0.2, 0.3]]), np.array([[-0.5]])\n",
        "model = Model([3, 1], [\"sigmoid\"])\n",
        "model.linear[0].parameters = {\"W\": W, \"b\": b}\n",
        "A = model.forward(A_prev)\n",
        "print(\"With sigmoid: A = \" + str(A))\n",
        "A_prev, W, b = np.array([[1.1, -2.2], [-3.9, 0.6]]), np.array([[9.1, -8.2]]), np.array([[0.5]])\n",
        "model = Model([2, 1], [\"sigmoid\"])\n",
        "model.linear[0].parameters = {\"W\": W, \"b\": b}\n",
        "A = model.forward(A_prev)\n",
        "output[\"model_forward_sigmoid\"] = (A, (model.linear[0].cache, model.activation[0].cache))\n",
        "\n",
        "A_prev, W, b = np.array([[0.1, -1.2, 1.9], [1.1, 0.2, 2.3], [2.9, -2.5, 3.7]]), np.array([[0.1, 0.2, 0.3]]), np.array([[-0.5]])\n",
        "model = Model([3, 1], [\"relu\"])\n",
        "model.linear[0].parameters = {\"W\": W, \"b\": b}\n",
        "A = model.forward(A_prev)\n",
        "print(\"With ReLU: A = \" + str(A))\n",
        "A_prev, W, b = np.array([[1.1, -2.2], [-3.9, 0.6]]), np.array([[9.1, -8.2]]), np.array([[0.5]])\n",
        "model = Model([2, 1], [\"relu\"])\n",
        "model.linear[0].parameters = {\"W\": W, \"b\": b}\n",
        "A = model.forward(A_prev)\n",
        "output[\"model_forward_relu\"] = (A, (model.linear[0].cache, model.activation[0].cache))\n",
        "\n",
        "A_prev, W, b = np.array([[0.1, -1.2, 1.9], [1.1, 0.2, 2.3], [2.9, -2.5, 3.7]]), np.array([[0.1, 0.2, 0.3], [-0.1, -0.2, -0.3], [-0.1, 0, 0.1]]), np.array([[-0.5], [0.5], [0.1]])\n",
        "model = Model([3, 3], [\"softmax\"])\n",
        "model.linear[0].parameters = {\"W\": W, \"b\": b}\n",
        "A = model.forward(A_prev)\n",
        "print(\"With softmax: A = \\n\" + str(A))\n",
        "A_prev, W, b = np.array([[-0.1, 1.2, 1.9], [-1.1, 0.2, -2.3], [2.9, -2.5, -3.7]]), np.array([[0.2, 0.2, 0.2], [-0.1, -0.1, -0.1], [-0.1, 0, 0.1]]), np.array([[-0.1], [0.1], [0.5]])\n",
        "model = Model([3, 3], [\"softmax\"])\n",
        "model.linear[0].parameters = {\"W\": W, \"b\": b}\n",
        "A = model.forward(A_prev)\n",
        "output[\"model_forward_softmax\"] = (A, (model.linear[0].cache, model.activation[0].cache))"
      ],
      "execution_count": 12,
      "outputs": [
        {
          "output_type": "stream",
          "name": "stdout",
          "text": [
            "With sigmoid: A = [[0.64565631 0.20915937 0.77902611]]\n",
            "With ReLU: A = [[0.6  0.   1.26]]\n",
            "With softmax: A = \n",
            "[[0.47535001 0.05272708 0.68692136]\n",
            " [0.14317267 0.75380161 0.05526942]\n",
            " [0.38147732 0.19347131 0.25780921]]\n"
          ]
        }
      ]
    },
    {
      "cell_type": "markdown",
      "metadata": {
        "id": "QMkf2ss6F52W"
      },
      "source": [
        "Expected output: \n",
        "<table>\n",
        "  <tr>\n",
        "    <td>(With sigmoid) A: </td>\n",
        "    <td>[[0.64565631 0.20915937 0.77902611]]</td>\n",
        "  </tr>\n",
        "  <tr>\n",
        "    <td>(With ReLU) A: </td>\n",
        "    <td>[[0.6  0.   1.26]]</td>\n",
        "  </tr>\n",
        "  <tr>\n",
        "    <td>(With softmax) A: </td>\n",
        "    <td>[[0.47535001 0.05272708 0.68692136]\n",
        " [0.14317267 0.75380161 0.05526942]\n",
        " [0.38147732 0.19347131 0.25780921]]</td>\n",
        "  </tr>\n",
        "</table>"
      ]
    },
    {
      "cell_type": "code",
      "metadata": {
        "id": "s26LVkCbIbJ3",
        "colab": {
          "base_uri": "https://localhost:8080/"
        },
        "outputId": "abb8f17b-51b3-43d4-e0e0-0de819fa1177"
      },
      "source": [
        "# binary classification\n",
        "X = np.array([[0, 1, 2], [-2, -1, 0], [0.5, 0.5, 0.5]])\n",
        "model = Model([3, 3, 1], [\"relu\", \"sigmoid\"])\n",
        "AL = model.forward(X)\n",
        "print(\"AL = \" + str(AL))\n",
        "print(\"Length of layers list = \" + str(len(model.linear)))\n",
        "\n",
        "# multi-class classification\n",
        "X = np.array([[0, 1, 2], [-2, -1, 0], [0.5, 0.5, 0.5]])\n",
        "model = Model([3, 3, 10], [\"relu\", \"softmax\"])\n",
        "AL = model.forward(X)\n",
        "print(\"AL = \" + str(AL))\n",
        "print(\"Length of layers list = \" + str(len(model.linear)))"
      ],
      "execution_count": 13,
      "outputs": [
        {
          "output_type": "stream",
          "name": "stdout",
          "text": [
            "AL = [[0.56058713 0.55220559 0.46331713]]\n",
            "Length of layers list = 2\n",
            "AL = [[0.11637212 0.11413265 0.09750771]\n",
            " [0.08186754 0.08432761 0.07419482]\n",
            " [0.0924809  0.09365443 0.08444682]\n",
            " [0.09675205 0.09736489 0.10943351]\n",
            " [0.12819411 0.12404237 0.09669465]\n",
            " [0.09664001 0.09726785 0.11116299]\n",
            " [0.08448599 0.08664355 0.08734059]\n",
            " [0.09067641 0.09207969 0.12452515]\n",
            " [0.1294968  0.12512634 0.13002144]\n",
            " [0.08303407 0.08536063 0.08467232]]\n",
            "Length of layers list = 2\n"
          ]
        }
      ]
    },
    {
      "cell_type": "markdown",
      "metadata": {
        "id": "zoCdrONOHhvw"
      },
      "source": [
        "Expected output: \n",
        "<table>\n",
        "  <tr>\n",
        "    <td>(Binary classification) AL: </td>\n",
        "    <td>[[0.56058713 0.55220559 0.46331713]]</td>\n",
        "  </tr>\n",
        "  <tr>\n",
        "    <td>(Binary classification) Length of layers list: </td>\n",
        "    <td>2</td>\n",
        "  </tr>\n",
        "  <tr>\n",
        "    <td>(Multi-class classification) AL: </td>\n",
        "    <td>[[0.11637212 0.11413265 0.09750771]\n",
        " [0.08186754 0.08432761 0.07419482]\n",
        " [0.0924809  0.09365443 0.08444682]\n",
        " [0.09675205 0.09736489 0.10943351]\n",
        " [0.12819411 0.12404237 0.09669465]\n",
        " [0.09664001 0.09726785 0.11116299]\n",
        " [0.08448599 0.08664355 0.08734059]\n",
        " [0.09067641 0.09207969 0.12452515]\n",
        " [0.1294968  0.12512634 0.13002144]\n",
        " [0.08303407 0.08536063 0.08467232]]</td>\n",
        "  </tr>\n",
        "  <tr>\n",
        "    <td>(Multi-class classification) Length of layers list: </td>\n",
        "    <td>2</td>\n",
        "  </tr>\n",
        "</table>"
      ]
    },
    {
      "cell_type": "markdown",
      "metadata": {
        "id": "hPBl7iq7N2wY"
      },
      "source": [
        "###3.3.3. Model backward\n",
        "Now you will implement the backward function for the whole network. Recall that you have implemented the backward function for the dense and activation function layer. In this section, you will call these functions to help you implement the model backward function. You will iterate through all the hidden layers backward, starting from layer $L$. On each step, you will call the backward function of layer $l$ to backpropagate through layer $l$.\n",
        "\n",
        "**Exercise**: Implement model backward. (5%)\n",
        "\n",
        "**Instruction**:\n",
        "*   Use the functions you had previously written.\n",
        "*   Initialize backpropagation.\n",
        "*   Use a for loop to backprop from layer $L-1$ to layer $1$.\n",
        "\n",
        "Initializing backpropagation:\n",
        "\n",
        "(1) Binary classification: To backpropagate through this network, we know that the output is, $A^{[L]} = \\sigma(Z^{[L]})$. Your code thus needs to compute dAL $= \\frac{\\partial \\mathcal{L}}{\\partial A^{[L]}}$. To do so, use this formula (derived using calculus which you don't need in-depth knowledge of):\n",
        "```\n",
        "dAL = - (np.divide(Y, AL + ϵ) - np.divide(1 - Y, 1 - AL + ϵ)) # derivative of cost with respect to AL, where ϵ = 1e-5 is added to prevent zero division.\n",
        "```\n",
        "\n",
        "You can then use this post-activation gradient dAL to keep going backward. You can now feed in dAL into the LINEAR->SIGMOID backward function you implemented (which will use the cached values stored inside each layer in the forward pass). After that, you will have to use a for loop to iterate through all the other layers using the LINEAR->RELU backward function. \n",
        "\n",
        "(2) Multi-class classification: Since you have implemented the backward function of the softmax activation function layer along with the categorical cross-entropy loss, you can directly call the softmax_CCE_backward function implemented inside the activation function layer and followed by the linear backward function to obtain the post-activation gradient to keep going backward. After that, you will have to use a for loop to iterate through all the other layers using the LINEAR->RELU backward function.\n"
      ]
    },
    {
      "cell_type": "code",
      "metadata": {
        "id": "HOGsyLXPNGh5",
        "colab": {
          "base_uri": "https://localhost:8080/"
        },
        "outputId": "aece0bcc-9f99-40c6-ea4c-72d45f8b8b41"
      },
      "source": [
        "AL, Y, linear_activation_cache  = np.array([[0.1, 0.2, 0.5, 0.9, 1.0]]), np.array([[0, 0, 1, 1, 1]]), ((np.array([[-2, -1, 0, 1, 2], [2, 1, 0, -1, -2]]), np.array([[2.0, 1.0]]), np.array([[0.5]])), np.array([[0, 1, 2, 0, 1]]))\n",
        "model = Model([2, 1], [\"sigmoid\"])\n",
        "model.linear[0].cache = linear_activation_cache[0]\n",
        "model.activation[0].cache = linear_activation_cache[1]\n",
        "dA_prev = model.backward(AL=AL, Y=Y)\n",
        "print (\"sigmoid:\")\n",
        "print (\"dA_prev = \"+ str(dA_prev))\n",
        "print (\"dW = \" + str(model.linear[0].dW))\n",
        "print (\"db = \" + str(model.linear[0].db) + \"\\n\")\n",
        "\n",
        "AL, Y, linear_activation_cache  = np.array([[0.15, 0.23, 0.79, 0.97, 0.99]]), np.array([[0, 0, 1, 1, 1]]), ((np.array([[-2, -1, 0, 1, 2], [2, 1, 0, -1, -2]]), np.array([[2.0, 1.0]]), np.array([[0.5]])), np.array([[0, 1, 2, 0, 1]]))\n",
        "model = Model([2, 1], [\"sigmoid\"])\n",
        "model.linear[0].cache = linear_activation_cache[0]\n",
        "model.activation[0].cache = linear_activation_cache[1]\n",
        "dA_prev = model.backward(AL=AL, Y=Y)\n",
        "output[\"model_backward_sigmoid\"] = (dA_prev, model.linear[0].dW, model.linear[0].db) \n",
        "\n",
        "X, Y = np.array([[-2, -1, 0, 1, 2], [2, 1, 0, -1, -2]]), np.array([[0, 1, 1, 1, 1]])\n",
        "model = Model([2, 2, 1], [\"relu\", \"sigmoid\"])\n",
        "AL = model.forward(X)\n",
        "dA_prev = model.backward(AL=AL, Y=Y)\n",
        "print (\"relu:\")\n",
        "print (\"dA_prev = \"+ str(dA_prev))\n",
        "print (\"dW = \" + str(model.linear[0].dW))\n",
        "print (\"db = \" + str(model.linear[0].db) + \"\\n\")\n",
        "\n",
        "X, Y = np.array([[-2.5, -1.3, 0.1, 1.9, 2.7], [1.2, 2.1, 3.0, -4.1, -5.2]]), np.array([[1, 1, 0, 0, 0]])\n",
        "model = Model([2, 2, 1], [\"relu\", \"sigmoid\"])\n",
        "AL = model.forward(X)\n",
        "dA_prev = model.backward(AL=AL, Y=Y)\n",
        "output[\"model_backward_relu\"] = (dA_prev, model.linear[0].dW, model.linear[0].db)"
      ],
      "execution_count": 14,
      "outputs": [
        {
          "output_type": "stream",
          "name": "stdout",
          "text": [
            "sigmoid:\n",
            "dA_prev = [[ 0.55554938  0.49152369 -0.41996594 -0.55554938 -0.39321993]\n",
            " [ 0.27777469  0.24576184 -0.20998297 -0.27777469 -0.19660997]]\n",
            "dW = [[-0.29446117  0.29446117]]\n",
            "db = [[-0.03216622]]\n",
            "\n",
            "relu:\n",
            "dA_prev = [[-0.01269296  0.01470136  0.         -0.07496777 -0.07151883]\n",
            " [-0.05595562  0.06480946  0.         -0.0327431  -0.03123674]]\n",
            "dW = [[ 0.0178719  -0.0178719 ]\n",
            " [-0.17321413  0.17321413]]\n",
            "db = [[ 0.00335943]\n",
            " [-0.11638953]]\n",
            "\n"
          ]
        }
      ]
    },
    {
      "cell_type": "markdown",
      "metadata": {
        "id": "o6xzEk3-NGh6"
      },
      "source": [
        "Expected output: \n",
        "<table>\n",
        "  <tr>\n",
        "    <td>Sigmoid </td>\n",
        "  </tr>\n",
        "  <tr>\n",
        "    <td>dA_prev: </td>\n",
        "    <td>[[ 0.55554938  0.49152369 -0.41996594 -0.55554938 -0.39321993]\n",
        " [ 0.27777469  0.24576184 -0.20998297 -0.27777469 -0.19660997]]</td>\n",
        "  </tr>\n",
        "  <tr>\n",
        "    <td>dW: </td>\n",
        "    <td>[[-0.29446117  0.29446117]]</td>\n",
        "  </tr>\n",
        "  <tr>\n",
        "    <td>db: </td>\n",
        "    <td>[[-0.03216622]]</td>\n",
        "  </tr>\n",
        "  <tr>\n",
        "    <td>ReLU </td>\n",
        "  </tr>\n",
        "  <tr>\n",
        "    <td>dA_prev: </td>\n",
        "    <td>[[-0.01269296  0.01470136  0.         -0.07496777 -0.07151883]\n",
        " [-0.05595562  0.06480946  0.         -0.0327431  -0.03123674]]</td>\n",
        "  </tr>\n",
        "  <tr>\n",
        "    <td>dW: </td>\n",
        "    <td>[[ 0.0178719  -0.0178719 ]\n",
        " [-0.17321413  0.17321413]]</td>\n",
        "  </tr>\n",
        "  <tr>\n",
        "    <td>db: </td>\n",
        "    <td>[[ 0.00335943]\n",
        " [-0.11638953]]</td>\n",
        "  </tr>\n",
        "</table>"
      ]
    },
    {
      "cell_type": "code",
      "metadata": {
        "id": "BC1QnMSKN2wZ",
        "colab": {
          "base_uri": "https://localhost:8080/"
        },
        "outputId": "047aa72f-ab61-4779-ccd2-22e7e4389753"
      },
      "source": [
        "# binary classification\n",
        "X, Y = np.array([[0, 1, 2], [-2, -1, 0], [0.5, 0.5, 0.5]]), np.array([[1, 0, 0]])\n",
        "model = Model([3, 3, 1], [\"relu\", \"sigmoid\"])\n",
        "AL = model.forward(X)\n",
        "\n",
        "dA_prev = model.backward(AL=AL, Y=Y)\n",
        "print(\"Binary classification\")\n",
        "print(\"dW1 = \"+ str(model.linear[0].dW))\n",
        "print(\"db1 = \"+ str(model.linear[0].db))\n",
        "print(\"dA_prev = \"+ str(dA_prev) +\"\\n\")\n",
        "\n",
        "# multi-class classification\n",
        "X, Y= np.array([[0, 1, 2], [-2, -1, 0], [0.5, 0.5, 0.5]]), np.array([[1, 0, 0], [0, 1, 0], [0, 0, 1]])\n",
        "model = Model([3, 3, 3], [\"relu\", \"softmax\"])\n",
        "AL = model.forward(X)\n",
        "dA_prev = model.backward(AL=AL, Y=Y)\n",
        "print(\"Multi-class classification\")\n",
        "print(\"dW1 = \"+ str(model.linear[0].dW))\n",
        "print(\"db1 = \"+ str(model.linear[0].db))\n",
        "print(\"dA_prev = \"+ str(dA_prev) +\"\\n\")"
      ],
      "execution_count": 15,
      "outputs": [
        {
          "output_type": "stream",
          "name": "stdout",
          "text": [
            "Binary classification\n",
            "dW1 = [[-0.06277946  0.         -0.01569486]\n",
            " [ 0.26602938  0.05875647  0.05181823]\n",
            " [-0.37820327  0.         -0.09455082]]\n",
            "db1 = [[-0.03138973]\n",
            " [ 0.10363646]\n",
            " [-0.18910163]]\n",
            "dA_prev = [[-0.02128713  0.02675119  0.08406585]\n",
            " [ 0.03620889 -0.04550313 -0.52321654]\n",
            " [-0.06919444  0.08695554 -0.47247201]]\n",
            "\n",
            "Multi-class classification\n",
            "dW1 = [[ 0.16593371  0.          0.04148343]\n",
            " [ 0.33171007  0.15006987  0.04541005]\n",
            " [-0.32297709  0.         -0.08074427]]\n",
            "db1 = [[ 0.08296685]\n",
            " [ 0.0908201 ]\n",
            " [-0.16148854]]\n",
            "dA_prev = [[-0.04735391  0.05429414  0.10229066]\n",
            " [ 0.08054785 -0.09235301 -0.30227651]\n",
            " [-0.15392528  0.1764847  -0.34116033]]\n",
            "\n"
          ]
        }
      ]
    },
    {
      "cell_type": "markdown",
      "metadata": {
        "id": "9cYzCzY8N2wZ"
      },
      "source": [
        "Expected output: \n",
        "<table>\n",
        "  <tr>\n",
        "    <td>Binary classification </td>\n",
        "  </tr>\n",
        "  <tr>\n",
        "    <td>dW1: </td>\n",
        "    <td>[[-0.06277946  0.         -0.01569486]\n",
        " [ 0.26602938  0.05875647  0.05181823]\n",
        " [-0.37820327  0.         -0.09455082]]</td>\n",
        "  </tr>\n",
        "  <tr>\n",
        "    <td>db1: </td>\n",
        "    <td>[[-0.03138973]\n",
        " [ 0.10363646]\n",
        " [-0.18910163]]</td>\n",
        "  </tr>\n",
        "  <tr>\n",
        "    <td>dA1: </td>\n",
        "    <td>[[-0.02128713  0.02675119  0.08406585]\n",
        " [ 0.03620889 -0.04550313 -0.52321654]\n",
        " [-0.06919444  0.08695554 -0.47247201]]</td>\n",
        "  </tr>\n",
        "  <tr>\n",
        "    <td>Multi-class classification </td>\n",
        "  </tr>\n",
        "  <tr>\n",
        "    <td>dW1: </td>\n",
        "    <td>[[ 0.16593371  0.          0.04148343]\n",
        " [ 0.33171007  0.15006987  0.04541005]\n",
        " [-0.32297709  0.         -0.08074427]]</td>\n",
        "  </tr>\n",
        "  <tr>\n",
        "    <td>db1: </td>\n",
        "    <td>[[ 0.08296685]\n",
        " [ 0.0908201 ]\n",
        " [-0.16148854]]</td>\n",
        "  </tr>\n",
        "  <tr>\n",
        "    <td>dA1: </td>\n",
        "    <td>[[-0.04735391  0.05429414  0.10229066]\n",
        " [ 0.08054785 -0.09235301 -0.30227651]\n",
        " [-0.15392528  0.1764847  -0.34116033]]</td>\n",
        "  </tr>\n",
        "</table>"
      ]
    },
    {
      "cell_type": "markdown",
      "source": [
        "# 3.3.4. Model update parameters\n",
        "In this section you will update the parameters of the model, using gradient descent:\n",
        "\n",
        "$$ W^{[l]} = W^{[l]} - \\alpha \\text{ } dW^{[l]} $$$$ b^{[l]} = b^{[l]} - \\alpha \\text{ } db^{[l]} $$\n",
        "where $\\alpha$ is the learning rate.\n",
        "\n",
        "**Exercise**: Implement update() to update your parameters using gradient descent. (5%)\n",
        "\n",
        "**Instructions**: \n",
        "*   Use the functions you had previously written.\n",
        "*   Update parameters using gradient descent on every $W^{[l]}$ and $b^{[l]}$ for $l = 1, 2, ..., L$.\n"
      ],
      "metadata": {
        "id": "5wiJu3YlUCc7"
      }
    },
    {
      "cell_type": "code",
      "source": [
        "np.random.seed(1)\n",
        "parameters, grads = {\"W1\": np.random.rand(3, 4), \"b1\": np.random.rand(3,1), \"W2\": np.random.rand(1,3), \"b2\": np.random.rand(1,1)}, {\"dW1\": np.random.rand(3, 4), \"db1\": np.random.rand(3,1), \"dW2\": np.random.rand(1,3), \"db2\": np.random.rand(1,1)}\n",
        "model = Model([4, 3, 1], [\"relu\", \"sigmoid\"])\n",
        "model.linear[0].parameters = {\"W\": parameters[\"W1\"], \"b\": parameters[\"b1\"]}\n",
        "model.linear[1].parameters = {\"W\": parameters[\"W2\"], \"b\": parameters[\"b2\"]}\n",
        "model.linear[0].dW, model.linear[0].db, model.linear[1].dW, model.linear[1].db = grads[\"dW1\"], grads[\"db1\"], grads[\"dW2\"], grads[\"db2\"]\n",
        "model.update(0.1)\n",
        "\n",
        "print (\"W1 = \"+ str(model.linear[0].parameters[\"W\"]))\n",
        "print (\"b1 = \"+ str(model.linear[0].parameters[\"b\"]))\n",
        "print (\"W2 = \"+ str(model.linear[1].parameters[\"W\"]))\n",
        "print (\"b2 = \"+ str(model.linear[1].parameters[\"b\"]))\n",
        "\n",
        "np.random.seed(1)\n",
        "parameters, grads = {\"W1\": np.random.randn(3, 4), \"b1\": np.random.randn(3,1), \"W2\": np.random.randn(1,3), \"b2\": np.random.randn(1,1)}, {\"dW1\": np.random.randn(3, 4), \"db1\": np.random.randn(3,1), \"dW2\": np.random.randn(1,3), \"db2\": np.random.randn(1,1)}\n",
        "model = Model([4, 3, 1], [\"relu\", \"sigmoid\"])\n",
        "model.linear[0].parameters = {\"W\": parameters[\"W1\"], \"b\": parameters[\"b1\"]}\n",
        "model.linear[1].parameters = {\"W\": parameters[\"W2\"], \"b\": parameters[\"b2\"]}\n",
        "model.linear[0].dW, model.linear[0].db, model.linear[1].dW, model.linear[1].db = grads[\"dW1\"], grads[\"db1\"], grads[\"dW2\"], grads[\"db2\"]\n",
        "model.update(0.075)\n",
        "output[\"model_update_parameters\"] = {\"W1\": model.linear[0].parameters[\"W\"], \"b1\": model.linear[0].parameters[\"b\"], \"W2\": model.linear[1].parameters[\"W\"], \"b2\": model.linear[1].parameters[\"b\"]}"
      ],
      "metadata": {
        "id": "qoGA4O8BUCvq",
        "colab": {
          "base_uri": "https://localhost:8080/"
        },
        "outputId": "ce6afedf-bb53-4545-c2d1-5ac8e1294840"
      },
      "execution_count": 16,
      "outputs": [
        {
          "output_type": "stream",
          "name": "stdout",
          "text": [
            "W1 = [[ 0.39721186  0.64025004 -0.09671178  0.27099015]\n",
            " [ 0.07752363  0.00469968  0.09679955  0.33705631]\n",
            " [ 0.392862    0.52183369  0.33138026  0.67538482]]\n",
            "b1 = [[ 0.16234149]\n",
            " [ 0.78232848]\n",
            " [-0.02592894]]\n",
            "W2 = [[0.6012798  0.38575324 0.49003974]]\n",
            "b2 = [[0.05692437]]\n"
          ]
        }
      ]
    },
    {
      "cell_type": "markdown",
      "source": [
        "Expected output: \n",
        "<table>\n",
        "  <tr>\n",
        "    <td>W1: </td>\n",
        "    <td>[[ 0.39721186  0.64025004 -0.09671178  0.27099015]\n",
        " [ 0.07752363  0.00469968  0.09679955  0.33705631]\n",
        " [ 0.392862    0.52183369  0.33138026  0.67538482]]</td>\n",
        "  </tr>\n",
        "  <tr>\n",
        "    <td>b1: </td>\n",
        "    <td>[[ 0.16234149]\n",
        " [ 0.78232848]\n",
        " [-0.02592894]]</td>\n",
        "  </tr>\n",
        "  <tr>\n",
        "    <td>W2: </td>\n",
        "    <td>[[0.6012798  0.38575324 0.49003974]]</td>\n",
        "  </tr>\n",
        "  <tr>\n",
        "    <td>b2: </td>\n",
        "    <td>[[0.05692437]]</td>\n",
        "  </tr>\n",
        "</table>"
      ],
      "metadata": {
        "id": "9t-HfnHZWYIa"
      }
    },
    {
      "cell_type": "markdown",
      "metadata": {
        "id": "SmSBVaQOSRrk"
      },
      "source": [
        "# 4. Cost function\n",
        "In this section, you will implement the cost function. We use binary cross-entropy loss for binary classification and categorical cross-entropy loss for multi-class classification. You need to compute the cost, because you want to check if your model is actually learning. Cross-entropy loss is minimized, where smaller values represent a better model than larger values. A model that predicts perfect probabilities has a cross entropy or log loss of 0.0.\n",
        "\n",
        "## 4.1. Binary cross-entropy loss\n",
        "**Exercise**: Compute the binary cross-entropy cost $J$, using the following formula: (5%) $$-\\frac{1}{m} \\sum\\limits_{i = 1}^{m} (y^{(i)}\\log\\left(a^{[L] (i)}+ϵ\\right) + (1-y^{(i)})\\log\\left(1- a^{[L](i)}+ϵ\\right)), where\\ ϵ=1e-5$$"
      ]
    },
    {
      "cell_type": "code",
      "metadata": {
        "id": "MjBT0eYQaY81"
      },
      "source": [
        "# GRADED FUNCTION: compute_BCE_cost\n",
        "\n",
        "def compute_BCE_cost(AL, Y):\n",
        "    \"\"\"\n",
        "    Implement the binary cross-entropy cost function using the above formula.\n",
        "\n",
        "    Arguments:\n",
        "    AL -- probability vector corresponding to your label predictions, shape (1, number of examples)\n",
        "    Y -- true \"label\" vector (for example: containing 0 if non-cat, 1 if cat), shape (1, number of examples)\n",
        "\n",
        "    Returns:\n",
        "    cost -- binary cross-entropy cost\n",
        "    \"\"\"\n",
        "    \n",
        "    m = Y.shape[1]\n",
        "\n",
        "    # Compute loss from aL and y.\n",
        "    ### START CODE HERE ### (≈ 1 line of code)\n",
        "    cost = -1./m * np.sum(Y*np.log(AL+0.00001)+(1-Y)*np.log(1-AL+0.00001))\n",
        "    ### END CODE HERE ###\n",
        "    \n",
        "    cost = np.squeeze(cost)      # To make sure your cost's shape is what we expect (e.g. this turns [[17]] into 17).\n",
        "    assert(cost.shape == ())\n",
        "    \n",
        "    return cost"
      ],
      "execution_count": 17,
      "outputs": []
    },
    {
      "cell_type": "code",
      "metadata": {
        "id": "r07sqnIXaaMv",
        "colab": {
          "base_uri": "https://localhost:8080/"
        },
        "outputId": "8840967a-0731-4c78-933f-18761e4054cd"
      },
      "source": [
        "AL, Y = np.array([[0.9, 0.6, 0.4, 0.1, 0.2, 0.8]]), np.array([[1, 1, 1, 0, 0, 0]])\n",
        "\n",
        "print(\"cost = \" + str(compute_BCE_cost(AL, Y)))\n",
        "output[\"compute_BCE_cost\"] = compute_BCE_cost(np.array([[0.791, 0.983, 0.654, 0.102, 0.212, 0.091, 0.476, 0.899]]), np.array([[1, 1, 1, 1, 0, 0, 0, 0]]))"
      ],
      "execution_count": 19,
      "outputs": [
        {
          "output_type": "stream",
          "name": "stdout",
          "text": [
            "cost = 0.5783820772863568\n"
          ]
        }
      ]
    },
    {
      "cell_type": "markdown",
      "metadata": {
        "id": "4iRtgOx_IGPo"
      },
      "source": [
        "Expected output: \n",
        "<table>\n",
        "  <tr>\n",
        "    <td>cost: </td>\n",
        "    <td>0.5783820772863568</td>\n",
        "  </tr>\n",
        "</table>"
      ]
    },
    {
      "cell_type": "markdown",
      "metadata": {
        "id": "aealRyKbcQzG"
      },
      "source": [
        "## 4.2. Categorical cross-entropy loss\n",
        "**Exercise**: Compute the categorical cross-entropy cost $J$, using the following formula: (5%) $$-\\frac{1}{m} \\sum\\limits_{i = 1}^{m} (y^{(i)}\\log\\left(a^{[L] (i)}+ϵ\\right)), where\\ ϵ = 1e-5$$"
      ]
    },
    {
      "cell_type": "code",
      "metadata": {
        "id": "Owx-kTdcfxV5"
      },
      "source": [
        "# GRADED FUNCTION: compute_CCE_cost\n",
        "\n",
        "def compute_CCE_cost(AL, Y):\n",
        "    \"\"\"\n",
        "    Implement the categorical cross-entropy cost function using the above formula.\n",
        "\n",
        "    Arguments:\n",
        "    AL -- probability vector corresponding to your label predictions, shape (number of classes, number of examples)\n",
        "    Y -- true \"label\" vector (one hot vector, for example: [[1], [0], [0]] represents rock, [[0], [1], [0]] represents paper, [[0], [0], [1]] represents scissors \n",
        "                              in a Rock-Paper-Scissors image classification), shape (number of classes, number of examples)\n",
        "\n",
        "    Returns:\n",
        "    cost -- categorical cross-entropy cost\n",
        "    \"\"\"\n",
        "    \n",
        "    m = Y.shape[1]\n",
        "\n",
        "    # Compute loss from aL and y.\n",
        "    ### START CODE HERE ### (≈ 1 line of code)\n",
        "    cost = -1./m * np.sum(Y*np.log(AL+0.00001))\n",
        "    ### END CODE HERE ###\n",
        "    \n",
        "    cost = np.squeeze(cost)      # To make sure your cost's shape is what we expect (e.g. this turns [[17]] into 17).\n",
        "    assert(cost.shape == ())\n",
        "    \n",
        "    return cost"
      ],
      "execution_count": 18,
      "outputs": []
    },
    {
      "cell_type": "code",
      "metadata": {
        "id": "0YbHVAc7hSh3",
        "colab": {
          "base_uri": "https://localhost:8080/"
        },
        "outputId": "a4e27904-fea8-4c9d-b106-a7c79b19e84e"
      },
      "source": [
        "AL, Y = np.array([[0.8, 0.6, 0.4, 0.1, 0.2, 0.4], [0.1, 0.3, 0.5, 0.7, 0.1, 0.1], [0.1, 0.1, 0.1, 0.2, 0.7, 0.5]]), np.array([[1, 1, 0, 0, 0, 0], [0, 0, 1, 1, 0, 0], [0, 0, 0, 0, 1, 1]])\n",
        "print(\"cost = \" + str(compute_CCE_cost(AL, Y)))\n",
        "output[\"compute_CCE_cost\"] = compute_CCE_cost(np.array([[0.711, 0.001, 0.11], [0.099, 0.217, 0.09], [0.035, 0.599, 0.12], [0.068, 0.123, 0.1], [0.087, 0.06, 0.58]]), np.array([[1, 0, 0], [0, 0, 0], [0, 1, 0], [0, 0, 0], [0, 0, 1]]))"
      ],
      "execution_count": 20,
      "outputs": [
        {
          "output_type": "stream",
          "name": "stdout",
          "text": [
            "cost = 0.4722526144672341\n"
          ]
        }
      ]
    },
    {
      "cell_type": "markdown",
      "metadata": {
        "id": "p9VVIBB5Ic-D"
      },
      "source": [
        "Expected output: \n",
        "<table>\n",
        "  <tr>\n",
        "    <td>cost: </td>\n",
        "    <td>0.4722526144672341</td>\n",
        "  </tr>\n",
        "</table>"
      ]
    },
    {
      "cell_type": "markdown",
      "metadata": {
        "id": "mpQah0JDdMyl"
      },
      "source": [
        "# Basic implementation (binary classification)\n",
        "\n",
        "Congratulations on implementing all the functions by yourself. You have done an incredible job! 👏\n",
        "\n",
        "Now you have all the tools you need to get started with classification. In this section, you will build a binary classifier using the functions you had previously written. You will create a model that can determine whether breast cancer is malignant or benign based on 30 features. Features are computed from a digitized image of a fine needle aspirate (FNA) of a breast mass. They describe the characteristics of the cell nuclei present in the image.\n",
        "\n",
        "Ten real-valued features are computed for each cell nucleus:\n",
        "\n",
        "1.   radius (mean of distances from center to points on the perimeter)\n",
        "2.   texture (standard deviation of gray-scale values)\n",
        "3.   perimeter\n",
        "4.   area\n",
        "5.   smoothness (local variation in radius lengths)\n",
        "6.   compactness (perimeter^2 / area - 1.0)\n",
        "7.   concavity (severity of concave portions of the contour)\n",
        "8.   concave points (number of concave portions of the contour)\n",
        "9.   symmetry\n",
        "10.   fractal dimension (\"coastline approximation\" - 1)\n",
        "\n",
        "The mean, standard error and \"worst\" or largest (mean of the three\n",
        "largest values) of these features were computed for each image,\n",
        "resulting in 30 features. For instance, field 3 is Mean Radius, field\n",
        "13 is Radius SE, field 23 is Worst Radius.\n",
        "\n",
        "**Exercise**: Implement a binary classifier and tune hyperparameter. (10%)\n",
        "\n",
        "**Instruction**:\n",
        "*   Use the functions you had previously written.\n",
        "*   Preprocess the data by using min-max scaling to normalize X. Normalize the values of each feature between 0 and 1.\n",
        "*   Use batch gradient descent to train the model.\n",
        "\n"
      ]
    },
    {
      "cell_type": "code",
      "source": [
        "# load breast cancer wisconsin dataset\n",
        "X, y = datasets.load_breast_cancer(return_X_y=True)\n",
        "X = X[:500].T\n",
        "y = np.expand_dims(y[:500], axis=1).T\n",
        "\n",
        "print(\"shape of X: \" + str(X.shape))\n",
        "print(\"shape of y: \" + str(y.shape))\n",
        "\n",
        "# GRADED CODE: binary classification\n",
        "### START CODE HERE ###\n",
        "# min max scaling\n",
        "for i in range(X.shape[0]):\n",
        "  min = X[i][0]\n",
        "  max = min\n",
        "  for j in range(X.shape[1]):\n",
        "    if(X[i][j] > max):\n",
        "      max = X[i][j]\n",
        "    if(X[i][j] < min):\n",
        "      min = X[i][j]\n",
        "  for k in range(X.shape[1]):\n",
        "    X[i][k] = (X[i][k] - min) / (max - min)\n",
        "### END CODE HERE ###\n",
        "\n",
        "# split training set and validation set\n",
        "X_train, y_train = X[:, :400], y[:, :400]\n",
        "X_val, y_val = X[:, 400:], y[:, 400:]\n",
        "\n",
        "print(\"shape of X_train: \" + str(X_train.shape) + \" shape of y_train: \" + str(y_train.shape))\n",
        "print(\"shape of X_val: \" + str(X_val.shape) + \" shape of y_val: \" + str(y_val.shape))"
      ],
      "metadata": {
        "id": "5OzSS4zFHezi",
        "colab": {
          "base_uri": "https://localhost:8080/"
        },
        "outputId": "4de5ce2d-40bd-489d-9ba7-6c2ddca8241c"
      },
      "execution_count": 21,
      "outputs": [
        {
          "output_type": "stream",
          "name": "stdout",
          "text": [
            "shape of X: (30, 500)\n",
            "shape of y: (1, 500)\n",
            "shape of X_train: (30, 400) shape of y_train: (1, 400)\n",
            "shape of X_val: (30, 100) shape of y_val: (1, 100)\n"
          ]
        }
      ]
    },
    {
      "cell_type": "code",
      "metadata": {
        "id": "fI7JY5ESjhZ2",
        "colab": {
          "base_uri": "https://localhost:8080/",
          "height": 1000
        },
        "outputId": "83ae9220-caf4-4d6a-9bf3-a867efe60fb1"
      },
      "source": [
        "# GRADED CODE: binary classification\n",
        "### START CODE HERE ###\n",
        "layers_dims = [30,15,1]\n",
        "activation_fn = [\"relu\", \"sigmoid\"]\n",
        "learning_rate = 0.5\n",
        "num_iterations = 10000\n",
        "print_cost = True\n",
        "classes = 2\n",
        "costs = []                         # keep track of cost\n",
        "model = Model(layers_dims, activation_fn)\n",
        "\n",
        "# Loop (batch gradient descent)\n",
        "for i in range(0, num_iterations):\n",
        "    # forward\n",
        "    AL = model.forward(X=X_train)\n",
        "\n",
        "    # compute cost\n",
        "    if classes == 2:\n",
        "        cost = compute_BCE_cost(AL=AL, Y=y_train)\n",
        "    else:\n",
        "        cost = compute_CCE_cost(AL=AL, Y=y_train)\n",
        "    \n",
        "    # backward\n",
        "    dA_prev = model.backward(AL=AL, Y=y_train)\n",
        "    \n",
        "    # update\n",
        "    model.update(learning_rate=learning_rate)\n",
        "\n",
        "    if print_cost and i % 100 == 0:\n",
        "        print (\"Cost after iteration %i: %f\" %(i, cost))\n",
        "        costs.append(cost)\n",
        "            \n",
        "# plot the cost\n",
        "plt.plot(np.squeeze(costs))\n",
        "plt.ylabel('cost')\n",
        "plt.xlabel('iterations (per hundreds)')\n",
        "plt.title(\"Learning rate =\" + str(learning_rate))\n",
        "plt.show()\n",
        "### END CODE HERE ###"
      ],
      "execution_count": 22,
      "outputs": [
        {
          "output_type": "stream",
          "name": "stdout",
          "text": [
            "Cost after iteration 0: 0.720004\n",
            "Cost after iteration 100: 0.116749\n",
            "Cost after iteration 200: 0.081812\n",
            "Cost after iteration 300: 0.070342\n",
            "Cost after iteration 400: 0.064025\n",
            "Cost after iteration 500: 0.059674\n",
            "Cost after iteration 600: 0.056331\n",
            "Cost after iteration 700: 0.053351\n",
            "Cost after iteration 800: 0.050685\n",
            "Cost after iteration 900: 0.048344\n",
            "Cost after iteration 1000: 0.046394\n",
            "Cost after iteration 1100: 0.044712\n",
            "Cost after iteration 1200: 0.043222\n",
            "Cost after iteration 1300: 0.041854\n",
            "Cost after iteration 1400: 0.040610\n",
            "Cost after iteration 1500: 0.039470\n",
            "Cost after iteration 1600: 0.038408\n",
            "Cost after iteration 1700: 0.037403\n",
            "Cost after iteration 1800: 0.036452\n",
            "Cost after iteration 1900: 0.035545\n",
            "Cost after iteration 2000: 0.034682\n",
            "Cost after iteration 2100: 0.033857\n",
            "Cost after iteration 2200: 0.033068\n",
            "Cost after iteration 2300: 0.032313\n",
            "Cost after iteration 2400: 0.031585\n",
            "Cost after iteration 2500: 0.030888\n",
            "Cost after iteration 2600: 0.030217\n",
            "Cost after iteration 2700: 0.029573\n",
            "Cost after iteration 2800: 0.028952\n",
            "Cost after iteration 2900: 0.028353\n",
            "Cost after iteration 3000: 0.027776\n",
            "Cost after iteration 3100: 0.027219\n",
            "Cost after iteration 3200: 0.026679\n",
            "Cost after iteration 3300: 0.026158\n",
            "Cost after iteration 3400: 0.025653\n",
            "Cost after iteration 3500: 0.025164\n",
            "Cost after iteration 3600: 0.024564\n",
            "Cost after iteration 3700: 0.024006\n",
            "Cost after iteration 3800: 0.023491\n",
            "Cost after iteration 3900: 0.023015\n",
            "Cost after iteration 4000: 0.022566\n",
            "Cost after iteration 4100: 0.022132\n",
            "Cost after iteration 4200: 0.021712\n",
            "Cost after iteration 4300: 0.021305\n",
            "Cost after iteration 4400: 0.020911\n",
            "Cost after iteration 4500: 0.020508\n",
            "Cost after iteration 4600: 0.020075\n",
            "Cost after iteration 4700: 0.019690\n",
            "Cost after iteration 4800: 0.019324\n",
            "Cost after iteration 4900: 0.018974\n",
            "Cost after iteration 5000: 0.018638\n",
            "Cost after iteration 5100: 0.018310\n",
            "Cost after iteration 5200: 0.017991\n",
            "Cost after iteration 5300: 0.017681\n",
            "Cost after iteration 5400: 0.017381\n",
            "Cost after iteration 5500: 0.017090\n",
            "Cost after iteration 5600: 0.016807\n",
            "Cost after iteration 5700: 0.016532\n",
            "Cost after iteration 5800: 0.016264\n",
            "Cost after iteration 5900: 0.016003\n",
            "Cost after iteration 6000: 0.015749\n",
            "Cost after iteration 6100: 0.015501\n",
            "Cost after iteration 6200: 0.015259\n",
            "Cost after iteration 6300: 0.015023\n",
            "Cost after iteration 6400: 0.014793\n",
            "Cost after iteration 6500: 0.014570\n",
            "Cost after iteration 6600: 0.014349\n",
            "Cost after iteration 6700: 0.014135\n",
            "Cost after iteration 6800: 0.013927\n",
            "Cost after iteration 6900: 0.013723\n",
            "Cost after iteration 7000: 0.013523\n",
            "Cost after iteration 7100: 0.013328\n",
            "Cost after iteration 7200: 0.013141\n",
            "Cost after iteration 7300: 0.012951\n",
            "Cost after iteration 7400: 0.012769\n",
            "Cost after iteration 7500: 0.012590\n",
            "Cost after iteration 7600: 0.012416\n",
            "Cost after iteration 7700: 0.012244\n",
            "Cost after iteration 7800: 0.012076\n",
            "Cost after iteration 7900: 0.011911\n",
            "Cost after iteration 8000: 0.011748\n",
            "Cost after iteration 8100: 0.011589\n",
            "Cost after iteration 8200: 0.011434\n",
            "Cost after iteration 8300: 0.011281\n",
            "Cost after iteration 8400: 0.011131\n",
            "Cost after iteration 8500: 0.010985\n",
            "Cost after iteration 8600: 0.010841\n",
            "Cost after iteration 8700: 0.010700\n",
            "Cost after iteration 8800: 0.010562\n",
            "Cost after iteration 8900: 0.010426\n",
            "Cost after iteration 9000: 0.010293\n",
            "Cost after iteration 9100: 0.010163\n",
            "Cost after iteration 9200: 0.010035\n",
            "Cost after iteration 9300: 0.009909\n",
            "Cost after iteration 9400: 0.009786\n",
            "Cost after iteration 9500: 0.009665\n",
            "Cost after iteration 9600: 0.009546\n",
            "Cost after iteration 9700: 0.009429\n",
            "Cost after iteration 9800: 0.009315\n",
            "Cost after iteration 9900: 0.009202\n"
          ]
        },
        {
          "output_type": "display_data",
          "data": {
            "text/plain": [
              "<Figure size 432x288 with 1 Axes>"
            ],
            "image/png": "[encoded data removed]"
          },
          "metadata": {
            "needs_background": "light"
          }
        }
      ]
    },
    {
      "cell_type": "code",
      "source": [
        "# Helper function\n",
        "def predict(X, y, model, classes):\n",
        "    \"\"\"\n",
        "    This function is used to predict the results of a  L-layer neural network.\n",
        "    \n",
        "    Arguments:\n",
        "    X -- data set of examples you would like to label\n",
        "    model -- trained model\n",
        "    classes - number of classes, 2 for binary classification, >2 for multi-class classification\n",
        "    \n",
        "    Returns:\n",
        "    p -- predictions for the given dataset X\n",
        "    \"\"\"\n",
        "    \n",
        "    m = X.shape[1]\n",
        "    n = len(model.linear) # number of layers in the neural network\n",
        "\n",
        "    if classes == 2:\n",
        "      p = np.zeros((1,m))\n",
        "    else:\n",
        "      p = np.zeros((classes, m))\n",
        "    \n",
        "    # Forward propagation\n",
        "    probas = model.forward(X)\n",
        "    \n",
        "    if classes == 2:\n",
        "      # convert probas to 0/1 predictions\n",
        "      for i in range(0, probas.shape[1]):\n",
        "          if probas[0,i] > 0.5:\n",
        "              p[0,i] = 1\n",
        "          else:\n",
        "              p[0,i] = 0\n",
        "\n",
        "      #print results\n",
        "      if y is not None:\n",
        "        print(\"Accuracy: \"  + str(np.sum((p == y)/m)))\n",
        "\n",
        "    else:\n",
        "      # convert probas to one hot vector predictions\n",
        "      prediction = np.argmax(probas, axis=0, out=None)\n",
        "    \n",
        "      for i in range(len(prediction)):\n",
        "          p[prediction[i], i] = 1\n",
        "\n",
        "      #print results\n",
        "      if y is not None:\n",
        "        correct = 0\n",
        "        for i in range(m):\n",
        "          if (p[:, i] == y[:, i]).all():\n",
        "            correct += 1\n",
        "        print(\"Accuracy: \"  + str(correct/m))\n",
        "        \n",
        "    return p"
      ],
      "metadata": {
        "id": "woCqucFUYXe6"
      },
      "execution_count": 23,
      "outputs": []
    },
    {
      "cell_type": "code",
      "metadata": {
        "id": "xkeoJrFZznMf",
        "colab": {
          "base_uri": "https://localhost:8080/"
        },
        "outputId": "812edacf-5753-4b25-c249-4ec479d7b544"
      },
      "source": [
        "pred_train = predict(X_train, y_train, model, 2)"
      ],
      "execution_count": 24,
      "outputs": [
        {
          "output_type": "stream",
          "name": "stdout",
          "text": [
            "Accuracy: 0.9999999999999998\n"
          ]
        }
      ]
    },
    {
      "cell_type": "code",
      "metadata": {
        "id": "mERo3g41zsyX",
        "colab": {
          "base_uri": "https://localhost:8080/"
        },
        "outputId": "8cccb9a3-b889-4467-8599-427dbd7f0a17"
      },
      "source": [
        "pred_val = predict(X_val, y_val, model, 2)\n",
        "output[\"basic_pred_val\"] = pred_val\n",
        "output[\"basic_layers_dims\"] = layers_dims\n",
        "output[\"basic_activation_fn\"] = activation_fn\n",
        "basic_model_parameters = []\n",
        "for basic_linear in model.linear:\n",
        "  basic_model_parameters.append(basic_linear.parameters)\n",
        "output[\"basic_model_parameters\"] = basic_model_parameters"
      ],
      "execution_count": 25,
      "outputs": [
        {
          "output_type": "stream",
          "name": "stdout",
          "text": [
            "Accuracy: 0.98\n"
          ]
        }
      ]
    },
    {
      "cell_type": "markdown",
      "metadata": {
        "id": "oMCpPFMVdj36"
      },
      "source": [
        "# Advanced implementation (multi class classification)\n",
        "\n",
        "In this section, you need to implement a multi-class classifier using the functions you had previously written. You will create a model that can classify ten handwritten digits. The MNIST handwritten digit classification problem is a standard dataset in computer vision and deep learning. We usually use convolutional deep-learning neural networks for image classification. However, using only dense layers appears to be enough to handle this simple dataset, and this is a good way to get started with image datasets. \n",
        "\n",
        "**Exercise**: Implement a multi-class classifier and tune hyperparameter. (15%)\n",
        "\n",
        "**Instruction**:\n",
        "*   Use the functions you had previously written.\n",
        "*   Preprocess the data to match the correct input format.\n",
        "*   Use mini-batch gradient descent to train the model.\n",
        "\n",
        "**Hint**:\n",
        "For data preprocessing, please be careful with the dimension of the inputs (X and y) and also note that the values of images are usually integers that fall between 0 and 255. You need to change the data type into float and scale the values between 0 and 1.\n",
        "\n",
        "In Batch Gradient Descent, we consider all the samples for every step of Gradient Descent. But what if our dataset is huge? MNIST training data contains 60000 training samples, then to take one step, the model will have to calculate the gradients of all the 60000 samples. This does not seem an efficient way. Hence, mini-batch gradient descent is recommended to be used in this part."
      ]
    },
    {
      "cell_type": "code",
      "metadata": {
        "id": "bVSfqnXqXGdC",
        "colab": {
          "base_uri": "https://localhost:8080/",
          "height": 407
        },
        "outputId": "23561dad-7658-4ef4-fb77-abb441b23ee1"
      },
      "source": [
        "# load data\n",
        "data = np.load(\"advanced_data.npz\")\n",
        "X_train = data[\"X_train\"]\n",
        "y_train = data[\"y_train\"].reshape(-1)\n",
        "X_test = data[\"X_test\"]\n",
        "\n",
        "# summarize loaded dataset\n",
        "print('Train: X=%s, y=%s' % (X_train.shape, y_train.shape))\n",
        "print('Test: X=%s' % (X_test.shape, ))\n",
        "# plot first few images\n",
        "for i in range(9):\n",
        "\t# define subplot\n",
        "\tplt.subplot(330 + 1 + i)\n",
        "\t# plot raw pixel data\n",
        "\tplt.imshow(X_train[i], cmap='gray', vmin=0, vmax=255)\n",
        "# show the figure\n",
        "plt.show()\n",
        "\n",
        "# GRADED CODE: multi-class classification (Data preprocessing)\n",
        "### START CODE HERE ###\n",
        "temp_array1 = np.zeros((28*28,60000))\n",
        "for i in range(60000):\n",
        "\tfor j in range(28):\n",
        "\t\tfor k in range(28):\n",
        "\t\t\ttemp_array1[j*28+k][i] = X_train[i][j][k]/255\n",
        "X_train = temp_array1\n",
        "\n",
        "temp_array2 = np.zeros((28*28,10000))\n",
        "for i in range(10000):\n",
        "\tfor j in range(28):\n",
        "\t\tfor k in range(28):\n",
        "\t\t\ttemp_array2[j*28+k][i] = X_test[i][j][k]/255\n",
        "X_test = temp_array2\n",
        "\n",
        "temp_array3 = np.zeros((10,60000))\n",
        "for i in range(60000):\n",
        "\ttemp_array3[int(y_train[i])][i] = 1\n",
        "y_train = temp_array3\n",
        "### END CODE HERE ###\n",
        "\n",
        "print(\"shape of X_train: \" + str(X_train.shape))\n",
        "print(\"shape of y_train: \" + str(y_train.shape))\n",
        "print(\"shape of X_test: \" + str(X_test.shape))\n",
        "\n",
        "# GRADED CODE: multi-class classification (Data preprocessing)\n",
        "### START CODE HERE ###\n",
        "None\n",
        "### END CODE HERE ###\n",
        "\n",
        "print(\"shape of X_train: \" + str(X_train.shape))\n",
        "print(\"shape of y_train: \" + str(y_train.shape))\n",
        "print(\"shape of X_test: \" + str(X_test.shape))"
      ],
      "execution_count": 26,
      "outputs": [
        {
          "output_type": "stream",
          "name": "stdout",
          "text": [
            "Train: X=(60000, 28, 28), y=(60000,)\n",
            "Test: X=(10000, 28, 28)\n"
          ]
        },
        {
          "output_type": "display_data",
          "data": {
            "text/plain": [
              "<Figure size 432x288 with 9 Axes>"
            ],
            "image/png": "[encoded data removed]"
          },
          "metadata": {
            "needs_background": "light"
          }
        },
        {
          "output_type": "stream",
          "name": "stdout",
          "text": [
            "shape of X_train: (784, 60000)\n",
            "shape of y_train: (10, 60000)\n",
            "shape of X_test: (784, 10000)\n",
            "shape of X_train: (784, 60000)\n",
            "shape of y_train: (10, 60000)\n",
            "shape of X_test: (784, 10000)\n"
          ]
        }
      ]
    },
    {
      "cell_type": "code",
      "metadata": {
        "id": "ljAcf2tpQDR-"
      },
      "source": [
        "#You can split training and validation set here. (Optional)\n",
        "### START CODE HERE ###\n",
        "\n",
        "### END CODE HERE ###"
      ],
      "execution_count": null,
      "outputs": []
    },
    {
      "cell_type": "code",
      "metadata": {
        "id": "HYD-qRs7doU0",
        "colab": {
          "base_uri": "https://localhost:8080/",
          "height": 642
        },
        "outputId": "fec86649-e805-4046-eaa5-df3bebe51bc9"
      },
      "source": [
        "# GRADED CODE: multi-class classification\n",
        "### START CODE HERE ###\n",
        "def random_mini_batches(X, Y, mini_batch_size = 64):\n",
        "    \"\"\"\n",
        "    Creates a list of random minibatches from (X, Y)\n",
        "    \n",
        "    Arguments:\n",
        "    X -- input data, of shape (input size, number of examples)\n",
        "    Y -- true \"label\" vector, of shape (number of classes, number of examples)\n",
        "    mini_batch_size -- size of the mini-batches, integer\n",
        "    \n",
        "    Returns:\n",
        "    mini_batches -- list of synchronous (mini_batch_X, mini_batch_Y)\n",
        "    \"\"\"\n",
        "    \n",
        "    m = X.shape[1]                  # number of training examples\n",
        "    mini_batches = []\n",
        "        \n",
        "    # Step 1: Shuffle (X, Y)\n",
        "    permutation = list(np.random.permutation(m))\n",
        "    shuffled_X = X[:, permutation]\n",
        "    shuffled_Y = Y[:, permutation].reshape((10, m))\n",
        "    \n",
        "    inc = mini_batch_size\n",
        "\n",
        "    # Step 2 - Partition (shuffled_X, shuffled_Y).\n",
        "    # Cases with a complete mini batch size only i.e each of 64 examples.\n",
        "    num_complete_minibatches = math.floor(m / mini_batch_size) # number of mini batches of size mini_batch_size in your partitionning\n",
        "    for k in range(0, num_complete_minibatches):\n",
        "        # (approx. 2 lines)\n",
        "        mini_batch_X = shuffled_X[:, k*mini_batch_size:(k+1)*mini_batch_size]\n",
        "        mini_batch_Y = shuffled_Y[:, k*mini_batch_size:(k+1)*mini_batch_size]\n",
        "        mini_batch = (mini_batch_X, mini_batch_Y)\n",
        "        mini_batches.append(mini_batch)\n",
        "    \n",
        "    # For handling the end case (last mini-batch < mini_batch_size i.e less than 64)\n",
        "    if m % mini_batch_size != 0:\n",
        "        #(approx. 2 lines)\n",
        "        mini_batch_X = shuffled_X[:, (k+1)*mini_batch_size:]\n",
        "        mini_batch_Y = shuffled_Y[:, (k+1)*mini_batch_size:]\n",
        "        mini_batch = (mini_batch_X, mini_batch_Y)\n",
        "        mini_batches.append(mini_batch)\n",
        "    \n",
        "    return mini_batches\n",
        "\n",
        "\n",
        "layers_dims = [784,512,256,128,64,10]\n",
        "activation_fn = [\"relu\", \"relu\", \"relu\", \"relu\", \"softmax\"]\n",
        "learning_rate = 0.1\n",
        "num_iterations = 20\n",
        "batch_size = 60\n",
        "print_cost = True\n",
        "classes = 10\n",
        "costs = []                         # keep track of cost\n",
        "model = Model(layers_dims, activation_fn)\n",
        "\n",
        "# Loop (gradient descent)\n",
        "for i in range(0, num_iterations):\n",
        "    mini_batches = random_mini_batches(X_train, y_train, batch_size)\n",
        "    for batch in mini_batches:\n",
        "        x_batch, y_batch = batch\n",
        "\n",
        "        # forward\n",
        "        AL = model.forward(X=x_batch)\n",
        "\n",
        "        # compute cost\n",
        "        if classes == 2:\n",
        "            cost = compute_BCE_cost(AL=AL, Y=y_batch)\n",
        "        else:\n",
        "            cost = compute_CCE_cost(AL=AL, Y=y_batch)\n",
        "\n",
        "        # backward\n",
        "        dA_prev = model.backward(AL=AL, Y=y_batch)\n",
        "        # update\n",
        "        model.update(learning_rate=learning_rate)\n",
        "\n",
        "    if print_cost and i % 1 == 0:\n",
        "        print (\"Cost after iteration %i: %f\" %(i, cost))\n",
        "        costs.append(cost)\n",
        "            \n",
        "# plot the cost\n",
        "plt.plot(np.squeeze(costs))\n",
        "plt.ylabel('cost')\n",
        "plt.xlabel('iterations (per hundreds)')\n",
        "plt.title(\"Learning rate =\" + str(learning_rate))\n",
        "plt.show()\n",
        "### END CODE HERE ###"
      ],
      "execution_count": 36,
      "outputs": [
        {
          "output_type": "stream",
          "name": "stdout",
          "text": [
            "Cost after iteration 0: 0.323234\n",
            "Cost after iteration 1: 0.139925\n",
            "Cost after iteration 2: 0.017952\n",
            "Cost after iteration 3: 0.025734\n",
            "Cost after iteration 4: 0.068347\n",
            "Cost after iteration 5: 0.001431\n",
            "Cost after iteration 6: 0.018506\n",
            "Cost after iteration 7: 0.036905\n",
            "Cost after iteration 8: 0.028771\n",
            "Cost after iteration 9: 0.000881\n",
            "Cost after iteration 10: 0.001290\n",
            "Cost after iteration 11: 0.001337\n",
            "Cost after iteration 12: 0.000853\n",
            "Cost after iteration 13: -0.000003\n",
            "Cost after iteration 14: 0.000303\n",
            "Cost after iteration 15: 0.000208\n",
            "Cost after iteration 16: 0.000180\n",
            "Cost after iteration 17: 0.000076\n",
            "Cost after iteration 18: 0.000353\n",
            "Cost after iteration 19: 0.000146\n"
          ]
        },
        {
          "output_type": "display_data",
          "data": {
            "text/plain": [
              "<Figure size 432x288 with 1 Axes>"
            ],
            "image/png": "[encoded data removed]"
          },
          "metadata": {
            "needs_background": "light"
          }
        }
      ]
    },
    {
      "cell_type": "code",
      "source": [
        "pred_train = predict(X_train, y_train, model, 10)"
      ],
      "metadata": {
        "colab": {
          "base_uri": "https://localhost:8080/"
        },
        "id": "boE3UhCKgY1X",
        "outputId": "070a8cf5-ad4f-4ca3-d41c-24347742ea90"
      },
      "execution_count": 37,
      "outputs": [
        {
          "output_type": "stream",
          "name": "stdout",
          "text": [
            "Accuracy: 1.0\n"
          ]
        }
      ]
    },
    {
      "cell_type": "code",
      "metadata": {
        "id": "YHFDuq2BQ2qI"
      },
      "source": [
        "pred_test = predict(X_test, None, model, 10)\n",
        "output[\"advanced_pred_test\"] = pred_test\n",
        "output[\"advanced_layers_dims\"] = layers_dims\n",
        "output[\"advanced_activation_fn\"] = activation_fn\n",
        "advanced_model_parameters = []\n",
        "for advanced_linear in model.linear:\n",
        "  advanced_model_parameters.append(advanced_linear.parameters)\n",
        "output[\"advanced_model_parameters\"] = advanced_model_parameters"
      ],
      "execution_count": 39,
      "outputs": []
    },
    {
      "cell_type": "markdown",
      "metadata": {
        "id": "WXGnS3HQeNUc"
      },
      "source": [
        "# Submit prediction"
      ]
    },
    {
      "cell_type": "code",
      "metadata": {
        "id": "twMsmXbQeDL_"
      },
      "source": [
        "# sanity check\n",
        "assert(list(output.keys()) == ['linear_initialize_parameters', 'linear_forward', 'linear_backward', 'linear_update_parameters', 'sigmoid', 'relu', 'softmax', 'sigmoid_backward', 'relu_backward', 'softmax_CCE_backward', 'model_initialize_parameters', 'model_forward_sigmoid', 'model_forward_relu', 'model_forward_softmax', 'model_backward_sigmoid', 'model_backward_relu', 'model_update_parameters', 'compute_BCE_cost', 'compute_CCE_cost', 'basic_pred_val', 'basic_layers_dims', 'basic_activation_fn', 'basic_model_parameters', 'advanced_pred_test', 'advanced_layers_dims', 'advanced_activation_fn', 'advanced_model_parameters'])"
      ],
      "execution_count": 40,
      "outputs": []
    },
    {
      "cell_type": "code",
      "metadata": {
        "id": "bCJ0XTO_zE8A"
      },
      "source": [
        "np.save(\"output.npy\", output)"
      ],
      "execution_count": 41,
      "outputs": []
    },
    {
      "cell_type": "code",
      "metadata": {
        "id": "wFBFUUEg1to-",
        "colab": {
          "base_uri": "https://localhost:8080/"
        },
        "outputId": "8c41fad9-ec80-4e82-fb81-2969afa24a0b"
      },
      "source": [
        "# sanity check\n",
        "submit = np.load(\"output.npy\", allow_pickle=True).item()\n",
        "for key, value in submit.items():\n",
        "  print(str(key) + \"： \" + str(type(value)))"
      ],
      "execution_count": 42,
      "outputs": [
        {
          "output_type": "stream",
          "name": "stdout",
          "text": [
            "linear_initialize_parameters： <class 'dict'>\n",
            "linear_forward： <class 'tuple'>\n",
            "linear_backward： <class 'tuple'>\n",
            "linear_update_parameters： <class 'dict'>\n",
            "sigmoid： <class 'tuple'>\n",
            "relu： <class 'tuple'>\n",
            "softmax： <class 'tuple'>\n",
            "sigmoid_backward： <class 'numpy.ndarray'>\n",
            "relu_backward： <class 'numpy.ndarray'>\n",
            "softmax_CCE_backward： <class 'numpy.ndarray'>\n",
            "model_initialize_parameters： <class 'tuple'>\n",
            "model_forward_sigmoid： <class 'tuple'>\n",
            "model_forward_relu： <class 'tuple'>\n",
            "model_forward_softmax： <class 'tuple'>\n",
            "model_backward_sigmoid： <class 'tuple'>\n",
            "model_backward_relu： <class 'tuple'>\n",
            "model_update_parameters： <class 'dict'>\n",
            "compute_BCE_cost： <class 'numpy.float64'>\n",
            "compute_CCE_cost： <class 'numpy.float64'>\n",
            "basic_pred_val： <class 'numpy.ndarray'>\n",
            "basic_layers_dims： <class 'list'>\n",
            "basic_activation_fn： <class 'list'>\n",
            "basic_model_parameters： <class 'list'>\n",
            "advanced_pred_test： <class 'numpy.ndarray'>\n",
            "advanced_layers_dims： <class 'list'>\n",
            "advanced_activation_fn： <class 'list'>\n",
            "advanced_model_parameters： <class 'list'>\n"
          ]
        }
      ]
    },
    {
      "cell_type": "markdown",
      "metadata": {
        "id": "trQqZni7jhP0"
      },
      "source": [
        "Expected output: <br>\n",
        "<small>\n",
        "linear_initialize_parameters： <class 'dict'> <br>\n",
        "linear_forward： <class 'tuple'> <br>\n",
        "linear_backward： <class 'tuple'> <br>\n",
        "linear_update_parameters： <class 'dict'> <br>\n",
        "sigmoid： <class 'tuple'> <br>\n",
        "relu： <class 'tuple'> <br>\n",
        "softmax： <class 'tuple'> <br>\n",
        "sigmoid_backward： <class 'numpy.ndarray'> <br>\n",
        "relu_backward： <class 'numpy.ndarray'> <br>\n",
        "softmax_CCE_backward： <class 'numpy.ndarray'> <br>\n",
        "model_initialize_parameters： <class 'tuple'> <br>\n",
        "model_forward_sigmoid： <class 'tuple'> <br>\n",
        "model_forward_relu： <class 'tuple'> <br>\n",
        "model_forward_softmax： <class 'tuple'> <br>\n",
        "model_backward_sigmoid： <class 'tuple'> <br>\n",
        "model_backward_relu： <class 'tuple'> <br>\n",
        "model_update_parameters： <class 'dict'> <br>\n",
        "compute_BCE_cost： <class 'numpy.ndarray'> <br> \n",
        "compute_CCE_cost： <class 'numpy.ndarray'> <br>\n",
        "basic_pred_val： <class 'numpy.ndarray'> <br>\n",
        "basic_layers_dims： <class 'list'> <br>\n",
        "basic_activation_fn： <class 'list'> <br>\n",
        "basic_model_parameters： <class 'list'> <br>\n",
        "advanced_pred_test： <class 'numpy.ndarray'> <br>\n",
        "advanced_layers_dims： <class 'list'> <br>\n",
        "advanced_activation_fn： <class 'list'> <br>\n",
        "advanced_model_parameters： <class 'list'> <br>\n",
        "</small>"
      ]
    },
    {
      "cell_type": "code",
      "source": [],
      "metadata": {
        "id": "8K-P3U7AovPJ"
      },
      "execution_count": null,
      "outputs": []
    }
  ]
}