{
  "cells": [
    {
      "cell_type": "markdown",
      "metadata": {
        "id": "fI00-KuddN2u"
      },
      "source": [
        "Mount Google Drive (optional)"
      ]
    },
    {
      "cell_type": "code",
      "execution_count": null,
      "metadata": {
        "id": "Uf6ucZcj6kpK"
      },
      "outputs": [],
      "source": [
        "from google.colab import drive\n",
        "drive.mount('/content/drive')\n",
        "\n",
        "import os\n",
        "# os.chdir(\"/content/drive/MyDrive/....\")  # file path\n",
        "print(os.getcwd())"
      ]
    },
    {
      "cell_type": "markdown",
      "metadata": {
        "id": "yvRo67Io4NKF"
      },
      "source": [
        "# **HW2 : Decision Tree and Random Forest**\n",
        "In *assignment 2*, you need to finish :\n",
        "\n",
        "1. Basic Part : Implement a **Decision Tree** model and predict whether the patients in the validation set have diabetes\n",
        "> * Step 1 : Load the input data\n",
        "> * Step 2 : Calculate the Entropy and Information Gain\n",
        "> * Step 3 : Find the Best Split\n",
        "> * Step 4 : Split into 2 branches\n",
        "> * Step 5 : Build decision tree\n",
        "> * Step 6 : Save the answers from step2 to step5\n",
        "> * Step 7 : Split data into training set and validation set\n",
        "> * Step 8 : Train a decision tree model with training set\n",
        "> * Step 9 : Predict the cases in the *validation set* by using the model trained in *Step8*\n",
        "> * Step 10 : Calculate the f1-score of your predictions in *Step9*\n",
        "> * Step 11 : Write the Output File\n",
        "\n",
        "2. Advanced Part : Build a **Random Forest** model to make predictions\n",
        "> * Step 1 : Load the input data\n",
        "> * Step 2 : Load the test data\n",
        "> * Step 3 : Build a random forest\n",
        "> * Step 4 : Predict the cases in the test data by using the model trained in *Step3*\n",
        "> * Step 5 : Save the predictions(from *Step 4*) in a csv file\n",
        "\n"
      ]
    },
    {
      "cell_type": "markdown",
      "metadata": {
        "id": "wwVh8lYD4kbV"
      },
      "source": [
        "# **Basic Part** (60%)\n",
        "In this part, your need to implement a Decision Tree model by completing the following given functions.\n",
        "\n",
        "Also, you need to run these functions with the given input variables and save the output in a csv file **hw2_basic.csv**"
      ]
    },
    {
      "cell_type": "markdown",
      "metadata": {
        "id": "h2ibEyDa46X2"
      },
      "source": [
        "## Import Packages\n",
        "\n",
        "\n",
        "> Note : You **cannot** import any other packages in both basic part and advanced part\n",
        "\n",
        "\n",
        "\n",
        "\n"
      ]
    },
    {
      "cell_type": "code",
      "execution_count": 118,
      "metadata": {
        "id": "RMjaYVZD6kmb"
      },
      "outputs": [],
      "source": [
        "import numpy as np\n",
        "import pandas as pd\n",
        "import math\n",
        "import random\n",
        "from numpy import sqrt\n",
        "from sklearn.metrics import f1_score\n",
        "from sklearn.metrics import accuracy_score"
      ]
    },
    {
      "cell_type": "markdown",
      "metadata": {
        "id": "zrQXqH475G8-"
      },
      "source": [
        "## Step1: Load the input data\n",
        "First, load the input file **hw2_input_basic.csv**"
      ]
    },
    {
      "cell_type": "code",
      "execution_count": null,
      "metadata": {},
      "outputs": [],
      "source": [
        "input_data = pd.read_csv('hw2_input_basic.csv')\n",
        "input_data"
      ]
    },
    {
      "cell_type": "markdown",
      "metadata": {
        "id": "BhtqUTG9Nlyz"
      },
      "source": [
        "## Global attributes\n",
        "Define the global attributes\n",
        "> Note : You **cannot** modify the values of these attributes we given in the basic part"
      ]
    },
    {
      "cell_type": "code",
      "execution_count": 120,
      "metadata": {
        "id": "etfPC94oN_TO"
      },
      "outputs": [],
      "source": [
        "max_depth = 2\n",
        "depth = 0\n",
        "min_samples_split = 2\n",
        "n_features = input_data.shape[1] - 1"
      ]
    },
    {
      "cell_type": "markdown",
      "metadata": {
        "id": "V1FN1Z-tOFOo"
      },
      "source": [
        "> You can add your own global attributes here"
      ]
    },
    {
      "cell_type": "code",
      "execution_count": null,
      "metadata": {
        "id": "KQ-OYop8ONnv"
      },
      "outputs": [],
      "source": []
    },
    {
      "cell_type": "markdown",
      "metadata": {
        "id": "Gey7t_Yx5YML"
      },
      "source": [
        "## Step2 : Calculate the Entropy and Information Gain \n",
        "Calculate the information gain and entropy values before separate data into left subtree and right subtree"
      ]
    },
    {
      "cell_type": "code",
      "execution_count": 121,
      "metadata": {
        "colab": {
          "base_uri": "https://localhost:8080/"
        },
        "id": "hpdNz3ij6keH",
        "outputId": "b6afe640-85b2-4da4-b6d0-a936e5c910e7"
      },
      "outputs": [
        {
          "name": "stdout",
          "output_type": "stream",
          "text": [
            "ans_entropy =  0.9871377743721863\n"
          ]
        }
      ],
      "source": [
        "def entropy(data):\n",
        "  \"\"\"\n",
        "  This function measures the amount of uncertainty in a probability distribution\n",
        "  args: \n",
        "  * data(type: DataFrame): the data you're calculating for the entropy\n",
        "  return:\n",
        "  * entropy_value(type: float): the data's entropy\n",
        "  \"\"\"\n",
        "  diabetes_mellitus=data.loc[:, 'diabetes_mellitus']\n",
        "  prob=0\n",
        "  for i in range(len(diabetes_mellitus)):\n",
        "    prob+=diabetes_mellitus[i]\n",
        "  prob=prob/len(diabetes_mellitus)\n",
        "  if(prob==1):\n",
        "    return 0\n",
        "  if(prob==0):\n",
        "    return 0\n",
        "  entropy_value= -1 * (np.log2(prob)*prob) - (np.log2(1-prob)*(1-prob))\n",
        "  return entropy_value\n",
        "\n",
        "# [Note] You have to save the value of \"ans_entropy\" into the output file\n",
        "ans_entropy = entropy(input_data)\n",
        "print(\"ans_entropy = \", ans_entropy)"
      ]
    },
    {
      "cell_type": "code",
      "execution_count": 122,
      "metadata": {
        "colab": {
          "base_uri": "https://localhost:8080/"
        },
        "id": "zCC_SiU26kbX",
        "outputId": "0cf42a8f-8670-42e3-ebad-57f811563f7d"
      },
      "outputs": [
        {
          "name": "stdout",
          "output_type": "stream",
          "text": [
            "ans_informationGain =  0.0834598868480716\n"
          ]
        }
      ],
      "source": [
        "def information_gain(data, mask):\n",
        "  \"\"\"\n",
        "  This function will calculate the information gain\n",
        "  args:\n",
        "  * data(type: DataFrame): the data you're calculating for the information gain\n",
        "  * mask(type: Series): partition information(left/right) of current input data, \n",
        "    - boolean 1(True) represents split to left subtree\n",
        "    - boolean 0(False) represents split to right subtree\n",
        "  return:\n",
        "  * ig(type: float): the information gain you can obtain by classify data with this given mask\n",
        "  \"\"\"\n",
        "  diabetes_mellitus=data.loc[:, 'diabetes_mellitus']\n",
        "  total_left=0\n",
        "  p_left=0\n",
        "  total_right=0\n",
        "  p_right=0\n",
        "  for i in range(len(mask)):\n",
        "    if(mask[i]==1):\n",
        "      total_left+=1\n",
        "      p_left+=diabetes_mellitus[i]\n",
        "    else:\n",
        "      total_right+=1\n",
        "      p_right+=diabetes_mellitus[i]\n",
        "  if(total_left==0):\n",
        "    return 0\n",
        "  else:\n",
        "    p_left=p_left/total_left\n",
        "  if(total_right==0):\n",
        "    return 0\n",
        "  else:\n",
        "    p_right=p_right/total_right\n",
        "  \n",
        "  before_e=entropy(data)\n",
        "  after_left=0\n",
        "  after_right=0\n",
        "  if(p_left==0 or p_left==1):\n",
        "    after_left=0\n",
        "  else:\n",
        "    after_left=-1 * (total_left/len(mask)) * ((np.log2(p_left)*p_left) + (np.log2(1-p_left)*(1-p_left)))\n",
        "  if(p_right==0 or p_right==1):\n",
        "    after_right=0\n",
        "  else:\n",
        "    after_right=-1 * (total_right/len(mask)) * ((np.log2(p_right)*p_right) + (np.log2(1-p_right)*(1-p_right)))\n",
        "  after_e=after_left+after_right\n",
        "  ig=before_e-after_e\n",
        "\n",
        "  return ig\n",
        "\n",
        "# [Note] You have to save the value of \"ans_informationGain\" into your output file\n",
        "temp1 = np.zeros((int(input_data.shape[0]/4), 1), dtype=bool)\n",
        "temp2 = np.ones(((input_data.shape[0]-int(input_data.shape[0]/4), 1)), dtype=bool)\n",
        "temp_mask = np.concatenate((temp1, temp2))\n",
        "df_mask = pd.DataFrame(temp_mask, columns=['mask'])\n",
        "ans_informationGain = information_gain(input_data, df_mask['mask'])\n",
        "print(\"ans_informationGain = \", ans_informationGain)"
      ]
    },
    {
      "cell_type": "markdown",
      "metadata": {
        "id": "9r8mrn7A55if"
      },
      "source": [
        "## Step3 : Find the Best Split\n",
        "Find the best split combination, **feature** and **threshold**, by calculating the information gain\n"
      ]
    },
    {
      "cell_type": "code",
      "execution_count": 198,
      "metadata": {
        "colab": {
          "base_uri": "https://localhost:8080/"
        },
        "id": "D6gg7ig18XgM",
        "outputId": "02455252-ee9c-4bdf-8379-26e31da98023"
      },
      "outputs": [
        {
          "name": "stdout",
          "output_type": "stream",
          "text": [
            "ans_ig =  0.3522950515812332\n",
            "ans_value =  235.5\n",
            "ans_name =  glucose_apache\n"
          ]
        }
      ],
      "source": [
        "def find_best_split(data):\n",
        "  \"\"\"\n",
        "  This function will find the best split combination of data\n",
        "  args:\n",
        "  * data(type: DataFrame): the input data\n",
        "  return\n",
        "  * best_ig(type: float): the best information gain you obtain\n",
        "  * best_threshold(type: float): the value that splits data into 2 branches\n",
        "  * best_feature(type: string): the feature that splits data into 2 branches\n",
        "  \"\"\"\n",
        "  feature_str=data.columns\n",
        "  data=data.sort_values(feature_str[0],ignore_index=True)\n",
        "  best_ig=0\n",
        "  best_threshold=0\n",
        "  best_feature=\"\"\n",
        "  for i in range(data.shape[1]-1):\n",
        "    temp_feature=data.iloc[:,i]\n",
        "    fixed_feature=temp_feature\n",
        "    temp_feature = temp_feature.sort_values(ignore_index = True)\n",
        "    #print(i)\n",
        "    #print(len(temp_feature))\n",
        "    for j in range(len(temp_feature)-1):\n",
        "      current_threshold=(temp_feature[j]+temp_feature[j+1])/2\n",
        "      #print(current_threshold)\n",
        "      mask=list()\n",
        "      for k in range(len(temp_feature)):\n",
        "        if(fixed_feature[k]<=current_threshold):\n",
        "          mask.append(1)\n",
        "        else:\n",
        "          mask.append(0)\n",
        "      #print(mask)\n",
        "      current_ig=information_gain(data, mask)\n",
        "      if(current_ig>best_ig):\n",
        "        best_ig=current_ig\n",
        "        best_threshold=current_threshold\n",
        "        best_feature=feature_str[i]\n",
        "  \n",
        "  if(best_ig==0):\n",
        "    return 0, 0, 'age'\n",
        "  return best_ig, best_threshold, best_feature\n",
        "\n",
        "\n",
        "# [Note] You have to save the value of \"ans_ig\", \"ans_value\", and \"ans_name\" into the output file\n",
        "ans_ig, ans_value, ans_name = find_best_split(input_data)\n",
        "print(\"ans_ig = \", ans_ig)\n",
        "print(\"ans_value = \", ans_value)\n",
        "print(\"ans_name = \", ans_name)"
      ]
    },
    {
      "cell_type": "markdown",
      "metadata": {
        "id": "61hPUYvy6MTB"
      },
      "source": [
        "## Step4 : Split into 2 branches\n",
        "Using the best split combination you find in function *find_best_split()* to split data into Left Subtree and Right Subtree "
      ]
    },
    {
      "cell_type": "code",
      "execution_count": 92,
      "metadata": {
        "colab": {
          "base_uri": "https://localhost:8080/"
        },
        "id": "KQRcjzCLCo4R",
        "outputId": "82e6d45f-d80a-4c33-819b-59c744c465d9"
      },
      "outputs": [
        {
          "name": "stdout",
          "output_type": "stream",
          "text": [
            "ans_left =  10\n"
          ]
        }
      ],
      "source": [
        "def make_partition(data, feature, threshold):\n",
        "  \"\"\"\n",
        "  This function will split the data into 2 branches\n",
        "  args:\n",
        "  * data(type: DataFrame): the input data\n",
        "  * feature(type: string): the attribute(column name)\n",
        "  * threshold(type: float): the threshold for splitting the data\n",
        "  return:\n",
        "  * left(type: DataFrame): the divided data that matches(less than or equal to) the assigned feature's threshold\n",
        "  * right(type: DataFrame): the divided data that doesn't match the assigned feature's threshold\n",
        "  \"\"\"\n",
        "  left=data\n",
        "  right=data\n",
        "  temp=data.loc[:, feature]\n",
        "  for i in range(data.shape[0]):\n",
        "    if(temp[i]>threshold):\n",
        "      left=left.drop([i],axis=0)\n",
        "    else:\n",
        "      right=right.drop([i],axis=0)\n",
        "  left = left.sort_values(feature, ignore_index = True)\n",
        "  right = right.sort_values(feature, ignore_index = True)\n",
        "  return left, right\n",
        "\n",
        "\n",
        "# [Note] You have to save the value of \"ans_left\" into the output file\n",
        "left, right = make_partition(input_data, 'age', 61.0)\n",
        "ans_left = left.shape[0]\n",
        "print(\"ans_left = \", ans_left)"
      ]
    },
    {
      "cell_type": "markdown",
      "metadata": {
        "id": "GLzy6Yhg802x"
      },
      "source": [
        "## Step5 : Build Decision Tree\n",
        "Use the above functions to implement the decision tree\n",
        "\n",
        "Instructions: \n",
        "1.  If current depth < max_depth and the remaining number of samples > min_samples_split: continue to classify those samples\n",
        "2.  Use function *find_best_split()* to find the best split combination\n",
        "3.  If the obtained information gain is **greater than 0**: can build a deeper decision tree (add depth)\n",
        "4. Use function *make_partition()* to split the data into two parts\n",
        "5. Save the features and corresponding thresholds (starting from the root) used by the decision tree into *ans_features[]* and *ans_thresholds[]* respectively\n",
        "\n",
        "\n"
      ]
    },
    {
      "cell_type": "code",
      "execution_count": 93,
      "metadata": {
        "id": "_OAXVddKkvM2"
      },
      "outputs": [],
      "source": [
        "def build_tree(data, max_depth, min_samples_split, depth):\n",
        "  \"\"\"\n",
        "  This function will build the decision tree\n",
        "  args:\n",
        "  * data(type: DataFrame): the data you want to apply to the decision tree\n",
        "  * max_depth: the maximum depth of a decision tree\n",
        "  * min_samples_split: the minimum number of instances required to do partition\n",
        "  * depth: the height of the current decision tree\n",
        "  return:\n",
        "  * subtree: the decision tree structure including root, branch, and leaf (with the attributes and thresholds)\n",
        "  \"\"\"\n",
        "\n",
        "  # check the condition of current depth and the remaining number of samples\n",
        "  if(depth<max_depth):\n",
        "    # call find_best_split() to find the best combination\n",
        "    ig, threshold, feature = find_best_split(data)\n",
        "    # check the value of information gain is greater than 0 or not \n",
        "    if(ig>0):\n",
        "      # update the depth\n",
        "      depth=depth+1\n",
        "      # call make_partition() to split the data into two parts\n",
        "      left, right = make_partition(data, feature, threshold)\n",
        "      # If there is no data split to the left tree OR no data split to the left tree\n",
        "      if(left.shape[0]==0 or right.shape[0]==0):\n",
        "        # return the label of the majority\n",
        "        diabetes_mellitus=data.loc[:, 'diabetes_mellitus']\n",
        "        prob=0\n",
        "        for i in range(len(diabetes_mellitus)):\n",
        "          prob+=diabetes_mellitus[i]\n",
        "        prob=prob/len(diabetes_mellitus)\n",
        "        label=0\n",
        "        if(prob>=0.5):\n",
        "          label=1\n",
        "        return label\n",
        "      else:\n",
        "        question = \"{} {} {}\".format(feature, \"<=\", threshold)\n",
        "        subtree = {question: []}\n",
        "        # call function build_tree() to recursively build the left subtree and right subtree\n",
        "        left_subtree=build_tree(left, max_depth, min_samples_split, depth)\n",
        "        right_subtree=build_tree(right, max_depth, min_samples_split, depth)\n",
        "        if left_subtree == right_subtree:\n",
        "          subtree = left_subtree\n",
        "        else:\n",
        "          subtree[question].append(left_subtree)\n",
        "          subtree[question].append(right_subtree)\n",
        "    else:\n",
        "      diabetes_mellitus=data.loc[:, 'diabetes_mellitus']\n",
        "      prob=0\n",
        "      for i in range(len(diabetes_mellitus)):\n",
        "        prob+=diabetes_mellitus[i]\n",
        "      prob=prob/len(diabetes_mellitus)\n",
        "      label=0\n",
        "      if(prob>=0.5):\n",
        "        label=1\n",
        "      return label\n",
        "  else:\n",
        "    # return the label of the majority\n",
        "    diabetes_mellitus=data.loc[:, 'diabetes_mellitus']\n",
        "    prob=0\n",
        "    for i in range(len(diabetes_mellitus)):\n",
        "      prob+=diabetes_mellitus[i]\n",
        "    prob=prob/len(diabetes_mellitus)\n",
        "    label=0\n",
        "    if(prob>=0.5):\n",
        "      label=1\n",
        "    return label\n",
        "\n",
        "  return subtree"
      ]
    },
    {
      "cell_type": "markdown",
      "metadata": {
        "id": "qlIrw9Gu-M9-"
      },
      "source": [
        "An example of the output from *build_tree()* \n",
        "```\n",
        "{'bmi <= 33.5': [1, {'age <= 68.5': [0, 1]}]}\n",
        "```\n",
        "Therefore, \n",
        "```\n",
        "ans_features = ['bmi', 'age']\n",
        "ans_thresholds = [33.5, 68.5]\n",
        "```\n",
        "\n"
      ]
    },
    {
      "cell_type": "code",
      "execution_count": 94,
      "metadata": {
        "colab": {
          "base_uri": "https://localhost:8080/"
        },
        "id": "QW8wm1rD9dlS",
        "outputId": "9934e472-6c97-4110-ca5f-8d0cdf80adad"
      },
      "outputs": [
        {
          "data": {
            "text/plain": [
              "{'glucose_apache <= 235.5': [{'heart_rate_apache <= 143.5': [0, 1]}, 1]}"
            ]
          },
          "execution_count": 94,
          "metadata": {},
          "output_type": "execute_result"
        }
      ],
      "source": [
        "ans_features = []\n",
        "ans_thresholds = []\n",
        "\n",
        "decisionTree = build_tree(input_data, max_depth, min_samples_split, depth)\n",
        "decisionTree\n"
      ]
    },
    {
      "cell_type": "code",
      "execution_count": 95,
      "metadata": {
        "id": "v_n0BfNSGejN"
      },
      "outputs": [],
      "source": [
        "# [Note] You have to save the features in the \"decisionTree\" structure (from root to branch and leaf) into the output file\n",
        "ans_features.append('glucose_apache')\n",
        "ans_features.append('heart_rate_apache')"
      ]
    },
    {
      "cell_type": "code",
      "execution_count": 96,
      "metadata": {
        "id": "D6H9zkN_GgK-"
      },
      "outputs": [],
      "source": [
        "# [Note] You have to save the corresponding thresholds for the features in the \"ans_features\" list into the output file\n",
        "ans_thresholds.append(235.5)\n",
        "ans_thresholds.append(143.5)"
      ]
    },
    {
      "cell_type": "markdown",
      "metadata": {
        "id": "rP0SU7tTweOX"
      },
      "source": [
        "## Step6 : Save answers"
      ]
    },
    {
      "cell_type": "code",
      "execution_count": 97,
      "metadata": {
        "id": "sDO36kKEwh6C"
      },
      "outputs": [],
      "source": [
        "basic = []\n",
        "basic.append(ans_entropy)\n",
        "basic.append(ans_informationGain)\n",
        "basic.append(ans_ig)\n",
        "basic.append(ans_value)\n",
        "basic.append(ans_name)\n",
        "basic.append(ans_left)\n",
        "for i in range(len(ans_features)):\n",
        "  basic.append(ans_features[i])\n",
        "for m in range(len(ans_thresholds)):\n",
        "  basic.append(ans_thresholds[m])"
      ]
    },
    {
      "cell_type": "markdown",
      "metadata": {
        "id": "7DotyrSZjYKi"
      },
      "source": [
        "## Step7 : Split data\n",
        "Split data into training set and validation set\n",
        "> Note: We have split the data into training set and validation. You **cannot** change the distribution of the data."
      ]
    },
    {
      "cell_type": "code",
      "execution_count": 98,
      "metadata": {
        "colab": {
          "base_uri": "https://localhost:8080/"
        },
        "id": "WjNM-n4i5mlG",
        "outputId": "7c08607d-cdd8-4e60-af5c-edb303d14f76"
      },
      "outputs": [
        {
          "name": "stdout",
          "output_type": "stream",
          "text": [
            "(30, 10)\n",
            "(20, 10)\n",
            "(10, 10)\n"
          ]
        }
      ],
      "source": [
        "num_train = 20\n",
        "num_validation = 10\n",
        "\n",
        "training_data = input_data.iloc[:num_train]\n",
        "validation_data = input_data.iloc[-num_validation:]\n",
        "\n",
        "y_train = training_data[[\"diabetes_mellitus\"]]\n",
        "x_train = training_data.drop(['diabetes_mellitus'], axis=1)\n",
        "y_validation = validation_data[[\"diabetes_mellitus\"]]\n",
        "x_validation = validation_data.drop(['diabetes_mellitus'], axis=1)\n",
        "y_validation = y_validation.values.flatten()\n",
        "\n",
        "print(input_data.shape)\n",
        "print(training_data.shape)\n",
        "print(validation_data.shape)"
      ]
    },
    {
      "cell_type": "markdown",
      "metadata": {
        "id": "GfKSt2gH74Uu"
      },
      "source": [
        "## Step8 to Step10 : Make predictions with a decision tree"
      ]
    },
    {
      "cell_type": "markdown",
      "metadata": {
        "id": "BZqSVoJ48a3-"
      },
      "source": [
        "Define the attributions of the decision tree\n",
        "> You **cannot** modify the values of these attributes in this part"
      ]
    },
    {
      "cell_type": "code",
      "execution_count": 99,
      "metadata": {
        "id": "vSlZ7FVB8eau"
      },
      "outputs": [],
      "source": [
        "max_depth = 2\n",
        "depth = 0\n",
        "min_samples_split = 2\n",
        "n_features = x_train.shape[1]"
      ]
    },
    {
      "cell_type": "markdown",
      "metadata": {
        "id": "FrK-YqLmLH8p"
      },
      "source": [
        "We have finished the function '*classify_data()*' below, however, you can modify this function if you prefer completing it on your own way."
      ]
    },
    {
      "cell_type": "code",
      "execution_count": 100,
      "metadata": {
        "id": "0piZ0blpFXVq"
      },
      "outputs": [],
      "source": [
        "def classify_data(instance, tree):\n",
        "  \"\"\"\n",
        "  This function will predict/classify the input instance\n",
        "  args:\n",
        "  * instance: a instance(case) to be predicted\n",
        "  return:\n",
        "  * answer: the prediction result (the classification result)\n",
        "  \"\"\"\n",
        "  equation = list(tree.keys())[0] \n",
        "  if equation.split()[1] == '<=':\n",
        "    temp_feature = equation.split()[0]\n",
        "    temp_threshold = equation.split()[2]\n",
        "    if float(instance[temp_feature]) > float(temp_threshold):\n",
        "      answer = tree[equation][1]\n",
        "    else:\n",
        "      answer = tree[equation][0]\n",
        "  else:\n",
        "    if instance[equation.split()[0]] in (equation.split()[2]):\n",
        "      answer = tree[equation][0]\n",
        "    else:\n",
        "      answer = tree[equation][1]\n",
        "\n",
        "  if not isinstance(answer, dict):\n",
        "    return answer\n",
        "  else:\n",
        "    return classify_data(instance, answer)\n",
        "\n",
        "\n",
        "def make_prediction(tree, data):\n",
        "  \"\"\"\n",
        "  This function will use your pre-trained decision tree to predict the labels of all instances in data\n",
        "  args:\n",
        "  * tree: the decision tree\n",
        "  * data: the data to predict\n",
        "  return:\n",
        "  * y_prediction: the predictions\n",
        "  \"\"\"\n",
        "  y_prediction=[]\n",
        "  # [Note] You can call the function classify_data() to predict the label of each instance\n",
        "  for i in range(data.shape[0]):\n",
        "    y_prediction.append(classify_data(data[i:i+1],tree))\n",
        "\n",
        "\n",
        "  return y_prediction\n",
        "\n",
        "\n",
        "def calculate_score(y_true, y_pred):\n",
        "  \"\"\"\n",
        "  This function will calculate the f1-score of the predictions\n",
        "  args:\n",
        "  * y_true: the ground truth\n",
        "  * y_pred: the predictions\n",
        "  return:\n",
        "  * score: the f1-score\n",
        "  \"\"\"\n",
        "  tp=0\n",
        "  fp=0\n",
        "  tn=0\n",
        "  fn=0\n",
        "  for i in range(len(y_pred)):  \n",
        "    if(y_true[i]==1 and y_pred[i]==1):\n",
        "      tp+=1\n",
        "    elif(y_true[i]==1 and y_pred[i]==0):\n",
        "      fn+=1\n",
        "    elif(y_true[i]==0 and y_pred[i]==1):\n",
        "      fp+=1\n",
        "    else:\n",
        "      tn+=1\n",
        "\n",
        "  precision=tp/(tp+fp)\n",
        "  recall=tp/(tp+fn)\n",
        "  score=2*(precision*recall)/(precision+recall)\n",
        "  return score\n"
      ]
    },
    {
      "cell_type": "code",
      "execution_count": 101,
      "metadata": {
        "colab": {
          "base_uri": "https://localhost:8080/"
        },
        "id": "3IEu3z3s9TDu",
        "outputId": "9ff2412a-d464-449f-892b-9daf99322514"
      },
      "outputs": [
        {
          "name": "stdout",
          "output_type": "stream",
          "text": [
            "ans_f1score =  0.6666666666666666\n"
          ]
        }
      ],
      "source": [
        "decision_tree = build_tree(training_data, max_depth, min_samples_split, depth)\n",
        "y_pred = make_prediction(decision_tree, x_validation)\n",
        "# [Note] You have to save the value of \"ans_f1score\" the your output file\n",
        "ans_f1score = calculate_score(y_validation, y_pred)\n",
        "print(\"ans_f1score = \", ans_f1score)"
      ]
    },
    {
      "cell_type": "markdown",
      "metadata": {
        "id": "IzzOKOwn-kod"
      },
      "source": [
        "## Step11 : Write the Output File\n",
        "Save all of your answers in a csv file, named as **hw2_basic.csv**"
      ]
    },
    {
      "cell_type": "code",
      "execution_count": 102,
      "metadata": {
        "colab": {
          "base_uri": "https://localhost:8080/"
        },
        "id": "p0zsaWPL2qXn",
        "outputId": "827241ac-f97d-4eb9-bf77-a09debd1bd4d"
      },
      "outputs": [
        {
          "name": "stdout",
          "output_type": "stream",
          "text": [
            "[0.9871377743721863, 0.0834598868480716, 0.3522950515812332, 235.5, 'glucose_apache', 10, 'glucose_apache', 'heart_rate_apache', 235.5, 143.5, 0.6666666666666666]\n"
          ]
        }
      ],
      "source": [
        "ans_path = 'hw2_basic.csv'\n",
        "\n",
        "# [Note] You have to save the value of \"ans_f1score\" into the output file\n",
        "basic.append(ans_f1score)\n",
        "print(basic)\n",
        "\n",
        "pd.DataFrame(basic).to_csv(ans_path, header = None, index = None)"
      ]
    },
    {
      "cell_type": "markdown",
      "metadata": {
        "id": "tV25IjM7_aEn"
      },
      "source": [
        "# **Advanced Part** (35%)"
      ]
    },
    {
      "cell_type": "markdown",
      "metadata": {
        "id": "knH1Ih0Pha7X"
      },
      "source": [
        "## Step1: Load the input data\n",
        "First, load the input file **hw2_input_advanced.csv**"
      ]
    },
    {
      "cell_type": "code",
      "execution_count": 204,
      "metadata": {
        "id": "FthBdLxRhi9W"
      },
      "outputs": [],
      "source": [
        "advanced_data = pd.read_csv('hw2_input_advanced.csv')"
      ]
    },
    {
      "cell_type": "markdown",
      "metadata": {
        "id": "vqLH49oBndRh"
      },
      "source": [
        "You can split *advanced_data* into training set and validaiton set"
      ]
    },
    {
      "cell_type": "code",
      "execution_count": 228,
      "metadata": {
        "colab": {
          "base_uri": "https://localhost:8080/"
        },
        "id": "9l0hLPVjncam",
        "outputId": "709bd31c-31f3-43de-c754-94399907dac3"
      },
      "outputs": [
        {
          "name": "stdout",
          "output_type": "stream",
          "text": [
            "5865\n",
            "2514\n",
            "(5865, 25)\n"
          ]
        }
      ],
      "source": [
        "total_data=advanced_data.shape[0]\n",
        "num_train = int(total_data * 0.7)\n",
        "num_validation = total_data - num_train\n",
        "print(num_train)\n",
        "print(num_validation)\n",
        "training_data = advanced_data.iloc[:num_train]\n",
        "validation_data = advanced_data.iloc[-num_validation:]\n",
        "\n",
        "y_train = training_data[[\"diabetes_mellitus\"]]\n",
        "x_train = training_data.drop(['diabetes_mellitus'], axis=1)\n",
        "y_validation = validation_data[[\"diabetes_mellitus\"]]\n",
        "x_validation = validation_data.drop(['diabetes_mellitus'], axis=1)\n",
        "y_validation = y_validation.values.flatten()\n",
        "print(training_data.shape)\n"
      ]
    },
    {
      "cell_type": "markdown",
      "metadata": {
        "id": "tFgbUY_ajVOK"
      },
      "source": [
        "## Step2 : Load the test data\n",
        "Load the input file **hw2_input_test.csv** to make predictions with the pre-trained random forest model"
      ]
    },
    {
      "cell_type": "code",
      "execution_count": 229,
      "metadata": {
        "colab": {
          "base_uri": "https://localhost:8080/",
          "height": 488
        },
        "id": "3hW542KWNxVF",
        "outputId": "c64026be-06f7-4503-e475-2cd39476fe65"
      },
      "outputs": [
        {
          "data": {
            "text/html": [
              "\n",
              "  <div id=\"df-c1ce3a7f-a52e-497a-8d5d-52ccfe97af7a\">\n",
              "    <div class=\"colab-df-container\">\n",
              "      <div>\n",
              "<style scoped>\n",
              "    .dataframe tbody tr th:only-of-type {\n",
              "        vertical-align: middle;\n",
              "    }\n",
              "\n",
              "    .dataframe tbody tr th {\n",
              "        vertical-align: top;\n",
              "    }\n",
              "\n",
              "    .dataframe thead th {\n",
              "        text-align: right;\n",
              "    }\n",
              "</style>\n",
              "<table border=\"1\" class=\"dataframe\">\n",
              "  <thead>\n",
              "    <tr style=\"text-align: right;\">\n",
              "      <th></th>\n",
              "      <th>age</th>\n",
              "      <th>bmi</th>\n",
              "      <th>gender</th>\n",
              "      <th>height</th>\n",
              "      <th>weight</th>\n",
              "      <th>arf_apache</th>\n",
              "      <th>bun_apache</th>\n",
              "      <th>creatinine_apache</th>\n",
              "      <th>gcs_eyes_apache</th>\n",
              "      <th>gcs_motor_apache</th>\n",
              "      <th>...</th>\n",
              "      <th>hematocrit_apache</th>\n",
              "      <th>intubated_apache</th>\n",
              "      <th>map_apache</th>\n",
              "      <th>resprate_apache</th>\n",
              "      <th>sodium_apache</th>\n",
              "      <th>temp_apache</th>\n",
              "      <th>ventilated_apache</th>\n",
              "      <th>wbc_apache</th>\n",
              "      <th>apache_4a_hospital_death_prob</th>\n",
              "      <th>apache_4a_icu_death_prob</th>\n",
              "    </tr>\n",
              "  </thead>\n",
              "  <tbody>\n",
              "    <tr>\n",
              "      <th>0</th>\n",
              "      <td>62</td>\n",
              "      <td>32.866392</td>\n",
              "      <td>1</td>\n",
              "      <td>177.80</td>\n",
              "      <td>103.9</td>\n",
              "      <td>1</td>\n",
              "      <td>31.0</td>\n",
              "      <td>10.30</td>\n",
              "      <td>4</td>\n",
              "      <td>6</td>\n",
              "      <td>...</td>\n",
              "      <td>36.4</td>\n",
              "      <td>0</td>\n",
              "      <td>157</td>\n",
              "      <td>26</td>\n",
              "      <td>134</td>\n",
              "      <td>36.1</td>\n",
              "      <td>0</td>\n",
              "      <td>4.56</td>\n",
              "      <td>0.06</td>\n",
              "      <td>0.03</td>\n",
              "    </tr>\n",
              "    <tr>\n",
              "      <th>1</th>\n",
              "      <td>82</td>\n",
              "      <td>23.582766</td>\n",
              "      <td>0</td>\n",
              "      <td>157.50</td>\n",
              "      <td>58.5</td>\n",
              "      <td>0</td>\n",
              "      <td>26.0</td>\n",
              "      <td>0.54</td>\n",
              "      <td>3</td>\n",
              "      <td>4</td>\n",
              "      <td>...</td>\n",
              "      <td>32.8</td>\n",
              "      <td>0</td>\n",
              "      <td>42</td>\n",
              "      <td>25</td>\n",
              "      <td>142</td>\n",
              "      <td>36.1</td>\n",
              "      <td>0</td>\n",
              "      <td>6.00</td>\n",
              "      <td>0.14</td>\n",
              "      <td>0.06</td>\n",
              "    </tr>\n",
              "    <tr>\n",
              "      <th>2</th>\n",
              "      <td>61</td>\n",
              "      <td>31.684520</td>\n",
              "      <td>1</td>\n",
              "      <td>172.70</td>\n",
              "      <td>94.5</td>\n",
              "      <td>0</td>\n",
              "      <td>16.0</td>\n",
              "      <td>1.11</td>\n",
              "      <td>4</td>\n",
              "      <td>6</td>\n",
              "      <td>...</td>\n",
              "      <td>35.3</td>\n",
              "      <td>0</td>\n",
              "      <td>129</td>\n",
              "      <td>6</td>\n",
              "      <td>131</td>\n",
              "      <td>36.8</td>\n",
              "      <td>0</td>\n",
              "      <td>8.59</td>\n",
              "      <td>0.05</td>\n",
              "      <td>0.03</td>\n",
              "    </tr>\n",
              "    <tr>\n",
              "      <th>3</th>\n",
              "      <td>58</td>\n",
              "      <td>45.156250</td>\n",
              "      <td>0</td>\n",
              "      <td>160.00</td>\n",
              "      <td>115.6</td>\n",
              "      <td>0</td>\n",
              "      <td>19.0</td>\n",
              "      <td>0.70</td>\n",
              "      <td>1</td>\n",
              "      <td>4</td>\n",
              "      <td>...</td>\n",
              "      <td>30.1</td>\n",
              "      <td>1</td>\n",
              "      <td>131</td>\n",
              "      <td>23</td>\n",
              "      <td>138</td>\n",
              "      <td>34.9</td>\n",
              "      <td>1</td>\n",
              "      <td>16.03</td>\n",
              "      <td>0.33</td>\n",
              "      <td>0.22</td>\n",
              "    </tr>\n",
              "    <tr>\n",
              "      <th>4</th>\n",
              "      <td>74</td>\n",
              "      <td>25.817016</td>\n",
              "      <td>1</td>\n",
              "      <td>172.70</td>\n",
              "      <td>77.0</td>\n",
              "      <td>0</td>\n",
              "      <td>25.0</td>\n",
              "      <td>0.93</td>\n",
              "      <td>4</td>\n",
              "      <td>6</td>\n",
              "      <td>...</td>\n",
              "      <td>34.5</td>\n",
              "      <td>0</td>\n",
              "      <td>55</td>\n",
              "      <td>12</td>\n",
              "      <td>135</td>\n",
              "      <td>36.3</td>\n",
              "      <td>0</td>\n",
              "      <td>45.80</td>\n",
              "      <td>0.12</td>\n",
              "      <td>0.05</td>\n",
              "    </tr>\n",
              "    <tr>\n",
              "      <th>...</th>\n",
              "      <td>...</td>\n",
              "      <td>...</td>\n",
              "      <td>...</td>\n",
              "      <td>...</td>\n",
              "      <td>...</td>\n",
              "      <td>...</td>\n",
              "      <td>...</td>\n",
              "      <td>...</td>\n",
              "      <td>...</td>\n",
              "      <td>...</td>\n",
              "      <td>...</td>\n",
              "      <td>...</td>\n",
              "      <td>...</td>\n",
              "      <td>...</td>\n",
              "      <td>...</td>\n",
              "      <td>...</td>\n",
              "      <td>...</td>\n",
              "      <td>...</td>\n",
              "      <td>...</td>\n",
              "      <td>...</td>\n",
              "      <td>...</td>\n",
              "    </tr>\n",
              "    <tr>\n",
              "      <th>835</th>\n",
              "      <td>73</td>\n",
              "      <td>17.943584</td>\n",
              "      <td>0</td>\n",
              "      <td>157.48</td>\n",
              "      <td>44.5</td>\n",
              "      <td>0</td>\n",
              "      <td>12.0</td>\n",
              "      <td>0.30</td>\n",
              "      <td>4</td>\n",
              "      <td>6</td>\n",
              "      <td>...</td>\n",
              "      <td>33.8</td>\n",
              "      <td>0</td>\n",
              "      <td>129</td>\n",
              "      <td>9</td>\n",
              "      <td>144</td>\n",
              "      <td>36.9</td>\n",
              "      <td>0</td>\n",
              "      <td>7.70</td>\n",
              "      <td>0.02</td>\n",
              "      <td>0.01</td>\n",
              "    </tr>\n",
              "    <tr>\n",
              "      <th>836</th>\n",
              "      <td>79</td>\n",
              "      <td>29.049732</td>\n",
              "      <td>1</td>\n",
              "      <td>167.60</td>\n",
              "      <td>81.6</td>\n",
              "      <td>0</td>\n",
              "      <td>48.0</td>\n",
              "      <td>2.19</td>\n",
              "      <td>4</td>\n",
              "      <td>6</td>\n",
              "      <td>...</td>\n",
              "      <td>42.7</td>\n",
              "      <td>0</td>\n",
              "      <td>163</td>\n",
              "      <td>9</td>\n",
              "      <td>139</td>\n",
              "      <td>36.4</td>\n",
              "      <td>0</td>\n",
              "      <td>10.77</td>\n",
              "      <td>0.06</td>\n",
              "      <td>0.03</td>\n",
              "    </tr>\n",
              "    <tr>\n",
              "      <th>837</th>\n",
              "      <td>85</td>\n",
              "      <td>24.627827</td>\n",
              "      <td>0</td>\n",
              "      <td>152.40</td>\n",
              "      <td>57.2</td>\n",
              "      <td>0</td>\n",
              "      <td>11.0</td>\n",
              "      <td>0.48</td>\n",
              "      <td>3</td>\n",
              "      <td>5</td>\n",
              "      <td>...</td>\n",
              "      <td>29.5</td>\n",
              "      <td>0</td>\n",
              "      <td>67</td>\n",
              "      <td>9</td>\n",
              "      <td>139</td>\n",
              "      <td>36.6</td>\n",
              "      <td>0</td>\n",
              "      <td>7.35</td>\n",
              "      <td>0.16</td>\n",
              "      <td>0.05</td>\n",
              "    </tr>\n",
              "    <tr>\n",
              "      <th>838</th>\n",
              "      <td>68</td>\n",
              "      <td>32.510940</td>\n",
              "      <td>1</td>\n",
              "      <td>193.00</td>\n",
              "      <td>121.1</td>\n",
              "      <td>0</td>\n",
              "      <td>14.0</td>\n",
              "      <td>0.64</td>\n",
              "      <td>4</td>\n",
              "      <td>6</td>\n",
              "      <td>...</td>\n",
              "      <td>37.5</td>\n",
              "      <td>0</td>\n",
              "      <td>61</td>\n",
              "      <td>10</td>\n",
              "      <td>140</td>\n",
              "      <td>36.9</td>\n",
              "      <td>1</td>\n",
              "      <td>16.02</td>\n",
              "      <td>0.00</td>\n",
              "      <td>0.00</td>\n",
              "    </tr>\n",
              "    <tr>\n",
              "      <th>839</th>\n",
              "      <td>48</td>\n",
              "      <td>24.106828</td>\n",
              "      <td>0</td>\n",
              "      <td>157.50</td>\n",
              "      <td>59.8</td>\n",
              "      <td>0</td>\n",
              "      <td>7.0</td>\n",
              "      <td>0.33</td>\n",
              "      <td>4</td>\n",
              "      <td>6</td>\n",
              "      <td>...</td>\n",
              "      <td>32.3</td>\n",
              "      <td>0</td>\n",
              "      <td>111</td>\n",
              "      <td>14</td>\n",
              "      <td>139</td>\n",
              "      <td>36.3</td>\n",
              "      <td>0</td>\n",
              "      <td>2.20</td>\n",
              "      <td>0.01</td>\n",
              "      <td>0.00</td>\n",
              "    </tr>\n",
              "  </tbody>\n",
              "</table>\n",
              "<p>840 rows × 24 columns</p>\n",
              "</div>\n",
              "      <button class=\"colab-df-convert\" onclick=\"convertToInteractive('df-c1ce3a7f-a52e-497a-8d5d-52ccfe97af7a')\"\n",
              "              title=\"Convert this dataframe to an interactive table.\"\n",
              "              style=\"display:none;\">\n",
              "        \n",
              "  <svg xmlns=\"http://www.w3.org/2000/svg\" height=\"24px\"viewBox=\"0 0 24 24\"\n",
              "       width=\"24px\">\n",
              "    <path d=\"M0 0h24v24H0V0z\" fill=\"none\"/>\n",
              "    <path d=\"M18.56 5.44l.94 2.06.94-2.06 2.06-.94-2.06-.94-.94-2.06-.94 2.06-2.06.94zm-11 1L8.5 8.5l.94-2.06 2.06-.94-2.06-.94L8.5 2.5l-.94 2.06-2.06.94zm10 10l.94 2.06.94-2.06 2.06-.94-2.06-.94-.94-2.06-.94 2.06-2.06.94z\"/><path d=\"M17.41 7.96l-1.37-1.37c-.4-.4-.92-.59-1.43-.59-.52 0-1.04.2-1.43.59L10.3 9.45l-7.72 7.72c-.78.78-.78 2.05 0 2.83L4 21.41c.39.39.9.59 1.41.59.51 0 1.02-.2 1.41-.59l7.78-7.78 2.81-2.81c.8-.78.8-2.07 0-2.86zM5.41 20L4 18.59l7.72-7.72 1.47 1.35L5.41 20z\"/>\n",
              "  </svg>\n",
              "      </button>\n",
              "      \n",
              "  <style>\n",
              "    .colab-df-container {\n",
              "      display:flex;\n",
              "      flex-wrap:wrap;\n",
              "      gap: 12px;\n",
              "    }\n",
              "\n",
              "    .colab-df-convert {\n",
              "      background-color: #E8F0FE;\n",
              "      border: none;\n",
              "      border-radius: 50%;\n",
              "      cursor: pointer;\n",
              "      display: none;\n",
              "      fill: #1967D2;\n",
              "      height: 32px;\n",
              "      padding: 0 0 0 0;\n",
              "      width: 32px;\n",
              "    }\n",
              "\n",
              "    .colab-df-convert:hover {\n",
              "      background-color: #E2EBFA;\n",
              "      box-shadow: 0px 1px 2px rgba(60, 64, 67, 0.3), 0px 1px 3px 1px rgba(60, 64, 67, 0.15);\n",
              "      fill: #174EA6;\n",
              "    }\n",
              "\n",
              "    [theme=dark] .colab-df-convert {\n",
              "      background-color: #3B4455;\n",
              "      fill: #D2E3FC;\n",
              "    }\n",
              "\n",
              "    [theme=dark] .colab-df-convert:hover {\n",
              "      background-color: #434B5C;\n",
              "      box-shadow: 0px 1px 3px 1px rgba(0, 0, 0, 0.15);\n",
              "      filter: drop-shadow(0px 1px 2px rgba(0, 0, 0, 0.3));\n",
              "      fill: #FFFFFF;\n",
              "    }\n",
              "  </style>\n",
              "\n",
              "      <script>\n",
              "        const buttonEl =\n",
              "          document.querySelector('#df-c1ce3a7f-a52e-497a-8d5d-52ccfe97af7a button.colab-df-convert');\n",
              "        buttonEl.style.display =\n",
              "          google.colab.kernel.accessAllowed ? 'block' : 'none';\n",
              "\n",
              "        async function convertToInteractive(key) {\n",
              "          const element = document.querySelector('#df-c1ce3a7f-a52e-497a-8d5d-52ccfe97af7a');\n",
              "          const dataTable =\n",
              "            await google.colab.kernel.invokeFunction('convertToInteractive',\n",
              "                                                     [key], {});\n",
              "          if (!dataTable) return;\n",
              "\n",
              "          const docLinkHtml = 'Like what you see? Visit the ' +\n",
              "            '<a target=\"_blank\" href=https://colab.research.google.com/notebooks/data_table.ipynb>data table notebook</a>'\n",
              "            + ' to learn more about interactive tables.';\n",
              "          element.innerHTML = '';\n",
              "          dataTable['output_type'] = 'display_data';\n",
              "          await google.colab.output.renderOutput(dataTable, element);\n",
              "          const docLink = document.createElement('div');\n",
              "          docLink.innerHTML = docLinkHtml;\n",
              "          element.appendChild(docLink);\n",
              "        }\n",
              "      </script>\n",
              "    </div>\n",
              "  </div>\n",
              "  "
            ],
            "text/plain": [
              "     age        bmi  gender  height  weight  arf_apache  bun_apache  \\\n",
              "0     62  32.866392       1  177.80   103.9           1        31.0   \n",
              "1     82  23.582766       0  157.50    58.5           0        26.0   \n",
              "2     61  31.684520       1  172.70    94.5           0        16.0   \n",
              "3     58  45.156250       0  160.00   115.6           0        19.0   \n",
              "4     74  25.817016       1  172.70    77.0           0        25.0   \n",
              "..   ...        ...     ...     ...     ...         ...         ...   \n",
              "835   73  17.943584       0  157.48    44.5           0        12.0   \n",
              "836   79  29.049732       1  167.60    81.6           0        48.0   \n",
              "837   85  24.627827       0  152.40    57.2           0        11.0   \n",
              "838   68  32.510940       1  193.00   121.1           0        14.0   \n",
              "839   48  24.106828       0  157.50    59.8           0         7.0   \n",
              "\n",
              "     creatinine_apache  gcs_eyes_apache  gcs_motor_apache  ...  \\\n",
              "0                10.30                4                 6  ...   \n",
              "1                 0.54                3                 4  ...   \n",
              "2                 1.11                4                 6  ...   \n",
              "3                 0.70                1                 4  ...   \n",
              "4                 0.93                4                 6  ...   \n",
              "..                 ...              ...               ...  ...   \n",
              "835               0.30                4                 6  ...   \n",
              "836               2.19                4                 6  ...   \n",
              "837               0.48                3                 5  ...   \n",
              "838               0.64                4                 6  ...   \n",
              "839               0.33                4                 6  ...   \n",
              "\n",
              "     hematocrit_apache  intubated_apache  map_apache  resprate_apache  \\\n",
              "0                 36.4                 0         157               26   \n",
              "1                 32.8                 0          42               25   \n",
              "2                 35.3                 0         129                6   \n",
              "3                 30.1                 1         131               23   \n",
              "4                 34.5                 0          55               12   \n",
              "..                 ...               ...         ...              ...   \n",
              "835               33.8                 0         129                9   \n",
              "836               42.7                 0         163                9   \n",
              "837               29.5                 0          67                9   \n",
              "838               37.5                 0          61               10   \n",
              "839               32.3                 0         111               14   \n",
              "\n",
              "     sodium_apache  temp_apache  ventilated_apache  wbc_apache  \\\n",
              "0              134         36.1                  0        4.56   \n",
              "1              142         36.1                  0        6.00   \n",
              "2              131         36.8                  0        8.59   \n",
              "3              138         34.9                  1       16.03   \n",
              "4              135         36.3                  0       45.80   \n",
              "..             ...          ...                ...         ...   \n",
              "835            144         36.9                  0        7.70   \n",
              "836            139         36.4                  0       10.77   \n",
              "837            139         36.6                  0        7.35   \n",
              "838            140         36.9                  1       16.02   \n",
              "839            139         36.3                  0        2.20   \n",
              "\n",
              "     apache_4a_hospital_death_prob  apache_4a_icu_death_prob  \n",
              "0                             0.06                      0.03  \n",
              "1                             0.14                      0.06  \n",
              "2                             0.05                      0.03  \n",
              "3                             0.33                      0.22  \n",
              "4                             0.12                      0.05  \n",
              "..                             ...                       ...  \n",
              "835                           0.02                      0.01  \n",
              "836                           0.06                      0.03  \n",
              "837                           0.16                      0.05  \n",
              "838                           0.00                      0.00  \n",
              "839                           0.01                      0.00  \n",
              "\n",
              "[840 rows x 24 columns]"
            ]
          },
          "execution_count": 229,
          "metadata": {},
          "output_type": "execute_result"
        }
      ],
      "source": [
        "x_test = pd.read_csv('hw2_input_test.csv')\n",
        "x_test"
      ]
    },
    {
      "cell_type": "markdown",
      "metadata": {
        "id": "mH-0DxyR9qWn"
      },
      "source": [
        "## Step3 : Build a Random Forest"
      ]
    },
    {
      "cell_type": "markdown",
      "metadata": {
        "id": "8xbLxFW597FG"
      },
      "source": [
        "Define the attributions of the random forest\n",
        "> * You **can** modify the values of these attributes in advanced part\n",
        "> * Each tree can have different attribute values\n",
        "> * There must be **at least** 3 decision trees in the random forest model\n",
        "> * Must use function *build_tree()* to build a random forest model\n",
        "> * These are the parameters you can adjust : \n",
        "\n",
        "\n",
        "    ```\n",
        "    max_depth = \n",
        "    depth = 0\n",
        "    min_samples_split = \n",
        "    \n",
        "    # total number of trees in a random forest\n",
        "    n_trees = \n",
        "\n",
        "    # number of features to train a decision tree\n",
        "    n_features = \n",
        "\n",
        "    # the ratio to select the number of instances\n",
        "    sample_size = \n",
        "    n_samples = int(training_data.shape[0] * sample_size)\n",
        "    ```\n",
        "\n",
        "\n"
      ]
    },
    {
      "cell_type": "code",
      "execution_count": 268,
      "metadata": {
        "colab": {
          "base_uri": "https://localhost:8080/"
        },
        "id": "LD8ndJ8ymzG3",
        "outputId": "3ed720da-bf32-4546-ccd3-f71b7976ecdd"
      },
      "outputs": [
        {
          "name": "stdout",
          "output_type": "stream",
          "text": [
            "469\n"
          ]
        }
      ],
      "source": [
        "# Define the attributes\n",
        "max_depth=5\n",
        "depth=0\n",
        "min_samples_split=2\n",
        "\n",
        "n_trees=12\n",
        "n_features=12\n",
        "sample_size=0.08\n",
        "n_samples = int(training_data.shape[0] * sample_size)\n",
        "print(n_samples)"
      ]
    },
    {
      "cell_type": "code",
      "execution_count": 269,
      "metadata": {
        "id": "hVl66f1aU36-"
      },
      "outputs": [],
      "source": [
        "def build_forest(data, n_trees, n_features, n_samples):\n",
        "  \"\"\"\n",
        "  This function will build a random forest.\n",
        "  args:\n",
        "  * data: all data that can be used to train a random forest\n",
        "  * n_trees: total number of tree\n",
        "  * n_features: number of features\n",
        "  * n_samples: number of instances\n",
        "  return:\n",
        "  * forest: a random forest with 'n_trees' of decision tree\n",
        "  \"\"\"\n",
        "  forest=[]\n",
        "  for i in range(n_trees):\n",
        "    start=int((num_train-n_samples)/n_trees*i)\n",
        "    temp_data=training_data\n",
        "    #print(i)\n",
        "    #print(i+24-n_features-1)\n",
        "    #print(temp_data.shape)\n",
        "    #input_data = input_data.drop(input_data.iloc[:,1:3],axis=1)\n",
        "    temp_data=temp_data.iloc[start:start+n_samples]\n",
        "    temp_data=temp_data.sort_values('diabetes_mellitus',ignore_index=True)\n",
        "    if(i<6):\n",
        "      temp_data=temp_data.drop(temp_data.iloc[:,i*2:(i*2+24-n_features)], axis=1)\n",
        "    else:\n",
        "      temp_data=temp_data.drop(temp_data.iloc[:,((i-6)*2+24-n_features):24], axis=1)\n",
        "      temp_data=temp_data.drop(temp_data.iloc[:,0:((i-6)*2)], axis=1)\n",
        "    #for j in range(num_train-n_samples-1):\n",
        "      #temp_data=temp_data.drop([j+start],axis=0)\n",
        "    #advanced_path = 'hw2_advanced'+str(i)+'.csv'\n",
        "    #pd.DataFrame(temp_data).to_csv(advanced_path, header = None, index = None)\n",
        "    tree=build_tree(temp_data, max_depth, min_samples_split, depth)\n",
        "    #print(tree)\n",
        "    forest.append(tree)\n",
        "  # must reuse function build_tree()\n",
        "\n",
        "\n",
        "  return forest"
      ]
    },
    {
      "cell_type": "code",
      "execution_count": 271,
      "metadata": {
        "id": "zylo6C51m3OJ"
      },
      "outputs": [],
      "source": [
        "forest = build_forest(training_data, n_trees, n_features, n_samples)\n",
        "#print(forest)"
      ]
    },
    {
      "cell_type": "code",
      "execution_count": 177,
      "metadata": {
        "id": "kNLe1vt_sNQ0"
      },
      "outputs": [],
      "source": [
        "save1_forest=forest"
      ]
    },
    {
      "cell_type": "code",
      "execution_count": null,
      "metadata": {
        "id": "zmKcbOi9wv6O"
      },
      "outputs": [],
      "source": [
        "print(save1_forest)"
      ]
    },
    {
      "cell_type": "code",
      "execution_count": 272,
      "metadata": {
        "colab": {
          "base_uri": "https://localhost:8080/"
        },
        "id": "Gtb4TNVkCG0x",
        "outputId": "1202cf8b-fdaa-43e0-c1e9-279d3e5ee90f"
      },
      "outputs": [
        {
          "name": "stdout",
          "output_type": "stream",
          "text": [
            "[{'glucose_apache <= 212.0': [{'resprate_apache <= 15.5': [{'hematocrit_apache <= 41.7': [{'glucose_apache <= 174.0': [{'glucose_apache <= 104.5': [1, 0]}, {'hematocrit_apache <= 38.5': [1, 0]}]}, {'apache_4a_hospital_death_prob <= 0.16999999999999998': [0, 1]}]}, {'hematocrit_apache <= 36.8': [{'glucose_apache <= 151.5': [0, {'apache_4a_hospital_death_prob <= 0.02': [0, 1]}]}, {'heart_rate_apache <= 149.0': [0, 1]}]}]}, {'glucose_apache <= 262.5': [{'heart_rate_apache <= 131.0': [{'sodium_apache <= 135.0': [{'glucose_apache <= 232.5': [1, 0]}, {'heart_rate_apache <= 122.5': [1, 0]}]}, 1]}, {'temp_apache <= 32.95': [0, {'map_apache <= 126.0': [{'sodium_apache <= 126.5': [0, 1]}, {'sodium_apache <= 140.0': [1, 0]}]}]}]}]}, {'bmi <= 22.691355090000002': [{'map_apache <= 135.5': [{'apache_4a_hospital_death_prob <= 0.31': [{'resprate_apache <= 5.0': [1, 0]}, 0]}, 0]}, {'age <= 64.0': [{'bmi <= 33.280723885': [0, {'hematocrit_apache <= 37.349999999999994': [1, {'bmi <= 33.52383039': [1, 0]}]}]}, {'sodium_apache <= 144.0': [{'resprate_apache <= 34.0': [1, {'temp_apache <= 35.7': [1, 0]}]}, {'hematocrit_apache <= 24.0': [1, {'age <= 65.0': [1, 0]}]}]}]}]}, {'resprate_apache <= 50.0': [{'age <= 45.0': [{'sodium_apache <= 148.0': [{'bmi <= 32.386644505': [0, {'apache_4a_icu_death_prob <= 0.0': [0, 1]}]}, 1]}, {'resprate_apache <= 38.0': [{'wbc_apache <= 3.75': [{'map_apache <= 46.5': [1, 0]}, {'age <= 76.0': [1, 0]}]}, {'age <= 73.0': [{'bmi <= 27.112512170000002': [0, 1]}, {'map_apache <= 42.0': [1, 0]}]}]}]}, {'sodium_apache <= 136.0': [{'resprate_apache <= 56.0': [0, {'wbc_apache <= 8.5': [0, {'bmi <= 39.948963164999995': [1, 0]}]}]}, 0]}]}, {'weight <= 66.35': [{'bmi <= 18.220797345': [{'sodium_apache <= 132.5': [1, {'age <= 52.5': [1, {'apache_4a_hospital_death_prob <= 0.08': [0, 1]}]}]}, {'bmi <= 19.147468025000002': [0, {'age <= 34.0': [{'temp_apache <= 36.57': [0, 1]}, 0]}]}]}, {'age <= 36.5': [{'height <= 157.25': [1, {'bmi <= 60.683814375': [0, 1]}]}, {'wbc_apache <= 6.0': [{'temp_apache <= 36.849999999999994': [{'wbc_apache <= 4.95': [1, 0]}, {'age <= 56.0': [0, 1]}]}, {'weight <= 154.5': [1, {'height <= 166.35': [1, 0]}]}]}]}]}, {'bmi <= 30.74895782': [{'bun_apache <= 29.0': [{'creatinine_apache <= 0.505': [{'apache_4a_hospital_death_prob <= 0.5': [1, 0]}, 0]}, {'creatinine_apache <= 7.67': [{'wbc_apache <= 8.35': [{'weight <= 88.5': [0, 1]}, {'creatinine_apache <= 1.335': [0, 1]}]}, 0]}]}, {'age <= 38.0': [{'bmi <= 31.62878647': [1, {'weight <= 117.3': [0, {'bun_apache <= 14.0': [0, 1]}]}]}, {'wbc_apache <= 26.55': [1, 0]}]}]}, {'age <= 35.0': [0, {'bmi <= 34.314964790000005': [{'creatinine_apache <= 0.495': [1, {'bun_apache <= 32.0': [{'weight <= 97.4': [0, 1]}, {'age <= 45.0': [0, 1]}]}]}, {'age <= 64.0': [{'apache_4a_icu_death_prob <= 0.1': [{'height <= 162.55': [1, 0]}, 0]}, {'apache_4a_icu_death_prob <= 0.04': [1, {'apache_4a_icu_death_prob <= 0.47500000000000003': [1, 0]}]}]}]}]}, {'bmi <= 27.368011225': [{'bun_apache <= 13.0': [{'creatinine_apache <= 0.495': [{'age <= 43.5': [1, {'age <= 63.5': [0, 1]}]}, {'bmi <= 25.73509229': [0, {'bmi <= 25.865161965': [1, 0]}]}]}, {'gcs_verbal_apache <= 3.0': [{'creatinine_apache <= 0.75': [0, 1]}, {'weight <= 83.95': [{'weight <= 83.35': [0, 1]}, 0]}]}]}, {'bun_apache <= 16.0': [{'creatinine_apache <= 0.63': [{'height <= 170.1': [1, {'bmi <= 30.51101934': [0, 1]}]}, {'age <= 74.0': [{'age <= 69.5': [0, 1]}, 0]}]}, {'height <= 157.45': [{'gcs_motor_apache <= 4.5': [0, 1]}, {'gcs_verbal_apache <= 4.0': [1, {'age <= 81.0': [1, 0]}]}]}]}]}, {'glucose_apache <= 169.5': [{'glucose_apache <= 61.5': [{'height <= 161.0': [{'weight <= 84.575': [{'gender <= 0.0': [1, 0]}, 0]}, 1]}, {'arf_apache <= 0.0': [0, {'glucose_apache <= 71.0': [0, 1]}]}]}, {'glucose_apache <= 238.0': [{'glucose_apache <= 235.5': [{'creatinine_apache <= 0.74': [{'heart_rate_apache <= 139.0': [1, 0]}, {'weight <= 61.0': [0, 1]}]}, 0]}, {'creatinine_apache <= 0.9299999999999999': [{'creatinine_apache <= 0.41000000000000003': [{'gender <= 0.5': [0, 1]}, 1]}, {'glucose_apache <= 334.0': [1, {'heart_rate_apache <= 126.5': [1, 0]}]}]}]}]}, {'glucose_apache <= 182.0': [{'bun_apache <= 40.0': [{'creatinine_apache <= 0.615': [{'heart_rate_apache <= 117.0': [{'weight <= 66.0': [0, 1]}, 0]}, 0]}, {'heart_rate_apache <= 133.5': [{'bun_apache <= 44.5': [1, {'creatinine_apache <= 6.465': [0, 1]}]}, 0]}]}, {'heart_rate_apache <= 145.0': [{'weight <= 159.85': [1, {'bun_apache <= 16.0': [1, 0]}]}, {'glucose_apache <= 298.0': [{'heart_rate_apache <= 177.0': [0, 1]}, 1]}]}]}, {'glucose_apache <= 171.0': [{'hematocrit_apache <= 36.1': [{'resprate_apache <= 34.0': [{'heart_rate_apache <= 50.0': [0, 1]}, 0]}, {'hematocrit_apache <= 42.9': [{'creatinine_apache <= 1.275': [0, {'map_apache <= 113.5': [1, 0]}]}, 0]}]}, {'map_apache <= 115.5': [{'resprate_apache <= 14.0': [{'map_apache <= 40.5': [0, 1]}, {'glucose_apache <= 317.5': [{'heart_rate_apache <= 146.5': [1, 0]}, 1]}]}, {'hematocrit_apache <= 42.75': [{'resprate_apache <= 58.5': [1, 0]}, 0]}]}]}, {'glucose_apache <= 169.0': [{'hematocrit_apache <= 38.0': [{'glucose_apache <= 87.0': [{'heart_rate_apache <= 39.0': [0, {'resprate_apache <= 10.0': [1, 0]}]}, {'glucose_apache <= 162.0': [0, {'hematocrit_apache <= 23.15': [1, 0]}]}]}, {'map_apache <= 71.5': [{'sodium_apache <= 137.0': [0, {'map_apache <= 51.0': [0, 1]}]}, 0]}]}, {'heart_rate_apache <= 53.0': [1, {'map_apache <= 59.0': [{'glucose_apache <= 186.0': [{'glucose_apache <= 182.5': [1, 0]}, 1]}, {'sodium_apache <= 132.0': [{'map_apache <= 126.5': [1, 0]}, 1]}]}]}]}, {'glucose_apache <= 154.0': [{'hematocrit_apache <= 28.0': [{'sodium_apache <= 138.0': [{'resprate_apache <= 14.5': [{'sodium_apache <= 136.5': [1, 0]}, 0]}, {'heart_rate_apache <= 130.0': [1, 0]}]}, {'glucose_apache <= 84.0': [{'heart_rate_apache <= 96.5': [{'hematocrit_apache <= 34.45': [1, 0]}, 0]}, {'resprate_apache <= 11.0': [{'map_apache <= 134.5': [0, 1]}, 0]}]}]}, {'glucose_apache <= 258.0': [{'sodium_apache <= 138.0': [{'resprate_apache <= 55.5': [{'hematocrit_apache <= 39.849999999999994': [1, 0]}, 0]}, 1]}, {'resprate_apache <= 27.0': [1, {'heart_rate_apache <= 117.5': [{'hematocrit_apache <= 43.45': [1, 0]}, {'resprate_apache <= 51.0': [1, 0]}]}]}]}]}]\n"
          ]
        }
      ],
      "source": [
        "save2_forest=forest\n",
        "print(save2_forest)"
      ]
    },
    {
      "cell_type": "markdown",
      "metadata": {
        "id": "dZb6EEYnnO05"
      },
      "source": [
        "## Step4 : Make predictions with the random forest\n",
        "> Note: Please print the f1-score of the predictions of each decision tree"
      ]
    },
    {
      "cell_type": "code",
      "execution_count": 273,
      "metadata": {
        "colab": {
          "base_uri": "https://localhost:8080/"
        },
        "id": "UbHMZnMDnWpG",
        "outputId": "bd4807c6-e2e8-4d54-c1ec-7ff49211f88b"
      },
      "outputs": [
        {
          "name": "stdout",
          "output_type": "stream",
          "text": [
            "F1score : 0.6562770562770563\n",
            "F1score : 0.5240133143128862\n",
            "F1score : 0.5892243026366069\n",
            "F1score : 0.6025727826675694\n",
            "F1score : 0.5637982195845698\n",
            "F1score : 0.5194927195866603\n",
            "F1score : 0.5626859328516786\n",
            "F1score : 0.6563916591115141\n",
            "F1score : 0.6461679669573199\n",
            "F1score : 0.6781362007168459\n",
            "F1score : 0.6604255319148935\n",
            "F1score : 0.6889238020424194\n"
          ]
        }
      ],
      "source": [
        "scores=[]\n",
        "def make_prediction_forest(forest, data):\n",
        "  \"\"\"\n",
        "  This function will use the pre-trained random forest to make the predictions\n",
        "  args:\n",
        "  * forest: the random forest\n",
        "  * data: the data used to predict\n",
        "  return:\n",
        "  * y_prediction: the predicted results\n",
        "  \"\"\"\n",
        "  temp_predictions=[]\n",
        "  y_prediction=[]\n",
        "  for i in range(n_trees):\n",
        "    temp_prediction=make_prediction(forest[i],data)\n",
        "    temp_predictions.append(temp_prediction)\n",
        "    score=calculate_score(y_validation,temp_prediction)\n",
        "    scores.append(score)\n",
        "    \n",
        "  for j in range(len(temp_prediction)):\n",
        "    temp_v=0\n",
        "    for k in range(n_trees):\n",
        "      temp_v+=temp_predictions[k][j]\n",
        "    temp_v=temp_v/n_trees\n",
        "    if(temp_v>=0.5):\n",
        "      temp_v=1\n",
        "    else:\n",
        "      temp_v=0\n",
        "    y_prediction.append(temp_v)\n",
        "  return y_prediction\n",
        "y_pred_test = make_prediction_forest(forest, x_validation)\n",
        "for index in range(len(scores)):\n",
        "  print(\"F1score : \" + str(scores[index]))"
      ]
    },
    {
      "cell_type": "code",
      "execution_count": 274,
      "metadata": {
        "colab": {
          "base_uri": "https://localhost:8080/"
        },
        "id": "Hcd70ubwgHq4",
        "outputId": "7b34d573-c64d-43fc-d3a5-5d9aff18390e"
      },
      "outputs": [
        {
          "name": "stdout",
          "output_type": "stream",
          "text": [
            "513\n"
          ]
        }
      ],
      "source": [
        "y_pred_test = make_prediction_forest(forest, x_test)\n",
        "sum=0\n",
        "for i in range(840):\n",
        "  sum+=y_pred_test[i]\n",
        "print(sum)"
      ]
    },
    {
      "cell_type": "markdown",
      "metadata": {
        "id": "2ufa5bP9HveO"
      },
      "source": [
        "## Step5 : Write the Output File\n",
        "Save your predictions from the **random forest** in a csv file, named as **hw2_advanced.csv**"
      ]
    },
    {
      "cell_type": "code",
      "execution_count": 275,
      "metadata": {
        "id": "XdAQcE41JJYB"
      },
      "outputs": [],
      "source": [
        "advanced = []\n",
        "for i in range(len(y_pred_test)):\n",
        "  advanced.append(y_pred_test[i])"
      ]
    },
    {
      "cell_type": "code",
      "execution_count": 277,
      "metadata": {
        "id": "Pq121klSHwWO"
      },
      "outputs": [],
      "source": [
        "advanced_path = 'hw2_advanced.csv'\n",
        "pd.DataFrame(advanced).to_csv(advanced_path, header = None, index = None)"
      ]
    }
  ],
  "metadata": {
    "colab": {
      "collapsed_sections": [],
      "provenance": []
    },
    "kernelspec": {
      "display_name": "Python 3",
      "name": "python3"
    },
    "language_info": {
      "name": "python"
    }
  },
  "nbformat": 4,
  "nbformat_minor": 0
}
