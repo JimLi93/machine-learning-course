{
  "nbformat": 4,
  "nbformat_minor": 0,
  "metadata": {
    "colab": {
      "provenance": [],
      "collapsed_sections": []
    },
    "kernelspec": {
      "name": "python3",
      "display_name": "Python 3"
    },
    "language_info": {
      "name": "python"
    }
  },
  "cells": [
    {
      "cell_type": "markdown",
      "source": [
        "# **HW1: Regression** \n",
        "In *assignment 1*, you need to finish:\n",
        "\n",
        "1.  Basic Part: Implement the regression model to predict the number of dengue cases\n",
        "\n",
        "\n",
        "> *   Step 1: Split Data\n",
        "> *   Step 2: Preprocess Data\n",
        "> *   Step 3: Implement Regression\n",
        "> *   Step 4: Make Prediction\n",
        "> *   Step 5: Train Model and Generate Result\n",
        "\n",
        "2.  Advanced Part: Implementing a regression model to predict the number of dengue cases in a different way than the basic part"
      ],
      "metadata": {
        "id": "X_Te27fi-0pP"
      }
    },
    {
      "cell_type": "markdown",
      "source": [
        "# 1. Basic Part (60%)\n",
        "In the first part, you need to implement the regression to predict the number of dengue cases\n",
        "\n",
        "Please save the prediction result in a csv file **hw1_basic.csv**\n"
      ],
      "metadata": {
        "id": "_wDdnos-4uUv"
      }
    },
    {
      "cell_type": "markdown",
      "source": [
        "## Import Packages\n",
        "\n",
        "> Note: You **cannot** import any other package in the basic part"
      ],
      "metadata": {
        "id": "RzCR7vk9BFkf"
      }
    },
    {
      "cell_type": "code",
      "source": [
        "import numpy as np\n",
        "import matplotlib.pyplot as plt\n",
        "import pandas as pd\n",
        "import csv\n",
        "import math\n",
        "import random"
      ],
      "metadata": {
        "id": "HL5XjqFf4wSj"
      },
      "execution_count": 436,
      "outputs": []
    },
    {
      "cell_type": "markdown",
      "source": [
        "## Global attributes\n",
        "Define the global attributes"
      ],
      "metadata": {
        "id": "jnWjrzi0dMPz"
      }
    },
    {
      "cell_type": "code",
      "source": [
        "input_dataroot = 'hw1_basic_input.csv' # Input file named as 'hw1_basic_input.csv'\n",
        "output_dataroot = 'hw1_basic.csv' # Output file will be named as 'hw1_basic.csv'\n",
        "\n",
        "input_datalist =  [] # Initial datalist, saved as numpy array\n",
        "output_datalist =  [] # Your prediction, should be 10 * 4 matrix and saved as numpy array\n",
        "             # The format of each row should be ['epiweek', 'CityA', 'CityB', 'CityC']"
      ],
      "metadata": {
        "id": "EWLDPOlHBbcK"
      },
      "execution_count": 437,
      "outputs": []
    },
    {
      "cell_type": "markdown",
      "source": [
        "You can add your own global attributes here\n"
      ],
      "metadata": {
        "id": "PsFC-cvqIcYK"
      }
    },
    {
      "cell_type": "code",
      "source": [],
      "metadata": {
        "id": "OUbS2BEgcut6"
      },
      "execution_count": null,
      "outputs": []
    },
    {
      "cell_type": "markdown",
      "source": [
        "## Load the Input File\n",
        "First, load the basic input file **hw1_basic_input.csv**\n",
        "\n",
        "Input data would be stored in *input_datalist*"
      ],
      "metadata": {
        "id": "rUoRFoQjBW5S"
      }
    },
    {
      "cell_type": "code",
      "source": [
        "# Read input csv to datalist\n",
        "with open(input_dataroot, newline='') as csvfile:\n",
        "  input_datalist = np.array(list(csv.reader(csvfile)))\n"
      ],
      "metadata": {
        "id": "dekR1KnqBtI6"
      },
      "execution_count": 438,
      "outputs": []
    },
    {
      "cell_type": "code",
      "source": [
        "temperatureA = list()\n",
        "caseA = list()\n",
        "temperatureB = list()\n",
        "caseB = list()\n",
        "temperatureC = list()\n",
        "caseC = list()\n",
        "#For temperatureA and caseA which deal with the data that not fit\n",
        "for i in range(1,105):\n",
        "  if input_datalist[i][1] != '' and float(input_datalist[i][1]) > 15 and float(input_datalist[i][1]) < 40: \n",
        "    temperatureA.append(float(input_datalist[i][1]))\n",
        "    caseA.append(int(input_datalist[i][4]))\n",
        "#For temperatureB and caseB which deal with the data that not fit\n",
        "for j in range(1,105):\n",
        "  if input_datalist[j][2] != '' and float(input_datalist[j][2]) > 15 and float(input_datalist[j][2]) < 40: \n",
        "    temperatureB.append(float(input_datalist[j][2]))\n",
        "    caseB.append(int(input_datalist[j][5]))\n",
        "#For temperatureC and caseC which deal with the data that not fit\n",
        "for k in range(1,105):\n",
        "  if input_datalist[k][3] != '' and float(input_datalist[k][3]) > 15 and float(input_datalist[k][3]) < 40: \n",
        "    temperatureC.append(float(input_datalist[k][3]))\n",
        "    caseC.append(int(input_datalist[k][6]))\n",
        "plt.scatter(temperatureB, caseB)\n",
        "#plt.scatter(temperatureC, caseC)"
      ],
      "metadata": {
        "colab": {
          "base_uri": "https://localhost:8080/",
          "height": 282
        },
        "id": "8qKhM-b5aa_C",
        "outputId": "cf62c07f-8395-40e9-bbe1-cbb0c5814f9c"
      },
      "execution_count": 439,
      "outputs": [
        {
          "output_type": "execute_result",
          "data": {
            "text/plain": [
              "<matplotlib.collections.PathCollection at 0x7f274c3d2990>"
            ]
          },
          "metadata": {},
          "execution_count": 439
        },
        {
          "output_type": "display_data",
          "data": {
            "text/plain": [
              "<Figure size 432x288 with 1 Axes>"
            ],
            "image/png": "[encoded data removed]"
          },
          "metadata": {
            "needs_background": "light"
          }
        }
      ]
    },
    {
      "cell_type": "code",
      "source": [
        "ans=[   \n",
        "  [0,0,0,0],\n",
        "  [0,0,0,0],\n",
        "  [0,0,0,0] ]\n",
        "#Parameters\n",
        "alpha=0.00001 #learning rate\n",
        "repeats=1000\n",
        "\n",
        "#Initializing variables\n",
        "w=[0,0,0,0] #w0,w1,w2,w3\n",
        "error=[0,0,0,0]\n",
        "\n",
        "cases_before=2\n",
        "training_amountA = int((len(caseA)-10)*0.7)\n",
        "training_amountB = int((len(caseB)-10)*0.7)\n",
        "training_amountC = int((len(caseC)-10)*0.7)-3\n",
        "print(training_amountA)\n",
        "print(training_amountB)\n",
        "print(training_amountC)\n",
        "for j in range(repeats):\n",
        "  error[0]=0\n",
        "  error[1]=0\n",
        "  error[2]=0\n",
        "  error[3]=0\n",
        "  for i in range(cases_before, training_amountA):\n",
        "    predict=w[0]+(temperatureA[i]*w[1])+(caseA[i-1]*w[2])+(caseA[i-2]*w[3])\n",
        "    error[0]=error[0]+(predict-caseA[i])\n",
        "    error[1]=error[1]+(predict-caseA[i])*temperatureA[i]\n",
        "    error[2]=error[2]+(predict-caseA[i])*caseA[i-1]\n",
        "    error[3]=error[3]+(predict-caseA[i])*caseA[i-2]\n",
        "  \n",
        "  for k in range(cases_before+2):\n",
        "    w[k]=w[k]-(alpha*error[k]/(training_amountA-cases_before))\n",
        "for i in range(4):\n",
        "  ans[0][i]=w[i]\n",
        "  w[i]=0\n",
        "\n",
        "for j in range(repeats):\n",
        "  error[0]=0\n",
        "  error[1]=0\n",
        "  error[2]=0\n",
        "  error[3]=0\n",
        "  for i in range(cases_before, training_amountB):\n",
        "    predict=w[0]+(temperatureB[i]*w[1])+(caseB[i-1]*w[2])+(caseB[i-2]*w[3])\n",
        "    error[0]=error[0]+(predict-caseB[i])\n",
        "    error[1]=error[1]+(predict-caseB[i])*temperatureB[i]\n",
        "    error[2]=error[2]+(predict-caseB[i])*caseB[i-1]\n",
        "    error[3]=error[3]+(predict-caseB[i])*caseB[i-2]\n",
        "  \n",
        "  for k in range(cases_before+2):\n",
        "    w[k]=w[k]-(alpha*error[k]/(training_amountB-cases_before))\n",
        "for i in range(4):\n",
        "  ans[1][i]=w[i]\n",
        "  w[i]=0\n",
        "\n",
        "for j in range(repeats):\n",
        "  error[0]=0\n",
        "  error[1]=0\n",
        "  error[2]=0\n",
        "  error[3]=0\n",
        "  for i in range(cases_before, training_amountC):\n",
        "    predict=w[0]+(temperatureC[i]*w[1])+(caseC[i-1]*w[2])+(caseC[i-2]*w[3])\n",
        "    error[0]=error[0]+(predict-caseC[i])\n",
        "    error[1]=error[1]+(predict-caseC[i])*temperatureC[i]\n",
        "    error[2]=error[2]+(predict-caseC[i])*caseC[i-1]\n",
        "    error[3]=error[3]+(predict-caseC[i])*caseC[i-2]\n",
        "  \n",
        "  for k in range(cases_before+2):\n",
        "    w[k]=w[k]-(10*alpha*error[k]/(training_amountC-cases_before))\n",
        "for i in range(4):\n",
        "  ans[2][i]=w[i]\n",
        "  w[i]=0\n",
        "\n",
        "print(ans[0])\n",
        "print(ans[1])\n",
        "print(ans[2])\n"
      ],
      "metadata": {
        "colab": {
          "base_uri": "https://localhost:8080/"
        },
        "id": "zI56yt-o8Q8h",
        "outputId": "86c33524-0c7d-44e5-cba5-77793b40cf4c"
      },
      "execution_count": 440,
      "outputs": [
        {
          "output_type": "stream",
          "name": "stdout",
          "text": [
            "58\n",
            "60\n",
            "55\n",
            "[0.01354700523862917, 0.2227600684538959, 0.5842791057833887, 0.25476281696855885]\n",
            "[0.013403763285910125, 0.2591941262866632, 0.37942288717096107, 0.40382475923064265]\n",
            "[0.017847732316306337, 0.24381083549051738, 0.36155106084087363, 0.08572388639752754]\n"
          ]
        }
      ]
    },
    {
      "cell_type": "code",
      "source": [
        "tempA=[]\n",
        "predicts=[]\n",
        "for i in range(cases_before, training_amountA):\n",
        "  predict=ans[0][0]+(temperatureA[i]*ans[0][1])+(caseA[i-1]*ans[0][2])+(caseA[i-2]*ans[0][3])\n",
        "  predicts.append(predict)\n",
        "  tempA.append(temperatureA[i])\n",
        "\n",
        "plt.scatter(temperatureA, caseA)\n",
        "plt.scatter(tempA, predicts)"
      ],
      "metadata": {
        "colab": {
          "base_uri": "https://localhost:8080/",
          "height": 282
        },
        "id": "uvt4UL-HBPnX",
        "outputId": "7020dd2f-ed2b-4496-e639-88fe96e7c411"
      },
      "execution_count": 441,
      "outputs": [
        {
          "output_type": "execute_result",
          "data": {
            "text/plain": [
              "<matplotlib.collections.PathCollection at 0x7f274c3b3810>"
            ]
          },
          "metadata": {},
          "execution_count": 441
        },
        {
          "output_type": "display_data",
          "data": {
            "text/plain": [
              "<Figure size 432x288 with 1 Axes>"
            ],
            "image/png": "[encoded data removed]"
          },
          "metadata": {
            "needs_background": "light"
          }
        }
      ]
    },
    {
      "cell_type": "code",
      "source": [
        "tempB=[]\n",
        "predicts=[]\n",
        "for i in range(cases_before, training_amountB):\n",
        "  predict=ans[1][0]+(temperatureB[i]*ans[1][1])+(caseB[i-1]*ans[1][2])+(caseB[i-2]*ans[1][3])\n",
        "  predicts.append(predict)\n",
        "  tempB.append(temperatureB[i])\n",
        "\n",
        "plt.scatter(temperatureB, caseB)\n",
        "plt.scatter(tempB, predicts)"
      ],
      "metadata": {
        "colab": {
          "base_uri": "https://localhost:8080/",
          "height": 282
        },
        "id": "PobWwUpU9lFc",
        "outputId": "4dbcd74a-03db-46d3-950d-184501b0de03"
      },
      "execution_count": 442,
      "outputs": [
        {
          "output_type": "execute_result",
          "data": {
            "text/plain": [
              "<matplotlib.collections.PathCollection at 0x7f274c32b4d0>"
            ]
          },
          "metadata": {},
          "execution_count": 442
        },
        {
          "output_type": "display_data",
          "data": {
            "text/plain": [
              "<Figure size 432x288 with 1 Axes>"
            ],
            "image/png": "[encoded data removed]"
          },
          "metadata": {
            "needs_background": "light"
          }
        }
      ]
    },
    {
      "cell_type": "code",
      "source": [
        "tempC=[]\n",
        "predictsC=[]\n",
        "for i in range(cases_before, training_amountC):\n",
        "  predict=ans[2][0]+(temperatureC[i]*ans[2][1])+(caseC[i-1]*ans[2][2])+(caseC[i-2]*ans[2][3])\n",
        "  predictsC.append(predict)\n",
        "  tempC.append(temperatureC[i])\n",
        "\n",
        "plt.scatter(temperatureC, caseC)\n",
        "plt.scatter(tempC, predictsC)"
      ],
      "metadata": {
        "colab": {
          "base_uri": "https://localhost:8080/",
          "height": 282
        },
        "id": "02bwZUDm9_M1",
        "outputId": "cde43a1a-2a1d-4811-bcf2-30383f5492dd"
      },
      "execution_count": 443,
      "outputs": [
        {
          "output_type": "execute_result",
          "data": {
            "text/plain": [
              "<matplotlib.collections.PathCollection at 0x7f274c28c910>"
            ]
          },
          "metadata": {},
          "execution_count": 443
        },
        {
          "output_type": "display_data",
          "data": {
            "text/plain": [
              "<Figure size 432x288 with 1 Axes>"
            ],
            "image/png": "[encoded data removed]"
          },
          "metadata": {
            "needs_background": "light"
          }
        }
      ]
    },
    {
      "cell_type": "code",
      "source": [
        "mape_train = 0\n",
        "for i in range(cases_before, training_amountA):\n",
        "    predict=ans[0][0]+(temperatureA[i]*ans[0][1])+(caseA[i-1]*ans[0][2])+(caseA[i-2]*ans[0][3])\n",
        "    #print(\"temp: %2f\" %temperatureA[i])\n",
        "    #print(\"cases: %2f\" %caseA[i])\n",
        "    #print(\"predict cases: %2f\" %predict)\n",
        "    dis = (caseA[i] - predict) / caseA[i]\n",
        "    if dis < 0:\n",
        "        dis = -dis\n",
        "    mape_train += dis\n",
        "mape_train = mape_train*100/training_amountA\n",
        "print(str(mape_train) + \"%\")"
      ],
      "metadata": {
        "colab": {
          "base_uri": "https://localhost:8080/"
        },
        "id": "qkZ54IKhCkkk",
        "outputId": "09d0bd8e-3eeb-40c2-c690-f9e155e5580a"
      },
      "execution_count": 444,
      "outputs": [
        {
          "output_type": "stream",
          "name": "stdout",
          "text": [
            "17.468089899351156%\n"
          ]
        }
      ]
    },
    {
      "cell_type": "code",
      "source": [
        "mape_train = 0\n",
        "for i in range(cases_before, training_amountB):\n",
        "    predict=ans[1][0]+(temperatureB[i]*ans[1][1])+(caseB[i-1]*ans[1][2])+(caseB[i-2]*ans[1][3])\n",
        "    dis = (caseB[i] - predict) / caseB[i]\n",
        "    if dis < 0:\n",
        "        dis = -dis\n",
        "    mape_train += dis\n",
        "mape_train = mape_train*100/training_amountB\n",
        "print(str(mape_train) + \"%\")"
      ],
      "metadata": {
        "colab": {
          "base_uri": "https://localhost:8080/"
        },
        "id": "EsIDXe0n-4u9",
        "outputId": "6a966c41-af2e-4c34-9792-c399b727e8b6"
      },
      "execution_count": 445,
      "outputs": [
        {
          "output_type": "stream",
          "name": "stdout",
          "text": [
            "17.28014415039529%\n"
          ]
        }
      ]
    },
    {
      "cell_type": "code",
      "source": [
        "mape_train = 0\n",
        "for i in range(cases_before, training_amountA):\n",
        "    predict=ans[2][0]+(temperatureC[i]*ans[2][1])+(caseC[i-1]*ans[2][2])+(caseC[i-2]*ans[2][3])\n",
        "    dis = (caseC[i] - predict) / caseC[i]\n",
        "    if dis < 0:\n",
        "        dis = -dis\n",
        "    mape_train += dis\n",
        "mape_train = mape_train*100/training_amountC\n",
        "print(str(mape_train) + \"%\")"
      ],
      "metadata": {
        "colab": {
          "base_uri": "https://localhost:8080/"
        },
        "id": "BV0XBt-Q-5y3",
        "outputId": "d76e531c-b07c-4f2a-c3da-b0afa0752d54"
      },
      "execution_count": 446,
      "outputs": [
        {
          "output_type": "stream",
          "name": "stdout",
          "text": [
            "39.31700504504128%\n"
          ]
        }
      ]
    },
    {
      "cell_type": "code",
      "source": [
        "test_temp=[]\n",
        "test_case=[]\n",
        "r_test_case=[]\n",
        "for i in range(training_amountA, len(temperatureA)-10):\n",
        "  predict=ans[0][0]+(temperatureA[i]*ans[0][1])+(caseA[i-1]*ans[0][2])+(caseA[i-2]*ans[0][3])\n",
        "  test_case.append(predict)\n",
        "  test_temp.append(temperatureA[i])\n",
        "  r_test_case.append(caseA[i])\n",
        "\n",
        "plt.scatter(test_temp, r_test_case)\n",
        "plt.scatter(test_temp, test_case)"
      ],
      "metadata": {
        "colab": {
          "base_uri": "https://localhost:8080/",
          "height": 282
        },
        "id": "vA-AHrsCFMY1",
        "outputId": "c907792b-8bdc-4947-e6f3-3154989560ad"
      },
      "execution_count": 447,
      "outputs": [
        {
          "output_type": "execute_result",
          "data": {
            "text/plain": [
              "<matplotlib.collections.PathCollection at 0x7f274c276650>"
            ]
          },
          "metadata": {},
          "execution_count": 447
        },
        {
          "output_type": "display_data",
          "data": {
            "text/plain": [
              "<Figure size 432x288 with 1 Axes>"
            ],
            "image/png": "[encoded data removed]"
          },
          "metadata": {
            "needs_background": "light"
          }
        }
      ]
    },
    {
      "cell_type": "code",
      "source": [
        "test_temp=[]\n",
        "test_case=[]\n",
        "r_test_case=[]\n",
        "for i in range(training_amountB, len(temperatureB)-10):\n",
        "  predict=ans[1][0]+(temperatureB[i]*ans[1][1])+(caseB[i-1]*ans[1][2])+(caseB[i-2]*ans[1][3])\n",
        "  test_case.append(predict)\n",
        "  test_temp.append(temperatureB[i])\n",
        "  r_test_case.append(caseB[i])\n",
        "\n",
        "plt.scatter(test_temp, r_test_case)\n",
        "plt.scatter(test_temp, test_case)"
      ],
      "metadata": {
        "colab": {
          "base_uri": "https://localhost:8080/",
          "height": 282
        },
        "id": "ceCkXtRu_h32",
        "outputId": "f8bae2c3-d80e-4b3b-c581-d4b29ed14a20"
      },
      "execution_count": 448,
      "outputs": [
        {
          "output_type": "execute_result",
          "data": {
            "text/plain": [
              "<matplotlib.collections.PathCollection at 0x7f274c1f03d0>"
            ]
          },
          "metadata": {},
          "execution_count": 448
        },
        {
          "output_type": "display_data",
          "data": {
            "text/plain": [
              "<Figure size 432x288 with 1 Axes>"
            ],
            "image/png": "[encoded data removed]"
          },
          "metadata": {
            "needs_background": "light"
          }
        }
      ]
    },
    {
      "cell_type": "code",
      "source": [
        "test_temp=[]\n",
        "test_case=[]\n",
        "r_test_case=[]\n",
        "for i in range(training_amountC, len(temperatureC)-10):\n",
        "  predict=ans[2][0]+(temperatureC[i]*ans[2][1])+(caseC[i-1]*ans[2][2])+(caseC[i-2]*ans[2][3])\n",
        "  test_case.append(predict)\n",
        "  test_temp.append(temperatureC[i])\n",
        "  r_test_case.append(caseC[i])\n",
        "\n",
        "plt.scatter(test_temp, r_test_case)\n",
        "plt.scatter(test_temp, test_case)"
      ],
      "metadata": {
        "colab": {
          "base_uri": "https://localhost:8080/",
          "height": 282
        },
        "id": "6r-KECmw_hGE",
        "outputId": "4ee2afc4-b82c-4cb3-ea64-e50617e76728"
      },
      "execution_count": 449,
      "outputs": [
        {
          "output_type": "execute_result",
          "data": {
            "text/plain": [
              "<matplotlib.collections.PathCollection at 0x7f274c152cd0>"
            ]
          },
          "metadata": {},
          "execution_count": 449
        },
        {
          "output_type": "display_data",
          "data": {
            "text/plain": [
              "<Figure size 432x288 with 1 Axes>"
            ],
            "image/png": "[encoded data removed]"
          },
          "metadata": {
            "needs_background": "light"
          }
        }
      ]
    },
    {
      "cell_type": "code",
      "source": [
        "mape_test = 0\n",
        "count=0\n",
        "for i in range(training_amountA, len(temperatureA)-10):\n",
        "    predict=ans[0][0]+(temperatureA[i]*ans[0][1])+(caseA[i-1]*ans[0][2])+(caseA[i-2]*ans[0][3])\n",
        "    #print(\"temp: %2f\" %temperatureA[i])\n",
        "    #print(\"cases: %2f\" %caseA[i])\n",
        "    #print(\"predict cases: %2f\" %predict)\n",
        "    dis = (caseA[i] - predict) / caseA[i]\n",
        "    if dis < 0:\n",
        "        dis = -dis\n",
        "    mape_test += dis\n",
        "    count+=1\n",
        "mape_test = mape_test*100/count\n",
        "print(str(mape_test) + \"%\")"
      ],
      "metadata": {
        "colab": {
          "base_uri": "https://localhost:8080/"
        },
        "id": "W0pRfQM5GLKm",
        "outputId": "aacf6005-644c-4b37-d63c-5851a338d446"
      },
      "execution_count": 461,
      "outputs": [
        {
          "output_type": "stream",
          "name": "stdout",
          "text": [
            "15.457756975179091%\n"
          ]
        }
      ]
    },
    {
      "cell_type": "code",
      "source": [
        "mape_test = 0\n",
        "count=0\n",
        "for i in range(training_amountB, len(temperatureB)-10):\n",
        "    predict=ans[1][0]+(temperatureB[i]*ans[1][1])+(caseB[i-1]*ans[1][2])+(caseB[i-2]*ans[1][3])\n",
        "    dis = (caseB[i] - predict) / caseB[i]\n",
        "    if dis < 0:\n",
        "        dis = -dis\n",
        "    mape_test += dis\n",
        "    count+=1\n",
        "mape_test = mape_test*100/count\n",
        "print(str(mape_test) + \"%\")"
      ],
      "metadata": {
        "colab": {
          "base_uri": "https://localhost:8080/"
        },
        "id": "KTvn53eCALbS",
        "outputId": "df8f3901-c06c-4d8a-8fa9-f6faf1d3550d"
      },
      "execution_count": 462,
      "outputs": [
        {
          "output_type": "stream",
          "name": "stdout",
          "text": [
            "18.127574931363863%\n"
          ]
        }
      ]
    },
    {
      "cell_type": "code",
      "source": [
        "mape_test = 0\n",
        "count=0\n",
        "for i in range(training_amountC, len(temperatureC)-10):\n",
        "    predict=ans[2][0]+(temperatureC[i]*ans[2][1])+(caseC[i-1]*ans[2][2])+(caseC[i-2]*ans[2][3])\n",
        "    #print(\"temp: %2f\" %temperatureC[i])\n",
        "    #print(\"cases: %2f\" %caseC[i])\n",
        "    #print(\"predict cases: %2f\" %predict)\n",
        "    dis = (caseC[i] - predict) / caseC[i]\n",
        "    if dis < 0:\n",
        "        dis = -dis\n",
        "    mape_test += dis\n",
        "    count+=1\n",
        "print(count)\n",
        "mape_test = mape_test*100/count\n",
        "print(str(mape_test) + \"%\")"
      ],
      "metadata": {
        "colab": {
          "base_uri": "https://localhost:8080/"
        },
        "id": "gj638KKcALE1",
        "outputId": "9874fac3-7aa6-43d0-f910-9bbfe93621dd"
      },
      "execution_count": 464,
      "outputs": [
        {
          "output_type": "stream",
          "name": "stdout",
          "text": [
            "28\n",
            "39.92476812271251%\n"
          ]
        }
      ]
    },
    {
      "cell_type": "code",
      "source": [
        "for i in range(10):\n",
        "  ans_list=list()\n",
        "  ans_list.append(202143+i)\n",
        "  indexA=len(temperatureA)-10+i\n",
        "  indexB=len(temperatureB)-10+i\n",
        "  indexC=len(temperatureC)-10+i\n",
        "  predict=ans[0][0]+(temperatureA[indexA]*ans[0][1])+(caseA[indexA-1]*ans[0][2])+(caseA[indexA-2]*ans[0][3])\n",
        "  caseA[indexA]=predict\n",
        "  ans_list.append(predict)\n",
        "  predict=ans[1][0]+(temperatureB[indexB]*ans[1][1])+(caseB[indexB-1]*ans[1][2])+(caseB[indexB-2]*ans[1][3])\n",
        "  caseB[indexB]=predict\n",
        "  ans_list.append(predict)\n",
        "  predict=ans[2][0]+(temperatureC[indexC]*ans[2][1])+(caseC[indexC-1]*ans[2][2])+(caseC[indexC-2]*ans[2][3])\n",
        "  caseC[indexC]=predict\n",
        "  ans_list.append(predict)\n",
        "  output_datalist.append(ans_list)\n",
        "\n",
        "print(output_datalist)\n",
        "#need to fix using the 0 case since they are not in data"
      ],
      "metadata": {
        "colab": {
          "base_uri": "https://localhost:8080/"
        },
        "id": "F_y-isW_HMOS",
        "outputId": "a8d167d5-1a0c-4d36-b9b3-43d8f9f51c73"
      },
      "execution_count": 453,
      "outputs": [
        {
          "output_type": "stream",
          "name": "stdout",
          "text": [
            "[[202143, 27.55656189205817, 23.490319334175226, 24.87815796296192], [202144, 28.49117981641053, 24.952667213607995, 19.04187700219727], [202145, 29.697484853613616, 24.80663301470198, 16.032481928436706], [202146, 30.7295136046315, 25.333980753862136, 14.11741674140734], [202147, 30.96709270308943, 25.640980571208168, 13.123159899640822], [202148, 30.865390003385315, 25.529789387376404, 11.924162438906343], [202149, 31.3966625242427, 25.79819480562901, 12.86585897906692], [202150, 32.54547295698773, 24.587672933773526, 12.184380790237979], [202151, 32.804057604941654, 24.703311410888574, 12.667254337761406], [202152, 33.4260254485896, 25.463601279531133, 12.702961246567062]]\n"
          ]
        }
      ]
    },
    {
      "cell_type": "markdown",
      "source": [
        "## Implement the Regression Model\n",
        "\n",
        "> Note: It is recommended to use the functions we defined, you can also define your own functions\n"
      ],
      "metadata": {
        "id": "6kYPuikLCFx4"
      }
    },
    {
      "cell_type": "markdown",
      "source": [
        "### Step 1: Split Data\n",
        "Split data in *input_datalist* into training dataset and validation dataset \n",
        "\n"
      ],
      "metadata": {
        "id": "jWwdx06JNEYs"
      }
    },
    {
      "cell_type": "code",
      "source": [
        "def SplitData(amount):\n",
        "  return int(amount*0.3)"
      ],
      "metadata": {
        "id": "USDciENcB-5F"
      },
      "execution_count": null,
      "outputs": []
    },
    {
      "cell_type": "markdown",
      "source": [
        "### Step 2: Preprocess Data\n",
        "Handle the unreasonable data\n",
        "> Hint: Outlier and missing data can be handled by removing the data or adding the values with the help of statistics  "
      ],
      "metadata": {
        "id": "u-3Qln4aNgVy"
      }
    },
    {
      "cell_type": "code",
      "source": [
        "def PreprocessData():\n",
        "  "
      ],
      "metadata": {
        "id": "XXvW1n_5NkQ5"
      },
      "execution_count": null,
      "outputs": []
    },
    {
      "cell_type": "markdown",
      "source": [
        "### Step 3: Implement Regression\n",
        "> Hint: You can use Matrix Inversion, or Gradient Descent to finish this part\n",
        "\n",
        "\n"
      ],
      "metadata": {
        "id": "yDLpJmQUN3V6"
      }
    },
    {
      "cell_type": "code",
      "source": [
        "def Regression():\n",
        "  "
      ],
      "metadata": {
        "id": "Tx9n1_23N8C0"
      },
      "execution_count": null,
      "outputs": []
    },
    {
      "cell_type": "markdown",
      "source": [
        "### Step 4: Make Prediction\n",
        "Make prediction of testing dataset and store the value in *output_datalist*"
      ],
      "metadata": {
        "id": "2NxRNFwyN8xd"
      }
    },
    {
      "cell_type": "code",
      "source": [
        "def MakePrediction():\n",
        "  "
      ],
      "metadata": {
        "id": "EKlDIC2-N_lk"
      },
      "execution_count": null,
      "outputs": []
    },
    {
      "cell_type": "markdown",
      "source": [
        "### Step 5: Train Model and Generate Result\n",
        "\n",
        "> Notice: **Remember to output the coefficients of the model here**, otherwise 5 points would be deducted\n",
        "* If your regression model is *3x^2 + 2x^1 + 1*, your output would be: \n",
        "```\n",
        "3 2 1\n",
        "```\n",
        "\n",
        "\n",
        "\n"
      ],
      "metadata": {
        "id": "cCd0Z6izOCwq"
      }
    },
    {
      "cell_type": "code",
      "source": [],
      "metadata": {
        "id": "iCL92EPKOFIn"
      },
      "execution_count": null,
      "outputs": []
    },
    {
      "cell_type": "markdown",
      "source": [
        "## Write the Output File\n",
        "Write the prediction to output csv\n",
        "> Format: 'epiweek', 'CityA', 'CityB', 'CityC'"
      ],
      "metadata": {
        "id": "J8Jhd8wAOk3D"
      }
    },
    {
      "cell_type": "code",
      "source": [
        "with open(output_dataroot, 'w', newline='', encoding=\"utf-8\") as csvfile:\n",
        "  writer = csv.writer(csvfile)\n",
        "  for row in output_datalist:\n",
        "    writer.writerow(row)"
      ],
      "metadata": {
        "id": "tYQVYLlKOtDB"
      },
      "execution_count": 454,
      "outputs": []
    },
    {
      "cell_type": "markdown",
      "source": [
        "# 2. Advanced Part (35%)\n",
        "In the second part, you need to implement the regression in a different way than the basic part to help your predictions for the number of dengue cases\n",
        "\n",
        "We provide you with two files **hw1_advanced_input1.csv** and **hw1_advanced_input2.csv** that can help you in this part\n",
        "\n",
        "Please save the prediction result in a csv file **hw1_advanced.csv** \n"
      ],
      "metadata": {
        "id": "rx4408qg4xMQ"
      }
    },
    {
      "cell_type": "code",
      "source": [],
      "metadata": {
        "id": "DaZCe19m41g1"
      },
      "execution_count": null,
      "outputs": []
    },
    {
      "cell_type": "markdown",
      "source": [
        "# Report *(5%)*\n",
        "\n",
        "Report should be submitted as a pdf file **hw1_report.pdf**\n",
        "\n",
        "*   Briefly describe the difficulty you encountered \n",
        "*   Summarize your work and your reflections \n",
        "*   No more than one page\n",
        "\n",
        "\n",
        "\n",
        "\n"
      ],
      "metadata": {
        "id": "EtgCJU7FPeJL"
      }
    },
    {
      "cell_type": "markdown",
      "source": [
        "# Save the Code File\n",
        "Please save your code and submit it as an ipynb file! (**hw1.ipynb**)"
      ],
      "metadata": {
        "id": "hlEE53_MPf4W"
      }
    }
  ]
}