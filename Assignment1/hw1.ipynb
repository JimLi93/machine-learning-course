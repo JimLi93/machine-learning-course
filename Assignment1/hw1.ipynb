{
  "nbformat": 4,
  "nbformat_minor": 0,
  "metadata": {
    "colab": {
      "provenance": [],
      "collapsed_sections": []
    },
    "kernelspec": {
      "name": "python3",
      "display_name": "Python 3"
    },
    "language_info": {
      "name": "python"
    }
  },
  "cells": [
    {
      "cell_type": "markdown",
      "source": [
        "# **HW1: Regression** \n",
        "In *assignment 1*, you need to finish:\n",
        "\n",
        "1.  Basic Part: Implement the regression model to predict the number of dengue cases\n",
        "\n",
        "\n",
        "> *   Step 1: Split Data\n",
        "> *   Step 2: Preprocess Data\n",
        "> *   Step 3: Implement Regression\n",
        "> *   Step 4: Make Prediction\n",
        "> *   Step 5: Train Model and Generate Result\n",
        "\n",
        "2.  Advanced Part: Implementing a regression model to predict the number of dengue cases in a different way than the basic part"
      ],
      "metadata": {
        "id": "X_Te27fi-0pP"
      }
    },
    {
      "cell_type": "markdown",
      "source": [
        "# 1. Basic Part (60%)\n",
        "In the first part, you need to implement the regression to predict the number of dengue cases\n",
        "\n",
        "Please save the prediction result in a csv file **hw1_basic.csv**\n"
      ],
      "metadata": {
        "id": "_wDdnos-4uUv"
      }
    },
    {
      "cell_type": "markdown",
      "source": [
        "## Import Packages\n",
        "\n",
        "> Note: You **cannot** import any other package in the basic part"
      ],
      "metadata": {
        "id": "RzCR7vk9BFkf"
      }
    },
    {
      "cell_type": "code",
      "source": [
        "import numpy as np\n",
        "import matplotlib.pyplot as plt\n",
        "import pandas as pd\n",
        "import csv\n",
        "import math\n",
        "import random"
      ],
      "metadata": {
        "id": "HL5XjqFf4wSj"
      },
      "execution_count": null,
      "outputs": []
    },
    {
      "cell_type": "markdown",
      "source": [
        "## Global attributes\n",
        "Define the global attributes"
      ],
      "metadata": {
        "id": "jnWjrzi0dMPz"
      }
    },
    {
      "cell_type": "code",
      "source": [
        "input_dataroot = 'hw1_basic_input.csv' # Input file named as 'hw1_basic_input.csv'\n",
        "output_dataroot = 'hw1_basic.csv' # Output file will be named as 'hw1_basic.csv'\n",
        "\n",
        "input_datalist =  [] # Initial datalist, saved as numpy array\n",
        "output_datalist =  [] # Your prediction, should be 10 * 4 matrix and saved as numpy array\n",
        "             # The format of each row should be ['epiweek', 'CityA', 'CityB', 'CityC']"
      ],
      "metadata": {
        "id": "EWLDPOlHBbcK"
      },
      "execution_count": null,
      "outputs": []
    },
    {
      "cell_type": "markdown",
      "source": [
        "You can add your own global attributes here\n"
      ],
      "metadata": {
        "id": "PsFC-cvqIcYK"
      }
    },
    {
      "cell_type": "code",
      "source": [
        "input_advanced1_dataroot = 'hw1_advanced_input1.csv'\n",
        "input_advanced2_dataroot = 'hw1_advanced_input2.csv'\n",
        "output_advanced_dataroot = 'hw1_advanced.csv'\n",
        "input_advanced1_datalist = []\n",
        "input_advanced2_datalist = []"
      ],
      "metadata": {
        "id": "OUbS2BEgcut6"
      },
      "execution_count": null,
      "outputs": []
    },
    {
      "cell_type": "markdown",
      "source": [
        "## Load the Input File\n",
        "First, load the basic input file **hw1_basic_input.csv**\n",
        "\n",
        "Input data would be stored in *input_datalist*"
      ],
      "metadata": {
        "id": "rUoRFoQjBW5S"
      }
    },
    {
      "cell_type": "code",
      "source": [
        "# Read input csv to datalist\n",
        "with open(input_dataroot, newline='') as csvfile:\n",
        "  input_datalist = np.array(list(csv.reader(csvfile)))\n"
      ],
      "metadata": {
        "id": "dekR1KnqBtI6"
      },
      "execution_count": null,
      "outputs": []
    },
    {
      "cell_type": "markdown",
      "source": [
        "## Implement the Regression Model\n",
        "\n",
        "> Note: It is recommended to use the functions we defined, you can also define your own functions\n"
      ],
      "metadata": {
        "id": "6kYPuikLCFx4"
      }
    },
    {
      "cell_type": "markdown",
      "source": [
        "### Step 1: Split Data\n",
        "Split data in *input_datalist* into training dataset and validation dataset \n",
        "\n"
      ],
      "metadata": {
        "id": "jWwdx06JNEYs"
      }
    },
    {
      "cell_type": "code",
      "source": [
        "#def SplitData():\n"
      ],
      "metadata": {
        "id": "USDciENcB-5F"
      },
      "execution_count": null,
      "outputs": []
    },
    {
      "cell_type": "markdown",
      "source": [
        "### Step 2: Preprocess Data\n",
        "Handle the unreasonable data\n",
        "> Hint: Outlier and missing data can be handled by removing the data or adding the values with the help of statistics  "
      ],
      "metadata": {
        "id": "u-3Qln4aNgVy"
      }
    },
    {
      "cell_type": "code",
      "source": [
        "#def PreprocessData():\n",
        "  "
      ],
      "metadata": {
        "id": "XXvW1n_5NkQ5"
      },
      "execution_count": null,
      "outputs": []
    },
    {
      "cell_type": "code",
      "source": [
        "temperatureA = list()\n",
        "caseA = list()\n",
        "temperatureB = list()\n",
        "caseB = list()\n",
        "temperatureC = list()\n",
        "caseC = list()\n",
        "sum_of_temperature = [0,0,0]\n",
        "average_of_temperature = [0,0,0]\n",
        "#For temperatureA and caseA which deal with the data that not fit\n",
        "for i in range(1,105):\n",
        "  if input_datalist[i][1] != '' and float(input_datalist[i][1]) > 15 and float(input_datalist[i][1]) < 40: \n",
        "    temperatureA.append(float(input_datalist[i][1]))\n",
        "    sum_of_temperature[0]+=float(input_datalist[i][1])\n",
        "    caseA.append(int(input_datalist[i][4]))\n",
        "#For temperatureB and caseB which deal with the data that not fit\n",
        "for j in range(1,105):\n",
        "  if input_datalist[j][2] != '' and float(input_datalist[j][2]) > 15 and float(input_datalist[j][2]) < 40: \n",
        "    temperatureB.append(float(input_datalist[j][2]))\n",
        "    sum_of_temperature[1]+=float(input_datalist[j][2])\n",
        "    caseB.append(int(input_datalist[j][5]))\n",
        "#For temperatureC and caseC which deal with the data that not fit\n",
        "for k in range(1,105):\n",
        "  if input_datalist[k][3] != '' and float(input_datalist[k][3]) > 15 and float(input_datalist[k][3]) < 40: \n",
        "    temperatureC.append(float(input_datalist[k][3]))\n",
        "    sum_of_temperature[2]+=float(input_datalist[k][3])\n",
        "    caseC.append(int(input_datalist[k][6]))\n",
        "\n",
        "average_of_temperature[0]=sum_of_temperature[0]/len(temperatureA)\n",
        "average_of_temperature[1]=sum_of_temperature[1]/len(temperatureB)\n",
        "average_of_temperature[2]=sum_of_temperature[2]/len(temperatureC)\n",
        "\n",
        "deviationA=0\n",
        "deviationB=0\n",
        "deviationC=0\n",
        "for i in range(len(temperatureA)):\n",
        "  deviationA+=(temperatureA[i]-average_of_temperature[0])*(temperatureA[i]-average_of_temperature[0])\n",
        "deviationA=math.sqrt(deviationA/len(temperatureA))\n",
        "for i in range(len(temperatureA)):\n",
        "  temperatureA[i]=(temperatureA[i]-average_of_temperature[0])*10/deviationA\n",
        "\n",
        "for i in range(len(temperatureB)):\n",
        "  deviationB+=(temperatureB[i]-average_of_temperature[1])*(temperatureB[i]-average_of_temperature[1])\n",
        "deviationB=math.sqrt(deviationB/len(temperatureB))\n",
        "for i in range(len(temperatureB)):\n",
        "  temperatureB[i]=(temperatureB[i]-average_of_temperature[1])*10/deviationB\n",
        "\n",
        "for i in range(len(temperatureC)):\n",
        "  deviationC+=(temperatureC[i]-average_of_temperature[2])*(temperatureC[i]-average_of_temperature[2])\n",
        "deviationC=math.sqrt(deviationC/len(temperatureC))\n",
        "for i in range(len(temperatureC)):\n",
        "  temperatureC[i]=(temperatureC[i]-average_of_temperature[2])*10/deviationC\n",
        "\n"
      ],
      "metadata": {
        "id": "8qKhM-b5aa_C"
      },
      "execution_count": null,
      "outputs": []
    },
    {
      "cell_type": "markdown",
      "source": [
        "### Step 3: Implement Regression\n",
        "> Hint: You can use Matrix Inversion, or Gradient Descent to finish this part\n",
        "\n",
        "\n"
      ],
      "metadata": {
        "id": "yDLpJmQUN3V6"
      }
    },
    {
      "cell_type": "code",
      "source": [
        "def Regression():\n",
        "  ans=[   \n",
        "  [0,0,0,0],\n",
        "  [0,0,0,0],\n",
        "  [0,0,0,0] ]\n",
        "  #Parameters\n",
        "  alpha=0.0001 #learning rate\n",
        "  repeats=100000\n",
        "\n",
        "  #Initializing variables\n",
        "  w=[0,0,0,0] #w0,w1,w2,w3\n",
        "  error=[0,0,0,0]\n",
        "\n",
        "  cases_before=2\n",
        "  training_amountA = int((len(caseA)-10)*0.7)\n",
        "  training_amountB = int((len(caseB)-10)*0.7)\n",
        "  training_amountC = int((len(caseC)-10)*0.7)\n",
        "  for j in range(repeats):\n",
        "    error[0]=0\n",
        "    error[1]=0\n",
        "    error[2]=0\n",
        "    error[3]=0\n",
        "    for i in range(cases_before, training_amountA):\n",
        "      predict=w[0]+(temperatureA[i]*w[1])+(caseA[i-1]*w[2])+(caseA[i-2]*w[3])\n",
        "      error[0]=error[0]+(predict-caseA[i])\n",
        "      error[1]=error[1]+(predict-caseA[i])*temperatureA[i]\n",
        "      error[2]=error[2]+(predict-caseA[i])*caseA[i-1]\n",
        "      error[3]=error[3]+(predict-caseA[i])*caseA[i-2]\n",
        "  \n",
        "    for k in range(cases_before+2):\n",
        "      w[k]=w[k]-(alpha*error[k]/(training_amountA-cases_before))\n",
        "  for i in range(4):\n",
        "    ans[0][i]=w[i]\n",
        "    w[i]=0\n",
        "\n",
        "  for j in range(repeats):\n",
        "    error[0]=0\n",
        "    error[1]=0\n",
        "    error[2]=0\n",
        "    error[3]=0\n",
        "    for i in range(cases_before, training_amountB):\n",
        "      predict=w[0]+(temperatureB[i]*w[1])+(caseB[i-1]*w[2])+(caseB[i-2]*w[3])\n",
        "      error[0]=error[0]+(predict-caseB[i])\n",
        "      error[1]=error[1]+(predict-caseB[i])*temperatureB[i]\n",
        "      error[2]=error[2]+(predict-caseB[i])*caseB[i-1]\n",
        "      error[3]=error[3]+(predict-caseB[i])*caseB[i-2]\n",
        "  \n",
        "    for k in range(cases_before+2):\n",
        "      w[k]=w[k]-(alpha*error[k]/(training_amountB-cases_before))\n",
        "  for i in range(4):\n",
        "    ans[1][i]=w[i]\n",
        "    w[i]=0\n",
        "\n",
        "  for j in range(repeats):\n",
        "    error[0]=0\n",
        "    error[1]=0\n",
        "    error[2]=0\n",
        "    error[3]=0\n",
        "    for i in range(cases_before, training_amountC):\n",
        "      predict=w[0]+(temperatureC[i]*w[1])+(caseC[i-1]*w[2])+(caseC[i-2]*w[3])\n",
        "      error[0]=error[0]+(predict-caseC[i])\n",
        "      error[1]=error[1]+(predict-caseC[i])*temperatureC[i]\n",
        "      error[2]=error[2]+(predict-caseC[i])*caseC[i-1]\n",
        "      error[3]=error[3]+(predict-caseC[i])*caseC[i-2]\n",
        "  \n",
        "    for k in range(cases_before+2):\n",
        "      w[k]=w[k]-(alpha*error[k]/(training_amountC-cases_before))\n",
        "  for i in range(4):\n",
        "    ans[2][i]=w[i]\n",
        "    w[i]=0\n",
        "\n",
        "  return ans\n",
        "  "
      ],
      "metadata": {
        "id": "Tx9n1_23N8C0"
      },
      "execution_count": null,
      "outputs": []
    },
    {
      "cell_type": "code",
      "source": [
        "answer=Regression()"
      ],
      "metadata": {
        "id": "2YhfGodqkWyM"
      },
      "execution_count": null,
      "outputs": []
    },
    {
      "cell_type": "markdown",
      "source": [
        "### Step 4: Make Prediction\n",
        "Make prediction of testing dataset and store the value in *output_datalist*"
      ],
      "metadata": {
        "id": "2NxRNFwyN8xd"
      }
    },
    {
      "cell_type": "code",
      "source": [
        "def MakePrediction():\n",
        "  outputlist=[]\n",
        "  for i in range(10):\n",
        "    ans_list=list()\n",
        "    ans_list.append(202143+i)\n",
        "    indexA=len(temperatureA)-10+i\n",
        "    indexB=len(temperatureB)-10+i\n",
        "    indexC=len(temperatureC)-10+i\n",
        "    predict=answer[0][0]+(temperatureA[indexA]*answer[0][1])+(caseA[indexA-1]*answer[0][2])+(caseA[indexA-2]*answer[0][3])\n",
        "    caseA[indexA]=predict\n",
        "    ans_list.append(predict)\n",
        "    predict=answer[1][0]+(temperatureB[indexB]*answer[1][1])+(caseB[indexB-1]*answer[1][2])+(caseB[indexB-2]*answer[1][3])\n",
        "    caseB[indexB]=predict\n",
        "    ans_list.append(predict)\n",
        "    predict=answer[2][0]+(temperatureC[indexC]*answer[2][1])+(caseC[indexC-1]*answer[2][2])+(caseC[indexC-2]*answer[2][3])\n",
        "    caseC[indexC]=predict\n",
        "    ans_list.append(predict)\n",
        "    outputlist.append(ans_list)\n",
        "  return outputlist"
      ],
      "metadata": {
        "id": "EKlDIC2-N_lk"
      },
      "execution_count": null,
      "outputs": []
    },
    {
      "cell_type": "markdown",
      "source": [
        "### Step 5: Train Model and Generate Result\n",
        "\n",
        "> Notice: **Remember to output the coefficients of the model here**, otherwise 5 points would be deducted\n",
        "* If your regression model is *3x^2 + 2x^1 + 1*, your output would be: \n",
        "```\n",
        "3 2 1\n",
        "```\n",
        "\n",
        "\n",
        "\n"
      ],
      "metadata": {
        "id": "cCd0Z6izOCwq"
      }
    },
    {
      "cell_type": "code",
      "source": [
        "print(\"Model for cityA\")\n",
        "print(\"y(i) = \" + str(answer[0][0])+ \" - \" + str(-answer[0][1]) + \" * x(i) + \" + str(answer[0][2]) + \" * y(i-1) + \" + str(answer[0][3]) + \" * y(i-2)\" )\n",
        "print(\"Model for cityB\")\n",
        "print(\"y(i) = \" + str(answer[1][0])+ \" - \" + str(-answer[1][1]) + \" * x(i) + \" + str(answer[1][2]) + \" * y(i-1) + \" + str(answer[1][3]) + \" * y(i-2)\" )\n",
        "print(\"Model for cityC\")\n",
        "print(\"y(i) = \" + str(answer[2][0])+ \" - \" + str(-answer[2][1]) + \" * x(i) + \" + str(answer[2][2]) + \" * y(i-1) + \" + str(answer[2][3]) + \" * y(i-2)\" )"
      ],
      "metadata": {
        "id": "iCL92EPKOFIn",
        "colab": {
          "base_uri": "https://localhost:8080/"
        },
        "outputId": "10a33083-942e-4f15-f29c-d6264a43613f"
      },
      "execution_count": null,
      "outputs": [
        {
          "output_type": "stream",
          "name": "stdout",
          "text": [
            "Model for cityA\n",
            "y(i) = 7.614841702624738 - 0.3226828786379779 * x(i) + 0.6582802107505807 * y(i-1) + 0.14874377351827317 * y(i-2)\n",
            "Model for cityB\n",
            "y(i) = 4.928548483675138 - 0.17962068158644037 * x(i) + 0.4688229662900387 * y(i-1) + 0.3457296474564163 * y(i-2)\n",
            "Model for cityC\n",
            "y(i) = 2.0895557135042098 - 0.05291540037915487 * x(i) + 0.5347191057366811 * y(i-1) + 0.33769125458768046 * y(i-2)\n"
          ]
        }
      ]
    },
    {
      "cell_type": "markdown",
      "source": [
        "## Write the Output File\n",
        "Write the prediction to output csv\n",
        "> Format: 'epiweek', 'CityA', 'CityB', 'CityC'"
      ],
      "metadata": {
        "id": "J8Jhd8wAOk3D"
      }
    },
    {
      "cell_type": "code",
      "source": [
        "output_datalist=MakePrediction()\n",
        "with open(output_dataroot, 'w', newline='', encoding=\"utf-8\") as csvfile:\n",
        "  writer = csv.writer(csvfile)\n",
        "  for row in output_datalist:\n",
        "    writer.writerow(row)"
      ],
      "metadata": {
        "id": "tYQVYLlKOtDB"
      },
      "execution_count": null,
      "outputs": []
    },
    {
      "cell_type": "markdown",
      "source": [
        "# 2. Advanced Part (35%)\n",
        "In the second part, you need to implement the regression in a different way than the basic part to help your predictions for the number of dengue cases\n",
        "\n",
        "We provide you with two files **hw1_advanced_input1.csv** and **hw1_advanced_input2.csv** that can help you in this part\n",
        "\n",
        "Please save the prediction result in a csv file **hw1_advanced.csv** \n"
      ],
      "metadata": {
        "id": "rx4408qg4xMQ"
      }
    },
    {
      "cell_type": "markdown",
      "source": [
        "### Load Input File in Advanced1&2\n",
        "\n",
        "\n",
        "\n",
        "\n"
      ],
      "metadata": {
        "id": "zwc78UtJ5ch2"
      }
    },
    {
      "cell_type": "code",
      "source": [
        "# Read input from advanced1\n",
        "with open(input_advanced1_dataroot, newline='') as csvfile:\n",
        "  input_advanced1_datalist = np.array(list(csv.reader(csvfile)))\n",
        "# Read input from advanced2\n",
        "with open(input_advanced2_dataroot, newline='') as csvfile:\n",
        "  input_advanced2_datalist = np.array(list(csv.reader(csvfile)))"
      ],
      "metadata": {
        "id": "DaZCe19m41g1"
      },
      "execution_count": null,
      "outputs": []
    },
    {
      "cell_type": "markdown",
      "source": [
        "### Handle the Input Data\n",
        "\n",
        "\n",
        "\n",
        "\n"
      ],
      "metadata": {
        "id": "i9_gh3lE5k7W"
      }
    },
    {
      "cell_type": "code",
      "source": [
        "temperature=[]\n",
        "case=[]\n",
        "temperatureA = list()\n",
        "caseA = list()\n",
        "temperatureB = list()\n",
        "caseB = list()\n",
        "temperatureC = list()\n",
        "caseC = list()\n",
        "#For temperatureA and caseA which deal with the data that not fit\n",
        "for i in range(1,105):\n",
        "  if input_datalist[i][1] != '' and float(input_datalist[i][1]) > 15 and float(input_datalist[i][1]) < 40: \n",
        "    temperatureA.append(float(input_datalist[i][1]))\n",
        "    caseA.append(int(input_datalist[i][4]))\n",
        "  else:\n",
        "    temperatureA.append(round(average_of_temperature[0], 2))\n",
        "    caseA.append(int(input_datalist[i][4]))\n",
        "#For temperatureB and caseB which deal with the data that not fit\n",
        "for j in range(1,105):\n",
        "  if input_datalist[j][2] != '' and float(input_datalist[j][2]) > 15 and float(input_datalist[j][2]) < 40: \n",
        "    temperatureB.append(float(input_datalist[j][2]))\n",
        "    caseB.append(int(input_datalist[j][5]))\n",
        "  else:\n",
        "    temperatureB.append(round(average_of_temperature[1], 2))\n",
        "    caseB.append(int(input_datalist[j][5]))\n",
        "#For temperatureC and caseC which deal with the data that not fit\n",
        "for k in range(1,105):\n",
        "  if input_datalist[k][3] != '' and float(input_datalist[k][3]) > 15 and float(input_datalist[k][3]) < 40: \n",
        "    temperatureC.append(float(input_datalist[k][3]))\n",
        "    caseC.append(int(input_datalist[k][6]))\n",
        "  else:\n",
        "    temperatureC.append(round(average_of_temperature[2], 2))\n",
        "    caseC.append(int(input_datalist[k][6]))\n",
        "\n",
        "temperature.append(temperatureA)\n",
        "temperature.append(temperatureB)\n",
        "temperature.append(temperatureC)\n",
        "case.append(caseA)\n",
        "case.append(caseB)\n",
        "case.append(caseC)\n"
      ],
      "metadata": {
        "id": "lDAAgPqeGEV4"
      },
      "execution_count": null,
      "outputs": []
    },
    {
      "cell_type": "code",
      "source": [
        "precipitation=[]\n",
        "precipitationA = list()\n",
        "precipitationB = list()\n",
        "precipitationC = list()\n",
        "sum_of_precipitation=[0,0,0]\n",
        "average_of_precipitation=[0,0,0]\n",
        "for i in range(1,105):\n",
        "    precipitationA.append(float(input_advanced1_datalist[i][1]))\n",
        "    precipitationB.append(float(input_advanced1_datalist[i][2]))\n",
        "    precipitationC.append(float(input_advanced1_datalist[i][3]))\n",
        "    for j in range(3):\n",
        "      sum_of_precipitation[j]+=float(input_advanced1_datalist[i][j+1])\n",
        "\n",
        "average_of_precipitation[0]=sum_of_precipitation[0]/100\n",
        "average_of_precipitation[1]=sum_of_precipitation[1]/101\n",
        "average_of_precipitation[2]=sum_of_precipitation[2]/98\n",
        "\n",
        "precipitation.append(precipitationA)\n",
        "precipitation.append(precipitationB)\n",
        "precipitation.append(precipitationC)\n",
        "\n",
        "for i in range(104):\n",
        "  for j in range(3):\n",
        "    if precipitation[j][i]==0:\n",
        "      precipitation[j][i]=round(average_of_precipitation[j],2)\n"
      ],
      "metadata": {
        "id": "nQFwaxSQRkXt"
      },
      "execution_count": null,
      "outputs": []
    },
    {
      "cell_type": "code",
      "source": [
        "population=list()\n",
        "elevation=list()\n",
        "for i in range(1,4):\n",
        "  population.append(int(input_advanced2_datalist[i][1])/1000000)\n",
        "  elevation.append(float(input_advanced2_datalist[i][25])/1000)"
      ],
      "metadata": {
        "id": "vmM_hFQuWIuS"
      },
      "execution_count": null,
      "outputs": []
    },
    {
      "cell_type": "markdown",
      "source": [
        "### Training\n",
        "\n",
        "\n",
        "\n",
        "\n"
      ],
      "metadata": {
        "id": "YKW8TpmK5rj3"
      }
    },
    {
      "cell_type": "code",
      "source": [
        "training_amount=65\n",
        "X=[]\n",
        "new_case=list()\n",
        "for i in range(2,training_amount):\n",
        "  temp1=list()\n",
        "  temp1.append(1)\n",
        "  temp1.append(temperature[0][i])\n",
        "  temp1.append(case[0][i-1])\n",
        "  temp1.append(case[0][i-2])\n",
        "  temp1.append(precipitation[0][i])\n",
        "  temp1.append(population[0])\n",
        "  temp1.append(elevation[0])\n",
        "  new_case.append(case[0][i])\n",
        "  X.append(temp1)\n",
        "for i in range(2,training_amount):\n",
        "  temp1=list()\n",
        "  temp1.append(1)\n",
        "  temp1.append(temperature[1][i])\n",
        "  temp1.append(case[1][i-1])\n",
        "  temp1.append(case[1][i-2])\n",
        "  temp1.append(precipitation[1][i])\n",
        "  temp1.append(population[1])\n",
        "  temp1.append(elevation[1])\n",
        "  new_case.append(case[1][i])\n",
        "  X.append(temp1)\n",
        "for i in range(2,training_amount):\n",
        "  temp1=list()\n",
        "  temp1.append(1)\n",
        "  temp1.append(temperature[2][i])\n",
        "  temp1.append(case[2][i-1])\n",
        "  temp1.append(case[2][i-2])\n",
        "  temp1.append(precipitation[2][i])\n",
        "  temp1.append(population[2])\n",
        "  temp1.append(elevation[2])\n",
        "  new_case.append(case[2][i])\n",
        "  X.append(temp1)\n",
        "w=np.linalg.lstsq(X,new_case,rcond=None)[0]\n"
      ],
      "metadata": {
        "id": "Lb2Yw2bGr3WX"
      },
      "execution_count": null,
      "outputs": []
    },
    {
      "cell_type": "markdown",
      "source": [
        "### Train Model and Generate Result\n",
        "\n",
        "\n",
        "\n",
        "\n"
      ],
      "metadata": {
        "id": "yDJU-9dz5ElH"
      }
    },
    {
      "cell_type": "code",
      "source": [
        "print(\"Model for all cities\")\n",
        "print(\"case(i) = \"+str(w[0])+\" - \"+str(-w[1])+\" * temp(i) + \"+str(w[2])+\" * case(i-1) + \"+str(w[3])+\" * case(i-2) - \"+str(-w[4])+\" * precipitation(i) + \"+str(w[5])+\" * population - \"+str(-w[6])+\" * elevation\")"
      ],
      "metadata": {
        "colab": {
          "base_uri": "https://localhost:8080/"
        },
        "id": "hFmahn7Yw7wF",
        "outputId": "9c6c847b-35a4-4690-9b96-43d72d051185"
      },
      "execution_count": null,
      "outputs": [
        {
          "output_type": "stream",
          "name": "stdout",
          "text": [
            "Model for all cities\n",
            "case(i) = 30.636072950263337 - 0.9578206642518188 * temp(i) + 0.6363323116291253 * case(i-1) + 0.22934741825657734 * case(i-2) - 0.18909985365354454 * precipitation(i) + 5.197446452383501 * population - 10.44192401258629 * elevation\n"
          ]
        }
      ]
    },
    {
      "cell_type": "markdown",
      "source": [
        "### Write the Output File\n",
        "\n",
        "\n",
        "\n"
      ],
      "metadata": {
        "id": "9sI5SsS_5OZ-"
      }
    },
    {
      "cell_type": "code",
      "source": [
        "output_datalist=[]\n",
        "for i in range(10):\n",
        "  ans_list=list()\n",
        "  ans_list.append(202143+i)\n",
        "  indexA=94+i\n",
        "  indexB=94+i\n",
        "  indexC=94+i\n",
        "  predict=w[0]+(temperature[0][indexA]*w[1])+(case[0][indexA-1]*w[2])+(case[0][indexA-2]*w[3])+(precipitation[0][indexA]*w[4])+(population[0]*w[5])+(elevation[0]*w[6])\n",
        "  case[0][indexA]=predict\n",
        "  ans_list.append(predict)\n",
        "  predict=w[0]+(temperature[1][indexB]*w[1])+(case[1][indexB-1]*w[2])+(case[1][indexB-2]*w[3])+(precipitation[1][indexB]*w[4])+(population[1]*w[5])+(elevation[1]*w[6])\n",
        "  case[1][indexB]=predict\n",
        "  ans_list.append(predict)\n",
        "  predict=w[0]+(temperature[2][indexC]*w[1])+(case[2][indexC-1]*w[2])+(case[2][indexC-2]*w[3])+(precipitation[2][indexC]*w[4])+(population[2]*w[5])+(elevation[2]*w[6])\n",
        "  case[2][indexC]=predict\n",
        "  ans_list.append(predict)\n",
        "  output_datalist.append(ans_list)\n"
      ],
      "metadata": {
        "id": "rja1HH67vN87"
      },
      "execution_count": null,
      "outputs": []
    },
    {
      "cell_type": "code",
      "source": [
        "with open(output_advanced_dataroot, 'w', newline='', encoding=\"utf-8\") as csvfile:\n",
        "  writer = csv.writer(csvfile)\n",
        "  for row in output_datalist:\n",
        "    writer.writerow(row)"
      ],
      "metadata": {
        "id": "2eOySBUdszCa"
      },
      "execution_count": null,
      "outputs": []
    },
    {
      "cell_type": "markdown",
      "source": [
        "# Report *(5%)*\n",
        "\n",
        "Report should be submitted as a pdf file **hw1_report.pdf**\n",
        "\n",
        "*   Briefly describe the difficulty you encountered \n",
        "*   Summarize your work and your reflections \n",
        "*   No more than one page\n",
        "\n",
        "\n",
        "\n",
        "\n"
      ],
      "metadata": {
        "id": "EtgCJU7FPeJL"
      }
    },
    {
      "cell_type": "markdown",
      "source": [
        "# Save the Code File\n",
        "Please save your code and submit it as an ipynb file! (**hw1.ipynb**)"
      ],
      "metadata": {
        "id": "hlEE53_MPf4W"
      }
    }
  ]
}